{
  "cells": [
    {
      "cell_type": "markdown",
      "metadata": {},
      "source": [
        "### Programa para calcular el área de un triángulo\n",
        "Autor: Edwin John Fredy Reyes Aguirre\n",
        "Fecha: 18-02-2015\n"
      ]
    },
    {
      "cell_type": "code",
      "execution_count": null,
      "metadata": {},
      "outputs": [
        {
          "name": "stdout",
          "output_type": "stream",
          "text": [
            "El área del triángulo es: 17.50\n"
          ]
        }
      ],
      "source": [
        "# Datos de entrada\n",
        "base = int(input('Digite la base del triángulo: '))\n",
        "altura = int(input('Digite la altura del triángulo: '))\n",
        "\n",
        "# proceso\n",
        "area_triangulo = (base * altura) / 2\n",
        "\n",
        "# Salida\n",
        "print(f'El área del triángulo es: {area_triangulo:.2f}')"
      ]
    }
  ],
  "metadata": {
    "kernelspec": {
      "display_name": "Python 3",
      "language": "python",
      "name": "python3"
    },
    "language_info": {
      "codemirror_mode": {
        "name": "ipython",
        "version": 3
      },
      "file_extension": ".py",
      "mimetype": "text/x-python",
      "name": "python",
      "nbconvert_exporter": "python",
      "pygments_lexer": "ipython3",
      "version": "3.13.1"
    }
  },
  "nbformat": 4,
  "nbformat_minor": 4
}

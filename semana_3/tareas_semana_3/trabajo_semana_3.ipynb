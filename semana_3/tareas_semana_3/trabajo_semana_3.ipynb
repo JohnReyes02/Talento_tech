{
  "cells": [
    {
      "cell_type": "raw",
      "metadata": {
        "vscode": {
          "languageId": "raw"
        }
      },
      "source": [
        "---\n",
        "author: Edwin John Fredy Reyes Aguirre\n",
        "date: '2025-02-24'\n",
        "title: Taller de Programación con Python\n",
        "format: \n",
        "  pdf:\n",
        "    geometry:\n",
        "      - top = 30mm\n",
        "      - left = 20mm\n",
        "      - right = 20 mm\n",
        "      - bottom = 20 mm\n",
        "    toc: true\n",
        "    toc-title: Tabla de Contenido\n",
        "    colorlinks: true\n",
        "execute:\n",
        "  echo: true\n",
        "jupyter: python3\n",
        "---"
      ]
    },
    {
      "cell_type": "markdown",
      "metadata": {},
      "source": [
        "\n",
        "### Ejercicio 1: Contador de números pares e impares\n",
        "\n",
        "Escribe un programa que pida al usuario una lista de 10 números enteros. El programa debe:\n",
        "\n",
        "• Contar cuántos de esos números son pares y cuántos son impares.\n",
        "\n",
        "• Mostrar el número total de pares e impares.\n",
        "\n",
        "Pistas:\n",
        "\n",
        "• Usa un ciclo for para recorrer la lista de números.\n",
        "\n",
        "• Usa un contador para contar pares e impares.\n",
        "\n",
        "• Recuerda que un número es par si su resto al dividir entre 2 es 0 (es decir, numero % 2 == 0).\n"
      ]
    },
    {
      "cell_type": "code",
      "execution_count": 9,
      "metadata": {},
      "outputs": [
        {
          "name": "stdout",
          "output_type": "stream",
          "text": [
            "Número 1: 23\n",
            "Número 2: 125\n",
            "Número 3: 57\n",
            "Número 4: 34\n",
            "Número 5: 52\n",
            "Número 6: 11\n",
            "Número 7: 7\n",
            "Número 8: 981\n",
            "Número 9: 1234\n",
            "Número 10: 9\n",
            "\n",
            "Números pares: 3\n",
            "Números impares: 7\n"
          ]
        }
      ],
      "source": [
        "CANTIDAD_ENTEROS = 10 # Cantidad de enteros a ingresar por el usuario\n",
        "pares = 0 # Inicializa el contador de numeros pares\n",
        "impares = 0 # Inicializa el contador de numeros impares\n",
        "\n",
        "for i in range(CANTIDAD_ENTEROS):\n",
        "    # Inicia bucle que se rompe solo cuando se ingresa un numero entero valido\n",
        "    while True:\n",
        "        try:\n",
        "            numero = int(input(f'Ingrese el número {i + 1}: '))\n",
        "            print(f'Número {i + 1}: {numero}')\n",
        "            if numero % 2 == 0:\n",
        "                pares += 1\n",
        "            else:\n",
        "                impares += 1\n",
        "            break # Sale del bucle interno cuando se ingresa un numero entero valido\n",
        "        except ValueError:\n",
        "            # Muestra el mensaje si no es un numero entero valido\n",
        "            print('Entrada no válida. Ingrese un número entero.') \n",
        "\n",
        "# Salida\n",
        "print(f'\\nNúmeros pares: {pares}')\n",
        "print(f'Números impares: {impares}')"
      ]
    },
    {
      "cell_type": "markdown",
      "metadata": {},
      "source": [
        "### Ejercicio 2: Suma de entreros positivos\n",
        "\n",
        "Programa que permita al usuario ingresar números de manera repetida. El programa debe:\n",
        "\n",
        "- Sumar solo los números positivos\n",
        "\n",
        "- Terminar cuando el usuario ingrese un número negativo.\n",
        "\n",
        "- Al finalizar, mostrar la suma total de los números positivos ingresados\n",
        "\n",
        "\n",
        "Pistas:\n",
        "\n",
        "- Usa un ciclo while para seguie pidiendo números al usuario.\n",
        "\n",
        "- Usa un acumulador para sumar solo los números positivos.\n",
        "\n"
      ]
    },
    {
      "cell_type": "code",
      "execution_count": 7,
      "metadata": {},
      "outputs": [
        {
          "name": "stdout",
          "output_type": "stream",
          "text": [
            "Digito el número: 34\n",
            "Digito el número: 54\n",
            "Digito el número: 12\n",
            "Digito el número: 67\n",
            "Digito el número: 25\n",
            "Digito el número: -1\n",
            "La Suma total de los números positivos fue: 192\n"
          ]
        }
      ],
      "source": [
        "suma = 0 # Inicializa la variable para almacenar la suma de enteros positivos\n",
        "while True:\n",
        "    try:\n",
        "        numero = int(input('Ingrese un número: '))\n",
        "        print(f'Digito el número: {numero}')\n",
        "        if numero >= 0:\n",
        "            suma += numero # Suma el numero si es positivo\n",
        "        else:\n",
        "            break # Sale del bucle si el numero es negativo\n",
        "    except ValueError:\n",
        "        # Ingresa en caso de que el dato del usuario no sea un numero\n",
        "        print('Entrada no válida. Ingrese un número entero.')\n",
        "\n",
        "print(f'La Suma total de los números positivos fue: {suma}')"
      ]
    },
    {
      "cell_type": "markdown",
      "metadata": {},
      "source": [
        "### Ejercicio 3: Contar vocales en una palabra\n",
        "\n",
        "Escribe un programa que pida al usuario que ingrese un palabra. El programa debe:\n",
        "\n",
        "- Contar cuantas vocales  (a, e, i , o, u) hay en la palabra.\n",
        "\n",
        "- Mostrar el número total de vocales.\n",
        "\n",
        "Pistas:\n",
        "\n",
        "- Usa un ciclo for para recorrer cada letra de la palabra.\n",
        "\n",
        "- Usa un contador para contar cuántas letras son vocales.\n",
        "\n",
        "- Puedes comparar las letras con una cadena que contenga \"aeiou\""
      ]
    },
    {
      "cell_type": "code",
      "execution_count": 3,
      "metadata": {},
      "outputs": [
        {
          "name": "stdout",
          "output_type": "stream",
          "text": [
            "La palabra 'murcielago' tiene 5 vocal(es).'\n"
          ]
        }
      ],
      "source": [
        "cuenta_vocales = 0\n",
        "palabra = input('Ingresa una palabra: ').lower() # convierte en minuscula la palabra\n",
        "for letra in palabra:\n",
        "    if letra in 'aeiou': # Verifica si la letra es una vocal\n",
        "        cuenta_vocales += 1\n",
        "\n",
        "print(f\"La palabra '{palabra}' tiene {cuenta_vocales} vocal(es).'\")"
      ]
    },
    {
      "cell_type": "markdown",
      "metadata": {},
      "source": [
        "### Ejercicio 4: Promedio de tres números\n",
        "\n",
        "Escriba un programa que pida al usuario tres números y luego calcule y muestre\n",
        "el promedio de esos números. La fórmula para calcular el promedio es:\n",
        "\n",
        "            Promedio = (número 1 + número 2 + número 3) / 3\n",
        "\n",
        "Instrucciones:\n",
        "\n",
        "1. Pida al usuario que ingrese tres números.\n",
        "2. Suma los tres números.\n",
        "3. Divide la suma entre 3 para obtener el promedio.\n",
        "4. Usa print() para mostrar el promedio."
      ]
    },
    {
      "cell_type": "code",
      "execution_count": 5,
      "metadata": {},
      "outputs": [
        {
          "name": "stdout",
          "output_type": "stream",
          "text": [
            "Nota 1: 4.5\n",
            "Nota 2: 5.0\n",
            "Nota 3: 3.7\n",
            "\n",
            "El promedio de las notas es 4.4\n"
          ]
        }
      ],
      "source": [
        "# Con manejo de errores\n",
        "suma = 0\n",
        "for n in range(3):\n",
        "    while True:\n",
        "        try:\n",
        "            nota = float(input(f'Ingrese la nota {n + 1}: '))\n",
        "            print(f'Nota {n + 1}: {nota}')\n",
        "            suma += nota\n",
        "            break\n",
        "        except ValueError:\n",
        "            print('Entrada no válida. Ingrese una nota')\n",
        "promedio = suma / 3\n",
        "print(f'\\nEl promedio de las notas es {promedio:.1f}')"
      ]
    },
    {
      "cell_type": "markdown",
      "metadata": {},
      "source": [
        "### Ejercicio 5: Adivina el número\n",
        "\n",
        "Escribe un programa que:\n",
        "\n",
        "1. Pida al usuario que adivine un número del 1 al 100.\n",
        "\n",
        "2. El programa debe dar pistas de si el número es mayor o menor que el número\n",
        "correcto.\n",
        "\n",
        "3. Si el número adivinado es correcto, termina el ciclo y muestra un mensaje de\n",
        "felicitación.\n",
        "\n",
        "4. El programa permite un máximo de 10 intentos. Si no acierta en esos intentos,\n",
        "termina el juego.\n",
        "\n",
        "Este ejercicio utiliza while para los intentos, if para dar las pistas y un for\n",
        "para contar los intentos.\n",
        "\n",
        "1. `while`: El ciclo while se encarga de seguir pidiendo al usuario que adivine el\n",
        "número mientras queden intentos. El ciclo que repite hasta que el usuario acierte\n",
        "o se acaben los intentos.\n",
        "\n",
        "2. `if`: Dentro del ciclo, usamos if para verificar si el número adivinado es el \n",
        "correcto. Dependiendo de la comparación, damos pistas (si el número es mayor o\n",
        "menor fque el correcto).\n",
        "\n",
        "3. Contador de intentos. Los intentos se cuentan usando la variable intentos. Se\n",
        "decrementan en cada intento.\n",
        "\n",
        "4. `break`: Si el usuario adivina el número correcto, usamos break para salir del \n",
        "ciclo\n"
      ]
    },
    {
      "cell_type": "code",
      "execution_count": null,
      "metadata": {},
      "outputs": [
        {
          "name": "stdout",
          "output_type": "stream",
          "text": [
            "El número es menor que 50. Te quedan 9                   \n",
            "intentos.\n",
            "El número es menor que 25. Te quedan 8                   \n",
            "intentos.\n",
            "El número es mayor que 12. Te quedan 7                   \n",
            "intentos.\n",
            "El número es mayor que 18. Te quedan 6                   \n",
            "intentos.\n",
            "El número es menor que 21. Te quedan 5                   \n",
            "intentos.\n",
            "\n",
            "¡Felicidades! Adivinaste el número '19' en                   \n",
            "6 intentos de 10.\n"
          ]
        }
      ],
      "source": [
        "'''\n",
        "Modifique un poco el ejercicio para que sea entre 1 y 100 y el número\n",
        "se genere de forma aleatoria y no se conozca hasta el final\n",
        "'''\n",
        "# Importar librerías\n",
        "import random # libreria que genera numeros aleatorios\n",
        "# Declaracion de constantes\n",
        "MAX_INTENTOS = 10 # Define el número máximo de intentos como una constante\n",
        "NUMERO_MINIMO = 1\n",
        "NUMERO_MAXIMO = 100\n",
        "\n",
        "# Genera un entero aleatorio entre un minimo y maximo maximo\n",
        "numero_a_adivinar = random.randint(NUMERO_MINIMO, NUMERO_MAXIMO)\n",
        "\n",
        "intentos_inicial = MAX_INTENTOS # Guarda el número de intentos iniciales\n",
        "intentos = MAX_INTENTOS\n",
        "\n",
        "while intentos > 0:\n",
        "    try:\n",
        "        # Solicita el numero diciendo entre que numeros debe estar\n",
        "        # y le muestra cuantos intentos puede usar para adivinar\n",
        "        numero = int(input(f'Adivina el número (entre {NUMERO_MINIMO} y \\\n",
        "                           {NUMERO_MAXIMO}) solo tienes {intentos} intentos: '))\n",
        "\n",
        "        # Muestra un error en caso que los numeros esten fuera del rango\n",
        "        if numero < NUMERO_MINIMO or numero > NUMERO_MAXIMO:\n",
        "            print(f'El número debe estar entre {NUMERO_MINIMO} y {NUMERO_MAXIMO}')\n",
        "            continue # Vuelve al inicio del ciclo sin decrementar los intentos\n",
        "\n",
        "        if numero > numero_a_adivinar:\n",
        "            print(f'El número es menor que {numero}. Te quedan {intentos - 1} \\\n",
        "                  \\nintentos.')\n",
        "        elif numero < numero_a_adivinar:\n",
        "            print(f'El número es mayor que {numero}. Te quedan {intentos - 1} \\\n",
        "                  \\nintentos.')\n",
        "        else:\n",
        "            print(f\"\\n¡Felicidades! Adivinaste el número '{numero}' en \\\n",
        "                  \\n{intentos_inicial - intentos + 1} intentos de {MAX_INTENTOS}.\")\n",
        "            break\n",
        "\n",
        "        intentos -= 1\n",
        "    \n",
        "    except ValueError:\n",
        "        # Muestra un error en caso de que le dato ingresado no sea un numero\n",
        "        print('Entrada inválida. Debes ingresar un número entero.')\n",
        "\n",
        "else:\n",
        "    print(f'\\n¡Lo siento! No adivinaste el número correcto. \\\n",
        "          \\nEl número era {numero_a_adivinar}.')"
      ]
    },
    {
      "cell_type": "code",
      "execution_count": null,
      "metadata": {},
      "outputs": [],
      "source": []
    }
  ],
  "metadata": {
    "kernelspec": {
      "display_name": "Python 3",
      "language": "python",
      "name": "python3"
    },
    "language_info": {
      "codemirror_mode": {
        "name": "ipython",
        "version": 3
      },
      "file_extension": ".py",
      "mimetype": "text/x-python",
      "name": "python",
      "nbconvert_exporter": "python",
      "pygments_lexer": "ipython3",
      "version": "3.13.1"
    }
  },
  "nbformat": 4,
  "nbformat_minor": 4
}

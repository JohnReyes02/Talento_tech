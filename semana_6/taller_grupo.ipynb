{
 "cells": [
  {
   "cell_type": "markdown",
   "metadata": {},
   "source": [
    "### Exploramos el dataset"
   ]
  },
  {
   "cell_type": "code",
   "execution_count": null,
   "metadata": {},
   "outputs": [],
   "source": [
    "# Importar librerías\n",
    "import pandas as pd\n",
    "import numpy as np\n",
    "import seaborn as sns\n",
    "import matplotlib.pyplot as plt"
   ]
  },
  {
   "cell_type": "code",
   "execution_count": null,
   "metadata": {},
   "outputs": [],
   "source": [
    "# Lecura\n",
    "ruta = '../semana_5/turistas_cartagena_data.csv'\n",
    "data = pd.read_csv(ruta)"
   ]
  },
  {
   "cell_type": "code",
   "execution_count": null,
   "metadata": {},
   "outputs": [],
   "source": [
    "print(data.shape)\n",
    "data.head()"
   ]
  },
  {
   "cell_type": "code",
   "execution_count": null,
   "metadata": {},
   "outputs": [],
   "source": [
    "data.info()"
   ]
  },
  {
   "cell_type": "markdown",
   "metadata": {},
   "source": [
    "### Limpieza de datos"
   ]
  },
  {
   "cell_type": "markdown",
   "metadata": {},
   "source": [
    "#### Datos Faltantes"
   ]
  },
  {
   "cell_type": "code",
   "execution_count": null,
   "metadata": {},
   "outputs": [],
   "source": [
    "# Imprimir registros con valores nulos a lo ancho\n",
    "print(data[data.isnull().any(axis=1)])"
   ]
  },
  {
   "cell_type": "code",
   "execution_count": null,
   "metadata": {},
   "outputs": [],
   "source": [
    "# Ver valores nulos\n",
    "print(data.isnull().sum())"
   ]
  },
  {
   "cell_type": "code",
   "execution_count": null,
   "metadata": {},
   "outputs": [],
   "source": [
    "# Eliminar las filas completamente vacías\n",
    "print(f'El tamaño del dataset antes de eliminar las filas vacías {data.shape}')\n",
    "data.dropna(how='all', inplace=True)\n",
    "print(f'El tamaño del dataset despues de eliminar las filas vacías {data.shape}')"
   ]
  },
  {
   "cell_type": "code",
   "execution_count": null,
   "metadata": {},
   "outputs": [],
   "source": [
    "# Rellenar 'Número de Visitantes' con la media\n",
    "data['Número de Visitantes'] = data['Número de Visitantes'].fillna(data['Número de Visitantes'].mean())\n",
    "data.info()"
   ]
  },
  {
   "cell_type": "markdown",
   "metadata": {},
   "source": [
    "#### Eliminar duplicados"
   ]
  },
  {
   "cell_type": "code",
   "execution_count": null,
   "metadata": {},
   "outputs": [],
   "source": [
    "# Identificar filas duplicadas\n",
    "data[data.duplicated()]"
   ]
  },
  {
   "cell_type": "code",
   "execution_count": null,
   "metadata": {},
   "outputs": [],
   "source": [
    "# Eliminar duplicados\n",
    "data.drop_duplicates(inplace=True)"
   ]
  },
  {
   "cell_type": "markdown",
   "metadata": {},
   "source": [
    "#### Verificar Columnas númericas"
   ]
  },
  {
   "cell_type": "code",
   "execution_count": null,
   "metadata": {},
   "outputs": [],
   "source": [
    "data.describe()"
   ]
  },
  {
   "cell_type": "markdown",
   "metadata": {},
   "source": [
    "#### Outliers en variables numéricas"
   ]
  },
  {
   "cell_type": "markdown",
   "metadata": {},
   "source": [
    "Usamos gráficos de boxplots para identificar datos atípicos:"
   ]
  },
  {
   "cell_type": "code",
   "execution_count": null,
   "metadata": {},
   "outputs": [],
   "source": [
    "# Seleccionamos solo las columnas numericas\n",
    "cols_num = data.select_dtypes(exclude='object').columns \n",
    "\n",
    "fig, ax = plt.subplots(nrows=3, ncols=3, figsize=(15,12))\n",
    "fig.subplots_adjust(hspace=0.5, wspace=0.1)\n",
    "\n",
    "# Aplanar la matriz de ejes para un acceso más fácil\n",
    "ax = ax.flatten()\n",
    "\n",
    "# Graficamos un boxplot por cada una de las columnas\n",
    "for i, col in enumerate(cols_num):\n",
    "    sns.boxplot(x=col, data=data, ax=ax[i])\n",
    "    ax[i].set_title(col)\n",
    "\n",
    "plt.show()"
   ]
  },
  {
   "cell_type": "markdown",
   "metadata": {},
   "source": [
    "Observaciones:\n",
    "- `Precipitación mm` tiene valores por debajo de 0 mm\n",
    "\n",
    "Una precipitación negativa no tiene sentido, así que hay que corregir estos valores:"
   ]
  },
  {
   "cell_type": "code",
   "execution_count": null,
   "metadata": {},
   "outputs": [],
   "source": [
    "# Reemplzar los valores de precipitacion menores de 0 por la media\n",
    "# Calcular el promedio solo con valores no negativos\n",
    "mean_value = data.loc[data['Precipitación (mm)'] >= 0, 'Precipitación (mm)'].mean()\n",
    "\n",
    "# Reemplazar los valores menores a 0 por el promedio corregido\n",
    "data.loc[data['Precipitación (mm)'] < 0, 'Precipitación (mm)'] = mean_value"
   ]
  },
  {
   "cell_type": "markdown",
   "metadata": {},
   "source": [
    "Guardamos el dataset limpio en un nuevo  archivo .csv:"
   ]
  },
  {
   "cell_type": "code",
   "execution_count": null,
   "metadata": {},
   "outputs": [],
   "source": [
    "ruta = '../semana_5/turistas_cartagena_data_clean.csv'\n",
    "data.to_csv(ruta)"
   ]
  },
  {
   "cell_type": "markdown",
   "metadata": {},
   "source": [
    "## Modelo de regresión (predecir visitantes)"
   ]
  },
  {
   "cell_type": "code",
   "execution_count": null,
   "metadata": {},
   "outputs": [],
   "source": [
    "data.describe().loc[['max', 'min']]"
   ]
  },
  {
   "cell_type": "markdown",
   "metadata": {},
   "source": [
    "#### Dividir el conjunto de datos en entrenamiento y prueba"
   ]
  },
  {
   "cell_type": "code",
   "execution_count": null,
   "metadata": {},
   "outputs": [],
   "source": [
    "from sklearn.model_selection import train_test_split\n",
    "\n",
    "columnas_a_normalizar = [\n",
    "    'Temperatura Media (°C)', 'Precipitación (mm)',\n",
    "    'Costo Promedio de Alojamiento (COP)', 'Tasa de Cambio (USD/COP)',\n",
    "    'Cantidad de Vuelos y Cruceros Disponibles'\n",
    "]\n",
    "\n",
    "X = data[columnas_a_normalizar]\n",
    "y = data['Número de Visitantes']\n",
    "\n",
    "X_train, X_test, y_train, y_test = train_test_split(X, y,\n",
    "                                                    test_size=0.2,\n",
    "                                                    random_state=42)\n",
    "\n",
    "print(X_train.shape, y_train.shape)\n",
    "print(X_test.shape, y_test.shape)"
   ]
  },
  {
   "cell_type": "markdown",
   "metadata": {},
   "source": [
    "#### Escalamiento de datos (MinMaxScaler)"
   ]
  },
  {
   "cell_type": "markdown",
   "metadata": {},
   "source": [
    "Hagamos primero el escalamiento del set de entrenamiento y vemos algunas características de esta operación."
   ]
  },
  {
   "cell_type": "code",
   "execution_count": null,
   "metadata": {},
   "outputs": [],
   "source": [
    "from sklearn.preprocessing import MinMaxScaler\n",
    "\n",
    "x_scaler = MinMaxScaler()\n",
    "\n",
    "# fit_transform: Calcular máximos/mínimos y escalar el set de entrenamiento\n",
    "X_train_scaled = x_scaler.fit_transform(X_train)\n",
    "\n",
    "# Algunas características del escalador\n",
    "print('Características del escalador ajustado:')\n",
    "print(x_scaler.data_min_) \n",
    "print(x_scaler.data_max_)\n",
    "\n",
    "# Resultado\n",
    "print('\\nResultado del escalamiento sobre \"X_train\":')\n",
    "print(f'Mínimos: {X_train_scaled.min(axis=0)}')\n",
    "print(f'Máximos: {X_train_scaled.max(axis=0)}')"
   ]
  },
  {
   "cell_type": "markdown",
   "metadata": {},
   "source": [
    "Ahora escalemos el set `X_test` usando el método `transform()`:"
   ]
  },
  {
   "cell_type": "code",
   "execution_count": null,
   "metadata": {},
   "outputs": [],
   "source": [
    "X_test_scaled = x_scaler.transform(X_test)\n",
    "\n",
    "print('Set de prueba: ')\n",
    "print(f'Máximos: {X_test_scaled.max(axis=0)}')\n",
    "print(f'Mínimos: {X_test_scaled.min(axis=0)}')"
   ]
  },
  {
   "cell_type": "markdown",
   "metadata": {},
   "source": [
    "### Entrenar el modelo"
   ]
  },
  {
   "cell_type": "code",
   "execution_count": null,
   "metadata": {},
   "outputs": [],
   "source": [
    "# Ahora si construir el modelo \n",
    "from sklearn.linear_model import LinearRegression\n",
    "\n",
    "# Crer el modelo de regresión lineal (instancia)\n",
    "lr = LinearRegression()\n",
    "\n",
    "# Entrenar el modelo\n",
    "lr.fit(X_train_scaled, y_train) # No es necesario escalar y_train"
   ]
  },
  {
   "cell_type": "markdown",
   "metadata": {},
   "source": [
    "### Generar predicciones"
   ]
  },
  {
   "cell_type": "markdown",
   "metadata": {},
   "source": [
    "Hacemos predicciones con el set de pruebas escalado y exploramos las predicciones mirando el valor máximo y mínimo de los resultados"
   ]
  },
  {
   "cell_type": "code",
   "execution_count": null,
   "metadata": {},
   "outputs": [],
   "source": [
    "# Predicción con el set de prueba\n",
    "y_test_pred = lr.predict(X_test_scaled) # \n",
    "\n",
    "print(f'Máximo: {y_test_pred.max()}')\n",
    "print(f'Mínimo: {y_test_pred.min()}')"
   ]
  },
  {
   "cell_type": "markdown",
   "metadata": {},
   "source": [
    "### Errores"
   ]
  },
  {
   "cell_type": "code",
   "execution_count": null,
   "metadata": {},
   "outputs": [],
   "source": [
    "from sklearn.metrics import mean_absolute_error, mean_squared_error\n",
    "\n",
    "mae = mean_absolute_error(y_test, y_test_pred)\n",
    "mse = mean_squared_error(y_test, y_test_pred)\n",
    "rmse = np.sqrt(mse)\n",
    "\n",
    "print(f'Error Absoluto Medio (MAE): {mae:.2f}')\n",
    "print(f'Error Cuadrático Medio (MSE): {mse:.2f}')\n",
    "print(f'Raíz Cuadrada del Error Cuadrático Medio (RMSE): {rmse:.2f}')"
   ]
  },
  {
   "cell_type": "code",
   "execution_count": null,
   "metadata": {},
   "outputs": [],
   "source": [
    "# Calcular el promedio de los valores reales\n",
    "promedio_reales = y_test.mean()\n",
    "\n",
    "# Comparar el MAE con ese promedio\n",
    "porcentaje_error_mae = (mae / promedio_reales) * 100\n",
    "\n",
    "\n",
    "print(f\"MAE representa un error del {porcentaje_error_mae:.2f}% respecto al promedio real de turistas.\")\n",
    "\n",
    "# Comparar el RMSE  con ese promedio\n",
    "porcentaje_error_mae = (rmse / promedio_reales) * 100\n",
    "print(f\"RMSE representa un error del {porcentaje_error_mae:.2f}% respecto al promedio real de turistas.\")\n"
   ]
  },
  {
   "cell_type": "markdown",
   "metadata": {},
   "source": [
    "### Bloque para probar el modelo con nuevos datos ingresados por el usuario"
   ]
  },
  {
   "cell_type": "code",
   "execution_count": null,
   "metadata": {},
   "outputs": [],
   "source": [
    "# 1. Solicitar al usuario que ingrese valores de las características:\n",
    "\n",
    "# Diccionario que va a almacenar los nuevos datos\n",
    "nuevos_datos = {\n",
    "    'Temperatura Media (°C)': [30],\n",
    "    'Precipitación (mm)': [5],\n",
    "    'Costo Promedio de Alojamiento (COP)': [200000],\n",
    "    'Tasa de Cambio (USD/COP)': [4000],\n",
    "    'Cantidad de Vuelos y Cruceros Disponibles': [50]\n",
    "}\n",
    "\n",
    "# 2. Crear un DataFrame con los datos ingresados\n",
    "nueva_data = pd.DataFrame(nuevos_datos)\n",
    "\n",
    "# 3. Escalar los datos ingresados usando el mismo x_scaler de entrenamiento\n",
    "nueva_data_escalada = x_scaler.transform(nueva_data)\n",
    "\n",
    "# 4. Realizar la predicción con el modelo entrenado\n",
    "nueva_prediccion = lr.predict(nueva_data_escalada)\n",
    "\n",
    "# 5. Mostrar la predicción\n",
    "print('\\nPredicción del número de Visitantes:')\n",
    "print(f'{nueva_prediccion[0]:.0f} turistas')\n"
   ]
  },
  {
   "cell_type": "markdown",
   "metadata": {},
   "source": [
    "## Modelo de Clasificación (Alta/Baja Ocupación Hotelera)"
   ]
  },
  {
   "cell_type": "markdown",
   "metadata": {},
   "source": [
    "### Crear variable categórica"
   ]
  },
  {
   "cell_type": "code",
   "execution_count": null,
   "metadata": {},
   "outputs": [],
   "source": [
    "data['Temporada'] = data['Ocupación Hotelera (%)'].apply(lambda x: 'Alta' if x >= 70 else 'Baja')\n",
    "data[['Ocupación Hotelera (%)', 'Temporada']].head()"
   ]
  },
  {
   "cell_type": "markdown",
   "metadata": {},
   "source": [
    "Exploramos la distribución de los datos:"
   ]
  },
  {
   "cell_type": "code",
   "execution_count": null,
   "metadata": {},
   "outputs": [],
   "source": [
    "sns.countplot(x='Temporada', data=data)\n",
    "plt.ylabel('Conteo')\n",
    "plt.title('Cantidad de datos en temporada Alta vs Baja')\n",
    "plt.show()\n",
    "data['Temporada'].value_counts()"
   ]
  },
  {
   "cell_type": "code",
   "execution_count": null,
   "metadata": {},
   "outputs": [],
   "source": [
    "data['Temporada'] = data['Temporada'].map({'Alta': 1, 'Baja': 0})\n",
    "data.head()"
   ]
  },
  {
   "cell_type": "markdown",
   "metadata": {},
   "source": [
    "### Random Forest Classifier"
   ]
  },
  {
   "cell_type": "markdown",
   "metadata": {},
   "source": [
    "#### Dividir el conjunto de datos en entrenamiento y prueba"
   ]
  },
  {
   "cell_type": "code",
   "execution_count": null,
   "metadata": {},
   "outputs": [],
   "source": [
    "columnas_entrenamiento = [\n",
    "    'Precipitación (mm)',\n",
    "    'Costo Promedio de Alojamiento (COP)', 'Tasa de Cambio (USD/COP)',\n",
    "    'Cantidad de Vuelos y Cruceros Disponibles'\n",
    "]\n",
    "\n",
    "X_class = data[columnas_entrenamiento]\n",
    "y_class = data['Temporada']\n",
    "\n",
    "# Partición\n",
    "Xc_train, Xc_test, yc_train, yc_test = train_test_split(X_class, y_class,\n",
    "                                                    test_size=0.2,\n",
    "                                                    random_state=42)\n",
    "\n",
    "# Imprimir tamaños resultantes\n",
    "print(f'Tamaño del set de entrenamiento: {Xc_train.shape} {yc_train.shape}')\n",
    "print(f'Tamaño del set de prueba: {Xc_test.shape} {yc_test.shape}')"
   ]
  },
  {
   "cell_type": "markdown",
   "metadata": {},
   "source": [
    "#### Entrenar el modelo de Bosque Aleatorio"
   ]
  },
  {
   "cell_type": "markdown",
   "metadata": {},
   "source": [
    "\n",
    "El entrenamiento sigue la misma lógica usada epara otros modelos de Scikit-Learn:\n",
    "\n",
    "1. Crear instancia del modelo\n",
    "2. Enrenar usando 'fit()' y el set de entrenamiento\n",
    "\n",
    "Crearemos un modelo con los hiper-parámetros por defecto:"
   ]
  },
  {
   "cell_type": "code",
   "execution_count": null,
   "metadata": {},
   "outputs": [],
   "source": [
    "from sklearn.ensemble import RandomForestClassifier\n",
    "\n",
    "# Crear el modelo de clasificación con RandomForest (instancia)\n",
    "model_class = RandomForestClassifier(random_state=42,\n",
    "                                     oob_score=True)\n",
    "\n",
    "# Entrenar el modelo, no es necesario escalar los valores\n",
    "model_class.fit(Xc_train, yc_train)"
   ]
  },
  {
   "cell_type": "markdown",
   "metadata": {},
   "source": [
    "#### Generar Predicciones"
   ]
  },
  {
   "cell_type": "code",
   "execution_count": null,
   "metadata": {},
   "outputs": [],
   "source": [
    "# Predicción con el set de prueba\n",
    "yc_test_pred = model_class.predict(Xc_test) "
   ]
  },
  {
   "cell_type": "markdown",
   "metadata": {},
   "source": [
    "#### Métricas para clasificación"
   ]
  },
  {
   "cell_type": "code",
   "execution_count": null,
   "metadata": {},
   "outputs": [],
   "source": [
    "from sklearn.metrics import accuracy_score, classification_report\n",
    "\n",
    "# Accuracy: porcentaje de predicciones correctas.\n",
    "# Precision: cuántos positivos predichos realmente lo son.\n",
    "# Recall: cuántos positivos reales se detectaron.\n",
    "# F1-score: balance entre precision y recall.\n",
    "\n",
    "print(\"Accuracy:\", accuracy_score(yc_test, yc_test_pred))\n",
    "print(\"\\nReporte de Clasificación:\")\n",
    "print(classification_report(yc_test, yc_test_pred))"
   ]
  },
  {
   "cell_type": "code",
   "execution_count": null,
   "metadata": {},
   "outputs": [],
   "source": [
    "nuevos_datos_class = {\n",
    "    'Temperatura Media (°C)': [30],\n",
    "    'Precipitación (mm)': [10],\n",
    "    'Costo Promedio de Alojamiento (COP)': [180000],\n",
    "    'Tasa de Cambio (USD/COP)': [4100],\n",
    "    'Cantidad de Vuelos y Cruceros Disponibles': [60]\n",
    "}\n",
    "\n",
    "# 2. Crear un DataFrame con los datos ingresados\n",
    "nueva_data_class = pd.DataFrame(nuevos_datos_class)\n",
    "\n",
    "# # 3. Escalar los datos ingresados usando el mismo x_scaler de entrenamiento\n",
    "# nueva_data_escalada = x_scaler.transform(nueva_data)\n",
    "\n",
    "# 4. Realizar la predicción con el modelo entrenado\n",
    "nueva_prediccion_class = model_class.predict(nueva_data_class)\n",
    "\n",
    "# Cambiamos nuevamente el 1 por Alta y el 0 por Baja para mayor comprensión del resultado\n",
    "nueva_prediccion_class_texto = pd.Series(nueva_prediccion_class).map({1: 'Alta', 0: 'Baja'})\n",
    "\n",
    "# 5. Mostrar la predicción\n",
    "print('\\nPredicción de la Temporada:')\n",
    "print(f'{nueva_prediccion_class_texto[0]}')"
   ]
  },
  {
   "cell_type": "code",
   "execution_count": null,
   "metadata": {},
   "outputs": [],
   "source": [
    "data.head()"
   ]
  }
 ],
 "metadata": {
  "kernelspec": {
   "display_name": "Python 3",
   "language": "python",
   "name": "python3"
  },
  "language_info": {
   "codemirror_mode": {
    "name": "ipython",
    "version": 3
   },
   "file_extension": ".py",
   "mimetype": "text/x-python",
   "name": "python",
   "nbconvert_exporter": "python",
   "pygments_lexer": "ipython3",
   "version": "3.13.1"
  }
 },
 "nbformat": 4,
 "nbformat_minor": 2
}

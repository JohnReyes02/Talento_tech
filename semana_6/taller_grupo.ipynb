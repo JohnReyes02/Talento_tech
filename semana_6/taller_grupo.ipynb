{
 "cells": [
  {
   "cell_type": "markdown",
   "metadata": {},
   "source": [
    "### Exploramos el dataset"
   ]
  },
  {
   "cell_type": "code",
   "execution_count": 1,
   "metadata": {},
   "outputs": [],
   "source": [
    "# Importar librerías\n",
    "import pandas as pd\n",
    "import numpy as np\n",
    "import seaborn as sns\n",
    "import matplotlib.pyplot as plt"
   ]
  },
  {
   "cell_type": "code",
   "execution_count": 2,
   "metadata": {},
   "outputs": [],
   "source": [
    "# Lecura\n",
    "ruta = '../semana_5/turistas_cartagena_data.csv'\n",
    "data = pd.read_csv(ruta)"
   ]
  },
  {
   "cell_type": "code",
   "execution_count": 3,
   "metadata": {},
   "outputs": [
    {
     "name": "stdout",
     "output_type": "stream",
     "text": [
      "(500, 10)\n"
     ]
    },
    {
     "data": {
      "text/html": [
       "<div>\n",
       "<style scoped>\n",
       "    .dataframe tbody tr th:only-of-type {\n",
       "        vertical-align: middle;\n",
       "    }\n",
       "\n",
       "    .dataframe tbody tr th {\n",
       "        vertical-align: top;\n",
       "    }\n",
       "\n",
       "    .dataframe thead th {\n",
       "        text-align: right;\n",
       "    }\n",
       "</style>\n",
       "<table border=\"1\" class=\"dataframe\">\n",
       "  <thead>\n",
       "    <tr style=\"text-align: right;\">\n",
       "      <th></th>\n",
       "      <th>Fecha</th>\n",
       "      <th>Número de Visitantes</th>\n",
       "      <th>Temperatura Media (°C)</th>\n",
       "      <th>Precipitación (mm)</th>\n",
       "      <th>Eventos Especiales</th>\n",
       "      <th>Costo Promedio de Alojamiento (COP)</th>\n",
       "      <th>Tasa de Cambio (USD/COP)</th>\n",
       "      <th>Promociones de Turismo</th>\n",
       "      <th>Cantidad de Vuelos y Cruceros Disponibles</th>\n",
       "      <th>Ocupación Hotelera (%)</th>\n",
       "    </tr>\n",
       "  </thead>\n",
       "  <tbody>\n",
       "    <tr>\n",
       "      <th>0</th>\n",
       "      <td>1982-12</td>\n",
       "      <td>126958.0</td>\n",
       "      <td>27.6</td>\n",
       "      <td>195.4</td>\n",
       "      <td>0.0</td>\n",
       "      <td>252889.0</td>\n",
       "      <td>3076.77</td>\n",
       "      <td>0.0</td>\n",
       "      <td>74.0</td>\n",
       "      <td>88.0</td>\n",
       "    </tr>\n",
       "    <tr>\n",
       "      <th>1</th>\n",
       "      <td>1983-01</td>\n",
       "      <td>136932.0</td>\n",
       "      <td>27.6</td>\n",
       "      <td>248.9</td>\n",
       "      <td>0.0</td>\n",
       "      <td>268933.0</td>\n",
       "      <td>3231.50</td>\n",
       "      <td>1.0</td>\n",
       "      <td>103.0</td>\n",
       "      <td>98.4</td>\n",
       "    </tr>\n",
       "    <tr>\n",
       "      <th>2</th>\n",
       "      <td>1983-02</td>\n",
       "      <td>108694.0</td>\n",
       "      <td>30.7</td>\n",
       "      <td>61.9</td>\n",
       "      <td>1.0</td>\n",
       "      <td>113428.0</td>\n",
       "      <td>3478.34</td>\n",
       "      <td>0.0</td>\n",
       "      <td>205.0</td>\n",
       "      <td>72.0</td>\n",
       "    </tr>\n",
       "    <tr>\n",
       "      <th>3</th>\n",
       "      <td>1983-03</td>\n",
       "      <td>124879.0</td>\n",
       "      <td>31.6</td>\n",
       "      <td>3.3</td>\n",
       "      <td>0.0</td>\n",
       "      <td>275006.0</td>\n",
       "      <td>3925.80</td>\n",
       "      <td>0.0</td>\n",
       "      <td>122.0</td>\n",
       "      <td>63.9</td>\n",
       "    </tr>\n",
       "    <tr>\n",
       "      <th>4</th>\n",
       "      <td>1983-04</td>\n",
       "      <td>115268.0</td>\n",
       "      <td>31.9</td>\n",
       "      <td>41.1</td>\n",
       "      <td>0.0</td>\n",
       "      <td>346627.0</td>\n",
       "      <td>3400.98</td>\n",
       "      <td>0.0</td>\n",
       "      <td>169.0</td>\n",
       "      <td>89.9</td>\n",
       "    </tr>\n",
       "  </tbody>\n",
       "</table>\n",
       "</div>"
      ],
      "text/plain": [
       "     Fecha  Número de Visitantes  Temperatura Media (°C)  Precipitación (mm)  \\\n",
       "0  1982-12              126958.0                    27.6               195.4   \n",
       "1  1983-01              136932.0                    27.6               248.9   \n",
       "2  1983-02              108694.0                    30.7                61.9   \n",
       "3  1983-03              124879.0                    31.6                 3.3   \n",
       "4  1983-04              115268.0                    31.9                41.1   \n",
       "\n",
       "   Eventos Especiales  Costo Promedio de Alojamiento (COP)  \\\n",
       "0                 0.0                             252889.0   \n",
       "1                 0.0                             268933.0   \n",
       "2                 1.0                             113428.0   \n",
       "3                 0.0                             275006.0   \n",
       "4                 0.0                             346627.0   \n",
       "\n",
       "   Tasa de Cambio (USD/COP)  Promociones de Turismo  \\\n",
       "0                   3076.77                     0.0   \n",
       "1                   3231.50                     1.0   \n",
       "2                   3478.34                     0.0   \n",
       "3                   3925.80                     0.0   \n",
       "4                   3400.98                     0.0   \n",
       "\n",
       "   Cantidad de Vuelos y Cruceros Disponibles  Ocupación Hotelera (%)  \n",
       "0                                       74.0                    88.0  \n",
       "1                                      103.0                    98.4  \n",
       "2                                      205.0                    72.0  \n",
       "3                                      122.0                    63.9  \n",
       "4                                      169.0                    89.9  "
      ]
     },
     "execution_count": 3,
     "metadata": {},
     "output_type": "execute_result"
    }
   ],
   "source": [
    "print(data.shape)\n",
    "data.head()"
   ]
  },
  {
   "cell_type": "code",
   "execution_count": 4,
   "metadata": {},
   "outputs": [
    {
     "name": "stdout",
     "output_type": "stream",
     "text": [
      "<class 'pandas.core.frame.DataFrame'>\n",
      "RangeIndex: 500 entries, 0 to 499\n",
      "Data columns (total 10 columns):\n",
      " #   Column                                     Non-Null Count  Dtype  \n",
      "---  ------                                     --------------  -----  \n",
      " 0   Fecha                                      495 non-null    object \n",
      " 1   Número de Visitantes                       485 non-null    float64\n",
      " 2   Temperatura Media (°C)                     495 non-null    float64\n",
      " 3   Precipitación (mm)                         495 non-null    float64\n",
      " 4   Eventos Especiales                         495 non-null    float64\n",
      " 5   Costo Promedio de Alojamiento (COP)        495 non-null    float64\n",
      " 6   Tasa de Cambio (USD/COP)                   495 non-null    float64\n",
      " 7   Promociones de Turismo                     495 non-null    float64\n",
      " 8   Cantidad de Vuelos y Cruceros Disponibles  495 non-null    float64\n",
      " 9   Ocupación Hotelera (%)                     495 non-null    float64\n",
      "dtypes: float64(9), object(1)\n",
      "memory usage: 39.2+ KB\n"
     ]
    }
   ],
   "source": [
    "data.info()"
   ]
  },
  {
   "cell_type": "markdown",
   "metadata": {},
   "source": [
    "### Limpieza de datos|"
   ]
  },
  {
   "cell_type": "markdown",
   "metadata": {},
   "source": [
    "#### Datos Faltantes"
   ]
  },
  {
   "cell_type": "code",
   "execution_count": 5,
   "metadata": {},
   "outputs": [
    {
     "name": "stdout",
     "output_type": "stream",
     "text": [
      "       Fecha  Número de Visitantes  Temperatura Media (°C)  \\\n",
      "6        NaN                   NaN                     NaN   \n",
      "7        NaN                   NaN                     NaN   \n",
      "8        NaN                   NaN                     NaN   \n",
      "9        NaN                   NaN                     NaN   \n",
      "10       NaN                   NaN                     NaN   \n",
      "12   1983-12                   NaN                    25.8   \n",
      "52   1987-03                   NaN                    28.2   \n",
      "57   1987-08                   NaN                    31.9   \n",
      "71   1988-10                   NaN                    31.1   \n",
      "114  1992-04                   NaN                    25.9   \n",
      "125  1993-03                   NaN                    28.1   \n",
      "140  1994-06                   NaN                    28.4   \n",
      "327  2009-10                   NaN                    30.7   \n",
      "377  2013-11                   NaN                    27.3   \n",
      "379  2014-01                   NaN                    25.0   \n",
      "\n",
      "     Precipitación (mm)  Eventos Especiales  \\\n",
      "6                   NaN                 NaN   \n",
      "7                   NaN                 NaN   \n",
      "8                   NaN                 NaN   \n",
      "9                   NaN                 NaN   \n",
      "10                  NaN                 NaN   \n",
      "12                125.6                 0.0   \n",
      "52                108.3                 0.0   \n",
      "57                133.8                 1.0   \n",
      "71                 11.8                 0.0   \n",
      "114               230.2                 0.0   \n",
      "125                33.1                 0.0   \n",
      "140               125.3                 0.0   \n",
      "327                87.5                 0.0   \n",
      "377                18.1                 0.0   \n",
      "379                47.9                 0.0   \n",
      "\n",
      "     Costo Promedio de Alojamiento (COP)  Tasa de Cambio (USD/COP)  \\\n",
      "6                                    NaN                       NaN   \n",
      "7                                    NaN                       NaN   \n",
      "8                                    NaN                       NaN   \n",
      "9                                    NaN                       NaN   \n",
      "10                                   NaN                       NaN   \n",
      "12                              355158.0                   2568.47   \n",
      "52                              432697.0                   2964.06   \n",
      "57                              384580.0                   3454.60   \n",
      "71                              364983.0                   2620.27   \n",
      "114                             166707.0                   3373.30   \n",
      "125                             390372.0                   2731.69   \n",
      "140                             260372.0                   2710.83   \n",
      "327                             457792.0                   2926.41   \n",
      "377                             150939.0                   3149.09   \n",
      "379                             287598.0                   2813.32   \n",
      "\n",
      "     Promociones de Turismo  Cantidad de Vuelos y Cruceros Disponibles  \\\n",
      "6                       NaN                                        NaN   \n",
      "7                       NaN                                        NaN   \n",
      "8                       NaN                                        NaN   \n",
      "9                       NaN                                        NaN   \n",
      "10                      NaN                                        NaN   \n",
      "12                      1.0                                      292.0   \n",
      "52                      0.0                                      222.0   \n",
      "57                      0.0                                      295.0   \n",
      "71                      1.0                                       89.0   \n",
      "114                     1.0                                      278.0   \n",
      "125                     0.0                                      183.0   \n",
      "140                     0.0                                      263.0   \n",
      "327                     0.0                                      188.0   \n",
      "377                     1.0                                      192.0   \n",
      "379                     0.0                                      253.0   \n",
      "\n",
      "     Ocupación Hotelera (%)  \n",
      "6                       NaN  \n",
      "7                       NaN  \n",
      "8                       NaN  \n",
      "9                       NaN  \n",
      "10                      NaN  \n",
      "12                     53.1  \n",
      "52                     74.6  \n",
      "57                     70.3  \n",
      "71                     68.6  \n",
      "114                    95.4  \n",
      "125                    91.4  \n",
      "140                    58.0  \n",
      "327                    83.1  \n",
      "377                    92.2  \n",
      "379                    75.7  \n"
     ]
    }
   ],
   "source": [
    "# Imprimir registros con valores nulos a lo ancho\n",
    "print(data[data.isnull().any(axis=1)])"
   ]
  },
  {
   "cell_type": "code",
   "execution_count": 6,
   "metadata": {},
   "outputs": [
    {
     "name": "stdout",
     "output_type": "stream",
     "text": [
      "Fecha                                         5\n",
      "Número de Visitantes                         15\n",
      "Temperatura Media (°C)                        5\n",
      "Precipitación (mm)                            5\n",
      "Eventos Especiales                            5\n",
      "Costo Promedio de Alojamiento (COP)           5\n",
      "Tasa de Cambio (USD/COP)                      5\n",
      "Promociones de Turismo                        5\n",
      "Cantidad de Vuelos y Cruceros Disponibles     5\n",
      "Ocupación Hotelera (%)                        5\n",
      "dtype: int64\n"
     ]
    }
   ],
   "source": [
    "# Ver valores nulos\n",
    "print(data.isnull().sum())"
   ]
  },
  {
   "cell_type": "code",
   "execution_count": 7,
   "metadata": {},
   "outputs": [
    {
     "name": "stdout",
     "output_type": "stream",
     "text": [
      "El tamaño del dataset antes de eliminar las filas vacías (500, 10)\n",
      "El tamaño del dataset despues de eliminar las filas vacías (495, 10)\n"
     ]
    }
   ],
   "source": [
    "# Eliminar las filas completamente vacías\n",
    "print(f'El tamaño del dataset antes de eliminar las filas vacías {data.shape}')\n",
    "data.dropna(how='all', inplace=True)\n",
    "print(f'El tamaño del dataset despues de eliminar las filas vacías {data.shape}')"
   ]
  },
  {
   "cell_type": "code",
   "execution_count": 8,
   "metadata": {},
   "outputs": [
    {
     "name": "stdout",
     "output_type": "stream",
     "text": [
      "<class 'pandas.core.frame.DataFrame'>\n",
      "Index: 495 entries, 0 to 499\n",
      "Data columns (total 10 columns):\n",
      " #   Column                                     Non-Null Count  Dtype  \n",
      "---  ------                                     --------------  -----  \n",
      " 0   Fecha                                      495 non-null    object \n",
      " 1   Número de Visitantes                       495 non-null    float64\n",
      " 2   Temperatura Media (°C)                     495 non-null    float64\n",
      " 3   Precipitación (mm)                         495 non-null    float64\n",
      " 4   Eventos Especiales                         495 non-null    float64\n",
      " 5   Costo Promedio de Alojamiento (COP)        495 non-null    float64\n",
      " 6   Tasa de Cambio (USD/COP)                   495 non-null    float64\n",
      " 7   Promociones de Turismo                     495 non-null    float64\n",
      " 8   Cantidad de Vuelos y Cruceros Disponibles  495 non-null    float64\n",
      " 9   Ocupación Hotelera (%)                     495 non-null    float64\n",
      "dtypes: float64(9), object(1)\n",
      "memory usage: 42.5+ KB\n"
     ]
    }
   ],
   "source": [
    "# Rellenar 'Número de Visitantes' con la media\n",
    "data['Número de Visitantes'] = data['Número de Visitantes'].fillna(data['Número de Visitantes'].mean())\n",
    "data.info()"
   ]
  },
  {
   "cell_type": "markdown",
   "metadata": {},
   "source": [
    "#### Eliminar duplicados"
   ]
  },
  {
   "cell_type": "code",
   "execution_count": 9,
   "metadata": {},
   "outputs": [
    {
     "data": {
      "text/html": [
       "<div>\n",
       "<style scoped>\n",
       "    .dataframe tbody tr th:only-of-type {\n",
       "        vertical-align: middle;\n",
       "    }\n",
       "\n",
       "    .dataframe tbody tr th {\n",
       "        vertical-align: top;\n",
       "    }\n",
       "\n",
       "    .dataframe thead th {\n",
       "        text-align: right;\n",
       "    }\n",
       "</style>\n",
       "<table border=\"1\" class=\"dataframe\">\n",
       "  <thead>\n",
       "    <tr style=\"text-align: right;\">\n",
       "      <th></th>\n",
       "      <th>Fecha</th>\n",
       "      <th>Número de Visitantes</th>\n",
       "      <th>Temperatura Media (°C)</th>\n",
       "      <th>Precipitación (mm)</th>\n",
       "      <th>Eventos Especiales</th>\n",
       "      <th>Costo Promedio de Alojamiento (COP)</th>\n",
       "      <th>Tasa de Cambio (USD/COP)</th>\n",
       "      <th>Promociones de Turismo</th>\n",
       "      <th>Cantidad de Vuelos y Cruceros Disponibles</th>\n",
       "      <th>Ocupación Hotelera (%)</th>\n",
       "    </tr>\n",
       "  </thead>\n",
       "  <tbody>\n",
       "  </tbody>\n",
       "</table>\n",
       "</div>"
      ],
      "text/plain": [
       "Empty DataFrame\n",
       "Columns: [Fecha, Número de Visitantes, Temperatura Media (°C), Precipitación (mm), Eventos Especiales, Costo Promedio de Alojamiento (COP), Tasa de Cambio (USD/COP), Promociones de Turismo, Cantidad de Vuelos y Cruceros Disponibles, Ocupación Hotelera (%)]\n",
       "Index: []"
      ]
     },
     "execution_count": 9,
     "metadata": {},
     "output_type": "execute_result"
    }
   ],
   "source": [
    "# Identificar filas duplicadas\n",
    "data[data.duplicated()]"
   ]
  },
  {
   "cell_type": "code",
   "execution_count": 10,
   "metadata": {},
   "outputs": [],
   "source": [
    "# Eliminar duplicados\n",
    "data.drop_duplicates(inplace=True)"
   ]
  },
  {
   "cell_type": "markdown",
   "metadata": {},
   "source": [
    "#### Verificar Columnas númericas"
   ]
  },
  {
   "cell_type": "code",
   "execution_count": 11,
   "metadata": {},
   "outputs": [
    {
     "data": {
      "text/html": [
       "<div>\n",
       "<style scoped>\n",
       "    .dataframe tbody tr th:only-of-type {\n",
       "        vertical-align: middle;\n",
       "    }\n",
       "\n",
       "    .dataframe tbody tr th {\n",
       "        vertical-align: top;\n",
       "    }\n",
       "\n",
       "    .dataframe thead th {\n",
       "        text-align: right;\n",
       "    }\n",
       "</style>\n",
       "<table border=\"1\" class=\"dataframe\">\n",
       "  <thead>\n",
       "    <tr style=\"text-align: right;\">\n",
       "      <th></th>\n",
       "      <th>Número de Visitantes</th>\n",
       "      <th>Temperatura Media (°C)</th>\n",
       "      <th>Precipitación (mm)</th>\n",
       "      <th>Eventos Especiales</th>\n",
       "      <th>Costo Promedio de Alojamiento (COP)</th>\n",
       "      <th>Tasa de Cambio (USD/COP)</th>\n",
       "      <th>Promociones de Turismo</th>\n",
       "      <th>Cantidad de Vuelos y Cruceros Disponibles</th>\n",
       "      <th>Ocupación Hotelera (%)</th>\n",
       "    </tr>\n",
       "  </thead>\n",
       "  <tbody>\n",
       "    <tr>\n",
       "      <th>count</th>\n",
       "      <td>495.000000</td>\n",
       "      <td>495.000000</td>\n",
       "      <td>495.000000</td>\n",
       "      <td>495.000000</td>\n",
       "      <td>495.000000</td>\n",
       "      <td>495.000000</td>\n",
       "      <td>495.000000</td>\n",
       "      <td>495.000000</td>\n",
       "      <td>495.000000</td>\n",
       "    </tr>\n",
       "    <tr>\n",
       "      <th>mean</th>\n",
       "      <td>79213.288660</td>\n",
       "      <td>28.427475</td>\n",
       "      <td>152.168485</td>\n",
       "      <td>0.187879</td>\n",
       "      <td>291329.464646</td>\n",
       "      <td>3228.464101</td>\n",
       "      <td>0.303030</td>\n",
       "      <td>177.006061</td>\n",
       "      <td>74.231717</td>\n",
       "    </tr>\n",
       "    <tr>\n",
       "      <th>std</th>\n",
       "      <td>42462.184309</td>\n",
       "      <td>2.038817</td>\n",
       "      <td>89.958267</td>\n",
       "      <td>0.391011</td>\n",
       "      <td>111495.245496</td>\n",
       "      <td>433.057422</td>\n",
       "      <td>0.460033</td>\n",
       "      <td>70.255966</td>\n",
       "      <td>14.271801</td>\n",
       "    </tr>\n",
       "    <tr>\n",
       "      <th>min</th>\n",
       "      <td>5769.000000</td>\n",
       "      <td>25.000000</td>\n",
       "      <td>-50.000000</td>\n",
       "      <td>0.000000</td>\n",
       "      <td>100781.000000</td>\n",
       "      <td>2500.200000</td>\n",
       "      <td>0.000000</td>\n",
       "      <td>50.000000</td>\n",
       "      <td>50.000000</td>\n",
       "    </tr>\n",
       "    <tr>\n",
       "      <th>25%</th>\n",
       "      <td>42284.500000</td>\n",
       "      <td>26.600000</td>\n",
       "      <td>70.000000</td>\n",
       "      <td>0.000000</td>\n",
       "      <td>196031.500000</td>\n",
       "      <td>2903.380000</td>\n",
       "      <td>0.000000</td>\n",
       "      <td>113.000000</td>\n",
       "      <td>61.850000</td>\n",
       "    </tr>\n",
       "    <tr>\n",
       "      <th>50%</th>\n",
       "      <td>81213.000000</td>\n",
       "      <td>28.400000</td>\n",
       "      <td>154.700000</td>\n",
       "      <td>0.000000</td>\n",
       "      <td>286987.000000</td>\n",
       "      <td>3214.660000</td>\n",
       "      <td>0.000000</td>\n",
       "      <td>181.000000</td>\n",
       "      <td>73.000000</td>\n",
       "    </tr>\n",
       "    <tr>\n",
       "      <th>75%</th>\n",
       "      <td>116688.000000</td>\n",
       "      <td>30.200000</td>\n",
       "      <td>230.800000</td>\n",
       "      <td>0.000000</td>\n",
       "      <td>383196.500000</td>\n",
       "      <td>3589.860000</td>\n",
       "      <td>1.000000</td>\n",
       "      <td>235.000000</td>\n",
       "      <td>87.050000</td>\n",
       "    </tr>\n",
       "    <tr>\n",
       "      <th>max</th>\n",
       "      <td>149572.000000</td>\n",
       "      <td>32.000000</td>\n",
       "      <td>299.400000</td>\n",
       "      <td>1.000000</td>\n",
       "      <td>499845.000000</td>\n",
       "      <td>3996.730000</td>\n",
       "      <td>1.000000</td>\n",
       "      <td>299.000000</td>\n",
       "      <td>100.000000</td>\n",
       "    </tr>\n",
       "  </tbody>\n",
       "</table>\n",
       "</div>"
      ],
      "text/plain": [
       "       Número de Visitantes  Temperatura Media (°C)  Precipitación (mm)  \\\n",
       "count            495.000000              495.000000          495.000000   \n",
       "mean           79213.288660               28.427475          152.168485   \n",
       "std            42462.184309                2.038817           89.958267   \n",
       "min             5769.000000               25.000000          -50.000000   \n",
       "25%            42284.500000               26.600000           70.000000   \n",
       "50%            81213.000000               28.400000          154.700000   \n",
       "75%           116688.000000               30.200000          230.800000   \n",
       "max           149572.000000               32.000000          299.400000   \n",
       "\n",
       "       Eventos Especiales  Costo Promedio de Alojamiento (COP)  \\\n",
       "count          495.000000                           495.000000   \n",
       "mean             0.187879                        291329.464646   \n",
       "std              0.391011                        111495.245496   \n",
       "min              0.000000                        100781.000000   \n",
       "25%              0.000000                        196031.500000   \n",
       "50%              0.000000                        286987.000000   \n",
       "75%              0.000000                        383196.500000   \n",
       "max              1.000000                        499845.000000   \n",
       "\n",
       "       Tasa de Cambio (USD/COP)  Promociones de Turismo  \\\n",
       "count                495.000000              495.000000   \n",
       "mean                3228.464101                0.303030   \n",
       "std                  433.057422                0.460033   \n",
       "min                 2500.200000                0.000000   \n",
       "25%                 2903.380000                0.000000   \n",
       "50%                 3214.660000                0.000000   \n",
       "75%                 3589.860000                1.000000   \n",
       "max                 3996.730000                1.000000   \n",
       "\n",
       "       Cantidad de Vuelos y Cruceros Disponibles  Ocupación Hotelera (%)  \n",
       "count                                 495.000000              495.000000  \n",
       "mean                                  177.006061               74.231717  \n",
       "std                                    70.255966               14.271801  \n",
       "min                                    50.000000               50.000000  \n",
       "25%                                   113.000000               61.850000  \n",
       "50%                                   181.000000               73.000000  \n",
       "75%                                   235.000000               87.050000  \n",
       "max                                   299.000000              100.000000  "
      ]
     },
     "execution_count": 11,
     "metadata": {},
     "output_type": "execute_result"
    }
   ],
   "source": [
    "data.describe()"
   ]
  },
  {
   "cell_type": "markdown",
   "metadata": {},
   "source": [
    "#### Outliers en variables numéricas"
   ]
  },
  {
   "cell_type": "markdown",
   "metadata": {},
   "source": [
    "Usamos gráficos de boxplots para identificar datos atípicos:"
   ]
  },
  {
   "cell_type": "code",
   "execution_count": 12,
   "metadata": {},
   "outputs": [
    {
     "data": {
      "image/png": "[encoded data removed]",
      "text/plain": [
       "<Figure size 1500x1200 with 9 Axes>"
      ]
     },
     "metadata": {},
     "output_type": "display_data"
    }
   ],
   "source": [
    "# Seleccionamos solo las columnas numericas\n",
    "cols_num = data.select_dtypes(exclude='object').columns \n",
    "\n",
    "fig, ax = plt.subplots(nrows=3, ncols=3, figsize=(15,12))\n",
    "fig.subplots_adjust(hspace=0.5, wspace=0.1)\n",
    "\n",
    "# Aplanar la matriz de ejes para un acceso más fácil\n",
    "ax = ax.flatten()\n",
    "\n",
    "# Graficamos un boxplot por cada una de las columnas\n",
    "for i, col in enumerate(cols_num):\n",
    "    sns.boxplot(x=col, data=data, ax=ax[i])\n",
    "    ax[i].set_title(col)\n",
    "\n",
    "plt.show()"
   ]
  },
  {
   "cell_type": "markdown",
   "metadata": {},
   "source": [
    "Observaciones:\n",
    "- `Precipitación mm` tiene valores por debajo de 0 mm"
   ]
  },
  {
   "cell_type": "code",
   "execution_count": 13,
   "metadata": {},
   "outputs": [],
   "source": [
    "# # Eliminamos las filas con 'Precipitación mm' < 0\n",
    "# print(f'Tamaño del set antes de eliminar registros de precipitación: {data.shape}')\n",
    "# data = data[data['Precipitación (mm)']<0]\n",
    "# print(f'Tamaño del set después de eliminar registros de precipitación: {data.shape}')\n",
    "\n",
    "# Reemplzar los valores de precipitacion menores de 0 por la media\n",
    "# Calcular el promedio solo con valores no negativos\n",
    "mean_value = data.loc[data['Precipitación (mm)'] >= 0, 'Precipitación (mm)'].mean()\n",
    "\n",
    "# Reemplazar los valores menores a 0 por el promedio corregido\n",
    "data.loc[data['Precipitación (mm)'] < 0, 'Precipitación (mm)'] = mean_value"
   ]
  },
  {
   "cell_type": "markdown",
   "metadata": {},
   "source": [
    "Guardamos el dataset limpio en un nuevo  archivo .csv:"
   ]
  },
  {
   "cell_type": "code",
   "execution_count": 14,
   "metadata": {},
   "outputs": [],
   "source": [
    "ruta = '../semana_5/turistas_cartagena_data_clean.csv'\n",
    "data.to_csv(ruta)"
   ]
  },
  {
   "cell_type": "code",
   "execution_count": 15,
   "metadata": {},
   "outputs": [
    {
     "data": {
      "text/plain": [
       "Index(['Fecha', 'Número de Visitantes', 'Temperatura Media (°C)',\n",
       "       'Precipitación (mm)', 'Eventos Especiales',\n",
       "       'Costo Promedio de Alojamiento (COP)', 'Tasa de Cambio (USD/COP)',\n",
       "       'Promociones de Turismo', 'Cantidad de Vuelos y Cruceros Disponibles',\n",
       "       'Ocupación Hotelera (%)'],\n",
       "      dtype='object')"
      ]
     },
     "execution_count": 15,
     "metadata": {},
     "output_type": "execute_result"
    }
   ],
   "source": [
    "data.columns"
   ]
  },
  {
   "cell_type": "markdown",
   "metadata": {},
   "source": [
    "### Modelo de regresión (predecir visitantes)"
   ]
  },
  {
   "cell_type": "code",
   "execution_count": 16,
   "metadata": {},
   "outputs": [
    {
     "data": {
      "text/html": [
       "<div>\n",
       "<style scoped>\n",
       "    .dataframe tbody tr th:only-of-type {\n",
       "        vertical-align: middle;\n",
       "    }\n",
       "\n",
       "    .dataframe tbody tr th {\n",
       "        vertical-align: top;\n",
       "    }\n",
       "\n",
       "    .dataframe thead th {\n",
       "        text-align: right;\n",
       "    }\n",
       "</style>\n",
       "<table border=\"1\" class=\"dataframe\">\n",
       "  <thead>\n",
       "    <tr style=\"text-align: right;\">\n",
       "      <th></th>\n",
       "      <th>Número de Visitantes</th>\n",
       "      <th>Temperatura Media (°C)</th>\n",
       "      <th>Precipitación (mm)</th>\n",
       "      <th>Eventos Especiales</th>\n",
       "      <th>Costo Promedio de Alojamiento (COP)</th>\n",
       "      <th>Tasa de Cambio (USD/COP)</th>\n",
       "      <th>Promociones de Turismo</th>\n",
       "      <th>Cantidad de Vuelos y Cruceros Disponibles</th>\n",
       "      <th>Ocupación Hotelera (%)</th>\n",
       "    </tr>\n",
       "  </thead>\n",
       "  <tbody>\n",
       "    <tr>\n",
       "      <th>max</th>\n",
       "      <td>149572.0</td>\n",
       "      <td>32.0</td>\n",
       "      <td>299.4</td>\n",
       "      <td>1.0</td>\n",
       "      <td>499845.0</td>\n",
       "      <td>3996.73</td>\n",
       "      <td>1.0</td>\n",
       "      <td>299.0</td>\n",
       "      <td>100.0</td>\n",
       "    </tr>\n",
       "    <tr>\n",
       "      <th>min</th>\n",
       "      <td>5769.0</td>\n",
       "      <td>25.0</td>\n",
       "      <td>1.5</td>\n",
       "      <td>0.0</td>\n",
       "      <td>100781.0</td>\n",
       "      <td>2500.20</td>\n",
       "      <td>0.0</td>\n",
       "      <td>50.0</td>\n",
       "      <td>50.0</td>\n",
       "    </tr>\n",
       "  </tbody>\n",
       "</table>\n",
       "</div>"
      ],
      "text/plain": [
       "     Número de Visitantes  Temperatura Media (°C)  Precipitación (mm)  \\\n",
       "max              149572.0                    32.0               299.4   \n",
       "min                5769.0                    25.0                 1.5   \n",
       "\n",
       "     Eventos Especiales  Costo Promedio de Alojamiento (COP)  \\\n",
       "max                 1.0                             499845.0   \n",
       "min                 0.0                             100781.0   \n",
       "\n",
       "     Tasa de Cambio (USD/COP)  Promociones de Turismo  \\\n",
       "max                   3996.73                     1.0   \n",
       "min                   2500.20                     0.0   \n",
       "\n",
       "     Cantidad de Vuelos y Cruceros Disponibles  Ocupación Hotelera (%)  \n",
       "max                                      299.0                   100.0  \n",
       "min                                       50.0                    50.0  "
      ]
     },
     "execution_count": 16,
     "metadata": {},
     "output_type": "execute_result"
    }
   ],
   "source": [
    "data.describe().loc[['max', 'min']]"
   ]
  },
  {
   "cell_type": "markdown",
   "metadata": {},
   "source": [
    "#### Dividir el conjunto de datos en entrenamiento y prueba"
   ]
  },
  {
   "cell_type": "code",
   "execution_count": 17,
   "metadata": {},
   "outputs": [
    {
     "name": "stdout",
     "output_type": "stream",
     "text": [
      "(396, 8) (396,)\n",
      "(99, 8) (99,)\n"
     ]
    }
   ],
   "source": [
    "from sklearn.model_selection import train_test_split\n",
    "\n",
    "X = data.drop(columns=['Fecha', 'Número de Visitantes']).to_numpy()\n",
    "y = data['Número de Visitantes'].to_numpy()\n",
    "\n",
    "X_train, X_test, y_train, y_test = train_test_split(X, y,\n",
    "                                                    test_size=0.2,\n",
    "                                                    random_state=42)\n",
    "\n",
    "print(X_train.shape, y_train.shape)\n",
    "print(X_test.shape, y_test.shape)"
   ]
  },
  {
   "cell_type": "markdown",
   "metadata": {},
   "source": [
    "#### Escalamiento de datos (MinMaxScaler)"
   ]
  },
  {
   "cell_type": "markdown",
   "metadata": {},
   "source": [
    "Hagamos primero el escalamiento del set de entrenamiento y vemos algunas características de esta operación."
   ]
  },
  {
   "cell_type": "code",
   "execution_count": 18,
   "metadata": {},
   "outputs": [
    {
     "name": "stdout",
     "output_type": "stream",
     "text": [
      "Características del escalador ajustado:\n",
      "[2.50000e+01 1.50000e+00 0.00000e+00 1.00781e+05 2.50020e+03 0.00000e+00\n",
      " 5.00000e+01 5.00000e+01]\n",
      "[3.20000e+01 2.99400e+02 1.00000e+00 4.95755e+05 3.99673e+03 1.00000e+00\n",
      " 2.99000e+02 9.95000e+01]\n",
      "\n",
      "Resultado del escalamiento sobre \"X_train\":\n",
      "Mínimos: [0. 0. 0. 0. 0. 0. 0. 0.]\n",
      "Máximos: [1. 1. 1. 1. 1. 1. 1. 1.]\n"
     ]
    }
   ],
   "source": [
    "from sklearn.preprocessing import MinMaxScaler\n",
    "\n",
    "x_scaler = MinMaxScaler()\n",
    "\n",
    "# fit_transform: Calcular máximos/mínimos y escalar el set de entrenamiento\n",
    "X_train_scaled = x_scaler.fit_transform(X_train)\n",
    "\n",
    "# Algunas características del escalador\n",
    "print('Características del escalador ajustado:')\n",
    "print(x_scaler.data_min_) \n",
    "print(x_scaler.data_max_)\n",
    "\n",
    "# Resultado\n",
    "print('\\nResultado del escalamiento sobre \"X_train\":')\n",
    "print(f'Mínimos: {X_train_scaled.min(axis=0)}')\n",
    "print(f'Máximos: {X_train_scaled.max(axis=0)}')"
   ]
  },
  {
   "cell_type": "markdown",
   "metadata": {},
   "source": [
    "Ahora escalar y_train, usamos otro escalador:"
   ]
  },
  {
   "cell_type": "code",
   "execution_count": 19,
   "metadata": {},
   "outputs": [
    {
     "name": "stdout",
     "output_type": "stream",
     "text": [
      "(396,)\n",
      "(396, 1)\n"
     ]
    }
   ],
   "source": [
    "# Ajuste para evitar errores\n",
    "print(y_train.shape)\n",
    "y_train = y_train.reshape(-1, 1)\n",
    "print(y_train.shape)"
   ]
  },
  {
   "cell_type": "code",
   "execution_count": 20,
   "metadata": {},
   "outputs": [
    {
     "name": "stdout",
     "output_type": "stream",
     "text": [
      "Características del escalador ajustado:\n",
      "[6016.]\n",
      "[149572.]\n",
      "\n",
      "Resultado del escalamiento sobre \"y_train\":\n",
      "Mínimos: [0.]\n",
      "Máximos: [1.]\n"
     ]
    }
   ],
   "source": [
    "y_scaler = MinMaxScaler()\n",
    "\n",
    "# fit_transform: Calcular máximos/mínimos y escalar el set de entrenamiento\n",
    "y_train_scaled = y_scaler.fit_transform(y_train)\n",
    "\n",
    "# Algunas características del escalador\n",
    "print('Características del escalador ajustado:')\n",
    "print(y_scaler.data_min_) \n",
    "print(y_scaler.data_max_)\n",
    "\n",
    "# Resultado\n",
    "print('\\nResultado del escalamiento sobre \"y_train\":')\n",
    "print(f'Mínimos: {y_train_scaled.min(axis=0)}')\n",
    "print(f'Máximos: {y_train_scaled.max(axis=0)}')"
   ]
  },
  {
   "cell_type": "markdown",
   "metadata": {},
   "source": [
    "Ahora escalemos el set `X_test` usando el método `transform()`:"
   ]
  },
  {
   "cell_type": "code",
   "execution_count": 21,
   "metadata": {},
   "outputs": [
    {
     "name": "stdout",
     "output_type": "stream",
     "text": [
      "Set de prueba: \n",
      "Máximos: [1.         0.97784491 1.         1.01035511 0.99019064 1.\n",
      " 1.         1.01010101]\n",
      "Mínimos: [0.01428571 0.01309164 0.         0.01094756 0.00122283 0.\n",
      " 0.00401606 0.01010101]\n"
     ]
    }
   ],
   "source": [
    "X_test_scaled = x_scaler.transform(X_test)\n",
    "\n",
    "print('Set de prueba: ')\n",
    "print(f'Máximos: {X_test_scaled.max(axis=0)}')\n",
    "print(f'Mínimos: {X_test_scaled.min(axis=0)}')"
   ]
  },
  {
   "cell_type": "markdown",
   "metadata": {},
   "source": [
    "### Entrenar el modelo"
   ]
  },
  {
   "cell_type": "code",
   "execution_count": 22,
   "metadata": {},
   "outputs": [
    {
     "data": {
      "text/html": [
       "<style>#sk-container-id-1 {\n",
       "  /* Definition of color scheme common for light and dark mode */\n",
       "  --sklearn-color-text: #000;\n",
       "  --sklearn-color-text-muted: #666;\n",
       "  --sklearn-color-line: gray;\n",
       "  /* Definition of color scheme for unfitted estimators */\n",
       "  --sklearn-color-unfitted-level-0: #fff5e6;\n",
       "  --sklearn-color-unfitted-level-1: #f6e4d2;\n",
       "  --sklearn-color-unfitted-level-2: #ffe0b3;\n",
       "  --sklearn-color-unfitted-level-3: chocolate;\n",
       "  /* Definition of color scheme for fitted estimators */\n",
       "  --sklearn-color-fitted-level-0: #f0f8ff;\n",
       "  --sklearn-color-fitted-level-1: #d4ebff;\n",
       "  --sklearn-color-fitted-level-2: #b3dbfd;\n",
       "  --sklearn-color-fitted-level-3: cornflowerblue;\n",
       "\n",
       "  /* Specific color for light theme */\n",
       "  --sklearn-color-text-on-default-background: var(--sg-text-color, var(--theme-code-foreground, var(--jp-content-font-color1, black)));\n",
       "  --sklearn-color-background: var(--sg-background-color, var(--theme-background, var(--jp-layout-color0, white)));\n",
       "  --sklearn-color-border-box: var(--sg-text-color, var(--theme-code-foreground, var(--jp-content-font-color1, black)));\n",
       "  --sklearn-color-icon: #696969;\n",
       "\n",
       "  @media (prefers-color-scheme: dark) {\n",
       "    /* Redefinition of color scheme for dark theme */\n",
       "    --sklearn-color-text-on-default-background: var(--sg-text-color, var(--theme-code-foreground, var(--jp-content-font-color1, white)));\n",
       "    --sklearn-color-background: var(--sg-background-color, var(--theme-background, var(--jp-layout-color0, #111)));\n",
       "    --sklearn-color-border-box: var(--sg-text-color, var(--theme-code-foreground, var(--jp-content-font-color1, white)));\n",
       "    --sklearn-color-icon: #878787;\n",
       "  }\n",
       "}\n",
       "\n",
       "#sk-container-id-1 {\n",
       "  color: var(--sklearn-color-text);\n",
       "}\n",
       "\n",
       "#sk-container-id-1 pre {\n",
       "  padding: 0;\n",
       "}\n",
       "\n",
       "#sk-container-id-1 input.sk-hidden--visually {\n",
       "  border: 0;\n",
       "  clip: rect(1px 1px 1px 1px);\n",
       "  clip: rect(1px, 1px, 1px, 1px);\n",
       "  height: 1px;\n",
       "  margin: -1px;\n",
       "  overflow: hidden;\n",
       "  padding: 0;\n",
       "  position: absolute;\n",
       "  width: 1px;\n",
       "}\n",
       "\n",
       "#sk-container-id-1 div.sk-dashed-wrapped {\n",
       "  border: 1px dashed var(--sklearn-color-line);\n",
       "  margin: 0 0.4em 0.5em 0.4em;\n",
       "  box-sizing: border-box;\n",
       "  padding-bottom: 0.4em;\n",
       "  background-color: var(--sklearn-color-background);\n",
       "}\n",
       "\n",
       "#sk-container-id-1 div.sk-container {\n",
       "  /* jupyter's `normalize.less` sets `[hidden] { display: none; }`\n",
       "     but bootstrap.min.css set `[hidden] { display: none !important; }`\n",
       "     so we also need the `!important` here to be able to override the\n",
       "     default hidden behavior on the sphinx rendered scikit-learn.org.\n",
       "     See: https://github.com/scikit-learn/scikit-learn/issues/21755 */\n",
       "  display: inline-block !important;\n",
       "  position: relative;\n",
       "}\n",
       "\n",
       "#sk-container-id-1 div.sk-text-repr-fallback {\n",
       "  display: none;\n",
       "}\n",
       "\n",
       "div.sk-parallel-item,\n",
       "div.sk-serial,\n",
       "div.sk-item {\n",
       "  /* draw centered vertical line to link estimators */\n",
       "  background-image: linear-gradient(var(--sklearn-color-text-on-default-background), var(--sklearn-color-text-on-default-background));\n",
       "  background-size: 2px 100%;\n",
       "  background-repeat: no-repeat;\n",
       "  background-position: center center;\n",
       "}\n",
       "\n",
       "/* Parallel-specific style estimator block */\n",
       "\n",
       "#sk-container-id-1 div.sk-parallel-item::after {\n",
       "  content: \"\";\n",
       "  width: 100%;\n",
       "  border-bottom: 2px solid var(--sklearn-color-text-on-default-background);\n",
       "  flex-grow: 1;\n",
       "}\n",
       "\n",
       "#sk-container-id-1 div.sk-parallel {\n",
       "  display: flex;\n",
       "  align-items: stretch;\n",
       "  justify-content: center;\n",
       "  background-color: var(--sklearn-color-background);\n",
       "  position: relative;\n",
       "}\n",
       "\n",
       "#sk-container-id-1 div.sk-parallel-item {\n",
       "  display: flex;\n",
       "  flex-direction: column;\n",
       "}\n",
       "\n",
       "#sk-container-id-1 div.sk-parallel-item:first-child::after {\n",
       "  align-self: flex-end;\n",
       "  width: 50%;\n",
       "}\n",
       "\n",
       "#sk-container-id-1 div.sk-parallel-item:last-child::after {\n",
       "  align-self: flex-start;\n",
       "  width: 50%;\n",
       "}\n",
       "\n",
       "#sk-container-id-1 div.sk-parallel-item:only-child::after {\n",
       "  width: 0;\n",
       "}\n",
       "\n",
       "/* Serial-specific style estimator block */\n",
       "\n",
       "#sk-container-id-1 div.sk-serial {\n",
       "  display: flex;\n",
       "  flex-direction: column;\n",
       "  align-items: center;\n",
       "  background-color: var(--sklearn-color-background);\n",
       "  padding-right: 1em;\n",
       "  padding-left: 1em;\n",
       "}\n",
       "\n",
       "\n",
       "/* Toggleable style: style used for estimator/Pipeline/ColumnTransformer box that is\n",
       "clickable and can be expanded/collapsed.\n",
       "- Pipeline and ColumnTransformer use this feature and define the default style\n",
       "- Estimators will overwrite some part of the style using the `sk-estimator` class\n",
       "*/\n",
       "\n",
       "/* Pipeline and ColumnTransformer style (default) */\n",
       "\n",
       "#sk-container-id-1 div.sk-toggleable {\n",
       "  /* Default theme specific background. It is overwritten whether we have a\n",
       "  specific estimator or a Pipeline/ColumnTransformer */\n",
       "  background-color: var(--sklearn-color-background);\n",
       "}\n",
       "\n",
       "/* Toggleable label */\n",
       "#sk-container-id-1 label.sk-toggleable__label {\n",
       "  cursor: pointer;\n",
       "  display: flex;\n",
       "  width: 100%;\n",
       "  margin-bottom: 0;\n",
       "  padding: 0.5em;\n",
       "  box-sizing: border-box;\n",
       "  text-align: center;\n",
       "  align-items: start;\n",
       "  justify-content: space-between;\n",
       "  gap: 0.5em;\n",
       "}\n",
       "\n",
       "#sk-container-id-1 label.sk-toggleable__label .caption {\n",
       "  font-size: 0.6rem;\n",
       "  font-weight: lighter;\n",
       "  color: var(--sklearn-color-text-muted);\n",
       "}\n",
       "\n",
       "#sk-container-id-1 label.sk-toggleable__label-arrow:before {\n",
       "  /* Arrow on the left of the label */\n",
       "  content: \"▸\";\n",
       "  float: left;\n",
       "  margin-right: 0.25em;\n",
       "  color: var(--sklearn-color-icon);\n",
       "}\n",
       "\n",
       "#sk-container-id-1 label.sk-toggleable__label-arrow:hover:before {\n",
       "  color: var(--sklearn-color-text);\n",
       "}\n",
       "\n",
       "/* Toggleable content - dropdown */\n",
       "\n",
       "#sk-container-id-1 div.sk-toggleable__content {\n",
       "  max-height: 0;\n",
       "  max-width: 0;\n",
       "  overflow: hidden;\n",
       "  text-align: left;\n",
       "  /* unfitted */\n",
       "  background-color: var(--sklearn-color-unfitted-level-0);\n",
       "}\n",
       "\n",
       "#sk-container-id-1 div.sk-toggleable__content.fitted {\n",
       "  /* fitted */\n",
       "  background-color: var(--sklearn-color-fitted-level-0);\n",
       "}\n",
       "\n",
       "#sk-container-id-1 div.sk-toggleable__content pre {\n",
       "  margin: 0.2em;\n",
       "  border-radius: 0.25em;\n",
       "  color: var(--sklearn-color-text);\n",
       "  /* unfitted */\n",
       "  background-color: var(--sklearn-color-unfitted-level-0);\n",
       "}\n",
       "\n",
       "#sk-container-id-1 div.sk-toggleable__content.fitted pre {\n",
       "  /* unfitted */\n",
       "  background-color: var(--sklearn-color-fitted-level-0);\n",
       "}\n",
       "\n",
       "#sk-container-id-1 input.sk-toggleable__control:checked~div.sk-toggleable__content {\n",
       "  /* Expand drop-down */\n",
       "  max-height: 200px;\n",
       "  max-width: 100%;\n",
       "  overflow: auto;\n",
       "}\n",
       "\n",
       "#sk-container-id-1 input.sk-toggleable__control:checked~label.sk-toggleable__label-arrow:before {\n",
       "  content: \"▾\";\n",
       "}\n",
       "\n",
       "/* Pipeline/ColumnTransformer-specific style */\n",
       "\n",
       "#sk-container-id-1 div.sk-label input.sk-toggleable__control:checked~label.sk-toggleable__label {\n",
       "  color: var(--sklearn-color-text);\n",
       "  background-color: var(--sklearn-color-unfitted-level-2);\n",
       "}\n",
       "\n",
       "#sk-container-id-1 div.sk-label.fitted input.sk-toggleable__control:checked~label.sk-toggleable__label {\n",
       "  background-color: var(--sklearn-color-fitted-level-2);\n",
       "}\n",
       "\n",
       "/* Estimator-specific style */\n",
       "\n",
       "/* Colorize estimator box */\n",
       "#sk-container-id-1 div.sk-estimator input.sk-toggleable__control:checked~label.sk-toggleable__label {\n",
       "  /* unfitted */\n",
       "  background-color: var(--sklearn-color-unfitted-level-2);\n",
       "}\n",
       "\n",
       "#sk-container-id-1 div.sk-estimator.fitted input.sk-toggleable__control:checked~label.sk-toggleable__label {\n",
       "  /* fitted */\n",
       "  background-color: var(--sklearn-color-fitted-level-2);\n",
       "}\n",
       "\n",
       "#sk-container-id-1 div.sk-label label.sk-toggleable__label,\n",
       "#sk-container-id-1 div.sk-label label {\n",
       "  /* The background is the default theme color */\n",
       "  color: var(--sklearn-color-text-on-default-background);\n",
       "}\n",
       "\n",
       "/* On hover, darken the color of the background */\n",
       "#sk-container-id-1 div.sk-label:hover label.sk-toggleable__label {\n",
       "  color: var(--sklearn-color-text);\n",
       "  background-color: var(--sklearn-color-unfitted-level-2);\n",
       "}\n",
       "\n",
       "/* Label box, darken color on hover, fitted */\n",
       "#sk-container-id-1 div.sk-label.fitted:hover label.sk-toggleable__label.fitted {\n",
       "  color: var(--sklearn-color-text);\n",
       "  background-color: var(--sklearn-color-fitted-level-2);\n",
       "}\n",
       "\n",
       "/* Estimator label */\n",
       "\n",
       "#sk-container-id-1 div.sk-label label {\n",
       "  font-family: monospace;\n",
       "  font-weight: bold;\n",
       "  display: inline-block;\n",
       "  line-height: 1.2em;\n",
       "}\n",
       "\n",
       "#sk-container-id-1 div.sk-label-container {\n",
       "  text-align: center;\n",
       "}\n",
       "\n",
       "/* Estimator-specific */\n",
       "#sk-container-id-1 div.sk-estimator {\n",
       "  font-family: monospace;\n",
       "  border: 1px dotted var(--sklearn-color-border-box);\n",
       "  border-radius: 0.25em;\n",
       "  box-sizing: border-box;\n",
       "  margin-bottom: 0.5em;\n",
       "  /* unfitted */\n",
       "  background-color: var(--sklearn-color-unfitted-level-0);\n",
       "}\n",
       "\n",
       "#sk-container-id-1 div.sk-estimator.fitted {\n",
       "  /* fitted */\n",
       "  background-color: var(--sklearn-color-fitted-level-0);\n",
       "}\n",
       "\n",
       "/* on hover */\n",
       "#sk-container-id-1 div.sk-estimator:hover {\n",
       "  /* unfitted */\n",
       "  background-color: var(--sklearn-color-unfitted-level-2);\n",
       "}\n",
       "\n",
       "#sk-container-id-1 div.sk-estimator.fitted:hover {\n",
       "  /* fitted */\n",
       "  background-color: var(--sklearn-color-fitted-level-2);\n",
       "}\n",
       "\n",
       "/* Specification for estimator info (e.g. \"i\" and \"?\") */\n",
       "\n",
       "/* Common style for \"i\" and \"?\" */\n",
       "\n",
       ".sk-estimator-doc-link,\n",
       "a:link.sk-estimator-doc-link,\n",
       "a:visited.sk-estimator-doc-link {\n",
       "  float: right;\n",
       "  font-size: smaller;\n",
       "  line-height: 1em;\n",
       "  font-family: monospace;\n",
       "  background-color: var(--sklearn-color-background);\n",
       "  border-radius: 1em;\n",
       "  height: 1em;\n",
       "  width: 1em;\n",
       "  text-decoration: none !important;\n",
       "  margin-left: 0.5em;\n",
       "  text-align: center;\n",
       "  /* unfitted */\n",
       "  border: var(--sklearn-color-unfitted-level-1) 1pt solid;\n",
       "  color: var(--sklearn-color-unfitted-level-1);\n",
       "}\n",
       "\n",
       ".sk-estimator-doc-link.fitted,\n",
       "a:link.sk-estimator-doc-link.fitted,\n",
       "a:visited.sk-estimator-doc-link.fitted {\n",
       "  /* fitted */\n",
       "  border: var(--sklearn-color-fitted-level-1) 1pt solid;\n",
       "  color: var(--sklearn-color-fitted-level-1);\n",
       "}\n",
       "\n",
       "/* On hover */\n",
       "div.sk-estimator:hover .sk-estimator-doc-link:hover,\n",
       ".sk-estimator-doc-link:hover,\n",
       "div.sk-label-container:hover .sk-estimator-doc-link:hover,\n",
       ".sk-estimator-doc-link:hover {\n",
       "  /* unfitted */\n",
       "  background-color: var(--sklearn-color-unfitted-level-3);\n",
       "  color: var(--sklearn-color-background);\n",
       "  text-decoration: none;\n",
       "}\n",
       "\n",
       "div.sk-estimator.fitted:hover .sk-estimator-doc-link.fitted:hover,\n",
       ".sk-estimator-doc-link.fitted:hover,\n",
       "div.sk-label-container:hover .sk-estimator-doc-link.fitted:hover,\n",
       ".sk-estimator-doc-link.fitted:hover {\n",
       "  /* fitted */\n",
       "  background-color: var(--sklearn-color-fitted-level-3);\n",
       "  color: var(--sklearn-color-background);\n",
       "  text-decoration: none;\n",
       "}\n",
       "\n",
       "/* Span, style for the box shown on hovering the info icon */\n",
       ".sk-estimator-doc-link span {\n",
       "  display: none;\n",
       "  z-index: 9999;\n",
       "  position: relative;\n",
       "  font-weight: normal;\n",
       "  right: .2ex;\n",
       "  padding: .5ex;\n",
       "  margin: .5ex;\n",
       "  width: min-content;\n",
       "  min-width: 20ex;\n",
       "  max-width: 50ex;\n",
       "  color: var(--sklearn-color-text);\n",
       "  box-shadow: 2pt 2pt 4pt #999;\n",
       "  /* unfitted */\n",
       "  background: var(--sklearn-color-unfitted-level-0);\n",
       "  border: .5pt solid var(--sklearn-color-unfitted-level-3);\n",
       "}\n",
       "\n",
       ".sk-estimator-doc-link.fitted span {\n",
       "  /* fitted */\n",
       "  background: var(--sklearn-color-fitted-level-0);\n",
       "  border: var(--sklearn-color-fitted-level-3);\n",
       "}\n",
       "\n",
       ".sk-estimator-doc-link:hover span {\n",
       "  display: block;\n",
       "}\n",
       "\n",
       "/* \"?\"-specific style due to the `<a>` HTML tag */\n",
       "\n",
       "#sk-container-id-1 a.estimator_doc_link {\n",
       "  float: right;\n",
       "  font-size: 1rem;\n",
       "  line-height: 1em;\n",
       "  font-family: monospace;\n",
       "  background-color: var(--sklearn-color-background);\n",
       "  border-radius: 1rem;\n",
       "  height: 1rem;\n",
       "  width: 1rem;\n",
       "  text-decoration: none;\n",
       "  /* unfitted */\n",
       "  color: var(--sklearn-color-unfitted-level-1);\n",
       "  border: var(--sklearn-color-unfitted-level-1) 1pt solid;\n",
       "}\n",
       "\n",
       "#sk-container-id-1 a.estimator_doc_link.fitted {\n",
       "  /* fitted */\n",
       "  border: var(--sklearn-color-fitted-level-1) 1pt solid;\n",
       "  color: var(--sklearn-color-fitted-level-1);\n",
       "}\n",
       "\n",
       "/* On hover */\n",
       "#sk-container-id-1 a.estimator_doc_link:hover {\n",
       "  /* unfitted */\n",
       "  background-color: var(--sklearn-color-unfitted-level-3);\n",
       "  color: var(--sklearn-color-background);\n",
       "  text-decoration: none;\n",
       "}\n",
       "\n",
       "#sk-container-id-1 a.estimator_doc_link.fitted:hover {\n",
       "  /* fitted */\n",
       "  background-color: var(--sklearn-color-fitted-level-3);\n",
       "}\n",
       "</style><div id=\"sk-container-id-1\" class=\"sk-top-container\"><div class=\"sk-text-repr-fallback\"><pre>LinearRegression()</pre><b>In a Jupyter environment, please rerun this cell to show the HTML representation or trust the notebook. <br />On GitHub, the HTML representation is unable to render, please try loading this page with nbviewer.org.</b></div><div class=\"sk-container\" hidden><div class=\"sk-item\"><div class=\"sk-estimator fitted sk-toggleable\"><input class=\"sk-toggleable__control sk-hidden--visually\" id=\"sk-estimator-id-1\" type=\"checkbox\" checked><label for=\"sk-estimator-id-1\" class=\"sk-toggleable__label fitted sk-toggleable__label-arrow\"><div><div>LinearRegression</div></div><div><a class=\"sk-estimator-doc-link fitted\" rel=\"noreferrer\" target=\"_blank\" href=\"https://scikit-learn.org/1.6/modules/generated/sklearn.linear_model.LinearRegression.html\">?<span>Documentation for LinearRegression</span></a><span class=\"sk-estimator-doc-link fitted\">i<span>Fitted</span></span></div></label><div class=\"sk-toggleable__content fitted\"><pre>LinearRegression()</pre></div> </div></div></div></div>"
      ],
      "text/plain": [
       "LinearRegression()"
      ]
     },
     "execution_count": 22,
     "metadata": {},
     "output_type": "execute_result"
    }
   ],
   "source": [
    "# Ahora si construir el modelo \n",
    "from sklearn.linear_model import LinearRegression\n",
    "\n",
    "# Crer el modelo de regresión lineal (instancia)\n",
    "lr = LinearRegression()\n",
    "\n",
    "# Entrenar el modelo\n",
    "lr.fit(X_train_scaled, y_train_scaled)"
   ]
  },
  {
   "cell_type": "markdown",
   "metadata": {},
   "source": [
    "### Generar predicciones"
   ]
  },
  {
   "cell_type": "markdown",
   "metadata": {},
   "source": [
    "Primero verifiquemos que las predicciones están escaladas:"
   ]
  },
  {
   "cell_type": "code",
   "execution_count": 23,
   "metadata": {},
   "outputs": [
    {
     "name": "stdout",
     "output_type": "stream",
     "text": [
      "Máximo: 0.5791734998473236\n",
      "Mínimo: 0.461817168697425\n"
     ]
    }
   ],
   "source": [
    "# Predicción con el set de prueba\n",
    "y_test_pred_scaled = lr.predict(X_test_scaled)\n",
    "\n",
    "print(f'Máximo: {y_test_pred_scaled.max()}')\n",
    "print(f'Mínimo: {y_test_pred_scaled.min()}')"
   ]
  },
  {
   "cell_type": "markdown",
   "metadata": {},
   "source": [
    "\n",
    "Así que debemos usar `inverse_transform()` para realizar el escalamiento inverso:"
   ]
  },
  {
   "cell_type": "code",
   "execution_count": 24,
   "metadata": {},
   "outputs": [
    {
     "name": "stdout",
     "output_type": "stream",
     "text": [
      "Máximo: 89159.83\n",
      "Mínimo: 72312.63\n"
     ]
    }
   ],
   "source": [
    "y_test_pred = y_scaler.inverse_transform(y_test_pred_scaled)\n",
    "\n",
    "print(f'Máximo: {y_test_pred.max():.2f}')\n",
    "print(f'Mínimo: {y_test_pred.min():.2f}')"
   ]
  },
  {
   "cell_type": "markdown",
   "metadata": {},
   "source": [
    "Este último paso no es necesario en caso de resolver un problema de clasificación."
   ]
  },
  {
   "cell_type": "markdown",
   "metadata": {},
   "source": [
    "### Errores"
   ]
  },
  {
   "cell_type": "code",
   "execution_count": 25,
   "metadata": {},
   "outputs": [
    {
     "name": "stdout",
     "output_type": "stream",
     "text": [
      "Error Absoluto Medio (MAE): 37270.58\n",
      "Error Cuadrático Medio (MSE): 1770435124.06\n",
      "RMSE: 42076.54\n"
     ]
    }
   ],
   "source": [
    "from sklearn.metrics import mean_absolute_error, mean_squared_error\n",
    "\n",
    "mae = mean_absolute_error(y_test, y_test_pred)\n",
    "mse = mean_squared_error(y_test, y_test_pred)\n",
    "rmse = np.sqrt(mse)\n",
    "\n",
    "print(f'Error Absoluto Medio (MAE): {mae:.2f}')\n",
    "print(f'Error Cuadrático Medio (MSE): {mse:.2f}')\n",
    "print(f'RMSE: {rmse:.2f}')"
   ]
  },
  {
   "cell_type": "code",
   "execution_count": 26,
   "metadata": {},
   "outputs": [
    {
     "data": {
      "text/plain": [
       "(99, 1)"
      ]
     },
     "execution_count": 26,
     "metadata": {},
     "output_type": "execute_result"
    }
   ],
   "source": [
    "y_test_pred.shape"
   ]
  },
  {
   "cell_type": "code",
   "execution_count": null,
   "metadata": {},
   "outputs": [],
   "source": []
  }
 ],
 "metadata": {
  "kernelspec": {
   "display_name": "Python 3",
   "language": "python",
   "name": "python3"
  },
  "language_info": {
   "codemirror_mode": {
    "name": "ipython",
    "version": 3
   },
   "file_extension": ".py",
   "mimetype": "text/x-python",
   "name": "python",
   "nbconvert_exporter": "python",
   "pygments_lexer": "ipython3",
   "version": "3.13.1"
  }
 },
 "nbformat": 4,
 "nbformat_minor": 2
}

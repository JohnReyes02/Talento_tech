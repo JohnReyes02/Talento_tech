{
 "cells": [
  {
   "cell_type": "markdown",
   "metadata": {},
   "source": [
    "### Exploramos el dataset"
   ]
  },
  {
   "cell_type": "code",
   "execution_count": 45,
   "metadata": {},
   "outputs": [],
   "source": [
    "# Importar librerías\n",
    "import pandas as pd\n",
    "import numpy as np\n",
    "import seaborn as sns\n",
    "import matplotlib.pyplot as plt"
   ]
  },
  {
   "cell_type": "code",
   "execution_count": 46,
   "metadata": {},
   "outputs": [],
   "source": [
    "# Lecura\n",
    "ruta = '../semana_5/turistas_cartagena_data.csv'\n",
    "data = pd.read_csv(ruta)"
   ]
  },
  {
   "cell_type": "code",
   "execution_count": 47,
   "metadata": {},
   "outputs": [
    {
     "name": "stdout",
     "output_type": "stream",
     "text": [
      "(500, 10)\n"
     ]
    },
    {
     "data": {
      "text/html": [
       "<div>\n",
       "<style scoped>\n",
       "    .dataframe tbody tr th:only-of-type {\n",
       "        vertical-align: middle;\n",
       "    }\n",
       "\n",
       "    .dataframe tbody tr th {\n",
       "        vertical-align: top;\n",
       "    }\n",
       "\n",
       "    .dataframe thead th {\n",
       "        text-align: right;\n",
       "    }\n",
       "</style>\n",
       "<table border=\"1\" class=\"dataframe\">\n",
       "  <thead>\n",
       "    <tr style=\"text-align: right;\">\n",
       "      <th></th>\n",
       "      <th>Fecha</th>\n",
       "      <th>Número de Visitantes</th>\n",
       "      <th>Temperatura Media (°C)</th>\n",
       "      <th>Precipitación (mm)</th>\n",
       "      <th>Eventos Especiales</th>\n",
       "      <th>Costo Promedio de Alojamiento (COP)</th>\n",
       "      <th>Tasa de Cambio (USD/COP)</th>\n",
       "      <th>Promociones de Turismo</th>\n",
       "      <th>Cantidad de Vuelos y Cruceros Disponibles</th>\n",
       "      <th>Ocupación Hotelera (%)</th>\n",
       "    </tr>\n",
       "  </thead>\n",
       "  <tbody>\n",
       "    <tr>\n",
       "      <th>0</th>\n",
       "      <td>1982-12</td>\n",
       "      <td>126958.0</td>\n",
       "      <td>27.6</td>\n",
       "      <td>195.4</td>\n",
       "      <td>0.0</td>\n",
       "      <td>252889.0</td>\n",
       "      <td>3076.77</td>\n",
       "      <td>0.0</td>\n",
       "      <td>74.0</td>\n",
       "      <td>88.0</td>\n",
       "    </tr>\n",
       "    <tr>\n",
       "      <th>1</th>\n",
       "      <td>1983-01</td>\n",
       "      <td>136932.0</td>\n",
       "      <td>27.6</td>\n",
       "      <td>248.9</td>\n",
       "      <td>0.0</td>\n",
       "      <td>268933.0</td>\n",
       "      <td>3231.50</td>\n",
       "      <td>1.0</td>\n",
       "      <td>103.0</td>\n",
       "      <td>98.4</td>\n",
       "    </tr>\n",
       "    <tr>\n",
       "      <th>2</th>\n",
       "      <td>1983-02</td>\n",
       "      <td>108694.0</td>\n",
       "      <td>30.7</td>\n",
       "      <td>61.9</td>\n",
       "      <td>1.0</td>\n",
       "      <td>113428.0</td>\n",
       "      <td>3478.34</td>\n",
       "      <td>0.0</td>\n",
       "      <td>205.0</td>\n",
       "      <td>72.0</td>\n",
       "    </tr>\n",
       "    <tr>\n",
       "      <th>3</th>\n",
       "      <td>1983-03</td>\n",
       "      <td>124879.0</td>\n",
       "      <td>31.6</td>\n",
       "      <td>3.3</td>\n",
       "      <td>0.0</td>\n",
       "      <td>275006.0</td>\n",
       "      <td>3925.80</td>\n",
       "      <td>0.0</td>\n",
       "      <td>122.0</td>\n",
       "      <td>63.9</td>\n",
       "    </tr>\n",
       "    <tr>\n",
       "      <th>4</th>\n",
       "      <td>1983-04</td>\n",
       "      <td>115268.0</td>\n",
       "      <td>31.9</td>\n",
       "      <td>41.1</td>\n",
       "      <td>0.0</td>\n",
       "      <td>346627.0</td>\n",
       "      <td>3400.98</td>\n",
       "      <td>0.0</td>\n",
       "      <td>169.0</td>\n",
       "      <td>89.9</td>\n",
       "    </tr>\n",
       "  </tbody>\n",
       "</table>\n",
       "</div>"
      ],
      "text/plain": [
       "     Fecha  Número de Visitantes  Temperatura Media (°C)  Precipitación (mm)  \\\n",
       "0  1982-12              126958.0                    27.6               195.4   \n",
       "1  1983-01              136932.0                    27.6               248.9   \n",
       "2  1983-02              108694.0                    30.7                61.9   \n",
       "3  1983-03              124879.0                    31.6                 3.3   \n",
       "4  1983-04              115268.0                    31.9                41.1   \n",
       "\n",
       "   Eventos Especiales  Costo Promedio de Alojamiento (COP)  \\\n",
       "0                 0.0                             252889.0   \n",
       "1                 0.0                             268933.0   \n",
       "2                 1.0                             113428.0   \n",
       "3                 0.0                             275006.0   \n",
       "4                 0.0                             346627.0   \n",
       "\n",
       "   Tasa de Cambio (USD/COP)  Promociones de Turismo  \\\n",
       "0                   3076.77                     0.0   \n",
       "1                   3231.50                     1.0   \n",
       "2                   3478.34                     0.0   \n",
       "3                   3925.80                     0.0   \n",
       "4                   3400.98                     0.0   \n",
       "\n",
       "   Cantidad de Vuelos y Cruceros Disponibles  Ocupación Hotelera (%)  \n",
       "0                                       74.0                    88.0  \n",
       "1                                      103.0                    98.4  \n",
       "2                                      205.0                    72.0  \n",
       "3                                      122.0                    63.9  \n",
       "4                                      169.0                    89.9  "
      ]
     },
     "execution_count": 47,
     "metadata": {},
     "output_type": "execute_result"
    }
   ],
   "source": [
    "print(data.shape)\n",
    "data.head()"
   ]
  },
  {
   "cell_type": "code",
   "execution_count": 48,
   "metadata": {},
   "outputs": [
    {
     "name": "stdout",
     "output_type": "stream",
     "text": [
      "<class 'pandas.core.frame.DataFrame'>\n",
      "RangeIndex: 500 entries, 0 to 499\n",
      "Data columns (total 10 columns):\n",
      " #   Column                                     Non-Null Count  Dtype  \n",
      "---  ------                                     --------------  -----  \n",
      " 0   Fecha                                      495 non-null    object \n",
      " 1   Número de Visitantes                       485 non-null    float64\n",
      " 2   Temperatura Media (°C)                     495 non-null    float64\n",
      " 3   Precipitación (mm)                         495 non-null    float64\n",
      " 4   Eventos Especiales                         495 non-null    float64\n",
      " 5   Costo Promedio de Alojamiento (COP)        495 non-null    float64\n",
      " 6   Tasa de Cambio (USD/COP)                   495 non-null    float64\n",
      " 7   Promociones de Turismo                     495 non-null    float64\n",
      " 8   Cantidad de Vuelos y Cruceros Disponibles  495 non-null    float64\n",
      " 9   Ocupación Hotelera (%)                     495 non-null    float64\n",
      "dtypes: float64(9), object(1)\n",
      "memory usage: 39.2+ KB\n"
     ]
    }
   ],
   "source": [
    "data.info()"
   ]
  },
  {
   "cell_type": "markdown",
   "metadata": {},
   "source": [
    "### Limpieza de datos|"
   ]
  },
  {
   "cell_type": "markdown",
   "metadata": {},
   "source": [
    "#### Datos Faltantes"
   ]
  },
  {
   "cell_type": "code",
   "execution_count": 49,
   "metadata": {},
   "outputs": [
    {
     "name": "stdout",
     "output_type": "stream",
     "text": [
      "       Fecha  Número de Visitantes  Temperatura Media (°C)  \\\n",
      "6        NaN                   NaN                     NaN   \n",
      "7        NaN                   NaN                     NaN   \n",
      "8        NaN                   NaN                     NaN   \n",
      "9        NaN                   NaN                     NaN   \n",
      "10       NaN                   NaN                     NaN   \n",
      "12   1983-12                   NaN                    25.8   \n",
      "52   1987-03                   NaN                    28.2   \n",
      "57   1987-08                   NaN                    31.9   \n",
      "71   1988-10                   NaN                    31.1   \n",
      "114  1992-04                   NaN                    25.9   \n",
      "125  1993-03                   NaN                    28.1   \n",
      "140  1994-06                   NaN                    28.4   \n",
      "327  2009-10                   NaN                    30.7   \n",
      "377  2013-11                   NaN                    27.3   \n",
      "379  2014-01                   NaN                    25.0   \n",
      "\n",
      "     Precipitación (mm)  Eventos Especiales  \\\n",
      "6                   NaN                 NaN   \n",
      "7                   NaN                 NaN   \n",
      "8                   NaN                 NaN   \n",
      "9                   NaN                 NaN   \n",
      "10                  NaN                 NaN   \n",
      "12                125.6                 0.0   \n",
      "52                108.3                 0.0   \n",
      "57                133.8                 1.0   \n",
      "71                 11.8                 0.0   \n",
      "114               230.2                 0.0   \n",
      "125                33.1                 0.0   \n",
      "140               125.3                 0.0   \n",
      "327                87.5                 0.0   \n",
      "377                18.1                 0.0   \n",
      "379                47.9                 0.0   \n",
      "\n",
      "     Costo Promedio de Alojamiento (COP)  Tasa de Cambio (USD/COP)  \\\n",
      "6                                    NaN                       NaN   \n",
      "7                                    NaN                       NaN   \n",
      "8                                    NaN                       NaN   \n",
      "9                                    NaN                       NaN   \n",
      "10                                   NaN                       NaN   \n",
      "12                              355158.0                   2568.47   \n",
      "52                              432697.0                   2964.06   \n",
      "57                              384580.0                   3454.60   \n",
      "71                              364983.0                   2620.27   \n",
      "114                             166707.0                   3373.30   \n",
      "125                             390372.0                   2731.69   \n",
      "140                             260372.0                   2710.83   \n",
      "327                             457792.0                   2926.41   \n",
      "377                             150939.0                   3149.09   \n",
      "379                             287598.0                   2813.32   \n",
      "\n",
      "     Promociones de Turismo  Cantidad de Vuelos y Cruceros Disponibles  \\\n",
      "6                       NaN                                        NaN   \n",
      "7                       NaN                                        NaN   \n",
      "8                       NaN                                        NaN   \n",
      "9                       NaN                                        NaN   \n",
      "10                      NaN                                        NaN   \n",
      "12                      1.0                                      292.0   \n",
      "52                      0.0                                      222.0   \n",
      "57                      0.0                                      295.0   \n",
      "71                      1.0                                       89.0   \n",
      "114                     1.0                                      278.0   \n",
      "125                     0.0                                      183.0   \n",
      "140                     0.0                                      263.0   \n",
      "327                     0.0                                      188.0   \n",
      "377                     1.0                                      192.0   \n",
      "379                     0.0                                      253.0   \n",
      "\n",
      "     Ocupación Hotelera (%)  \n",
      "6                       NaN  \n",
      "7                       NaN  \n",
      "8                       NaN  \n",
      "9                       NaN  \n",
      "10                      NaN  \n",
      "12                     53.1  \n",
      "52                     74.6  \n",
      "57                     70.3  \n",
      "71                     68.6  \n",
      "114                    95.4  \n",
      "125                    91.4  \n",
      "140                    58.0  \n",
      "327                    83.1  \n",
      "377                    92.2  \n",
      "379                    75.7  \n"
     ]
    }
   ],
   "source": [
    "# Imprimir registros con valores nulos a lo ancho\n",
    "print(data[data.isnull().any(axis=1)])"
   ]
  },
  {
   "cell_type": "code",
   "execution_count": 50,
   "metadata": {},
   "outputs": [
    {
     "name": "stdout",
     "output_type": "stream",
     "text": [
      "Fecha                                         5\n",
      "Número de Visitantes                         15\n",
      "Temperatura Media (°C)                        5\n",
      "Precipitación (mm)                            5\n",
      "Eventos Especiales                            5\n",
      "Costo Promedio de Alojamiento (COP)           5\n",
      "Tasa de Cambio (USD/COP)                      5\n",
      "Promociones de Turismo                        5\n",
      "Cantidad de Vuelos y Cruceros Disponibles     5\n",
      "Ocupación Hotelera (%)                        5\n",
      "dtype: int64\n"
     ]
    }
   ],
   "source": [
    "# Ver valores nulos\n",
    "print(data.isnull().sum())"
   ]
  },
  {
   "cell_type": "code",
   "execution_count": 51,
   "metadata": {},
   "outputs": [
    {
     "name": "stdout",
     "output_type": "stream",
     "text": [
      "El tamaño del dataset antes de eliminar las filas vacías (500, 10)\n",
      "El tamaño del dataset despues de eliminar las filas vacías (495, 10)\n"
     ]
    }
   ],
   "source": [
    "# Eliminar las filas completamente vacías\n",
    "print(f'El tamaño del dataset antes de eliminar las filas vacías {data.shape}')\n",
    "data.dropna(how='all', inplace=True)\n",
    "print(f'El tamaño del dataset despues de eliminar las filas vacías {data.shape}')"
   ]
  },
  {
   "cell_type": "code",
   "execution_count": 52,
   "metadata": {},
   "outputs": [
    {
     "name": "stdout",
     "output_type": "stream",
     "text": [
      "<class 'pandas.core.frame.DataFrame'>\n",
      "Index: 495 entries, 0 to 499\n",
      "Data columns (total 10 columns):\n",
      " #   Column                                     Non-Null Count  Dtype  \n",
      "---  ------                                     --------------  -----  \n",
      " 0   Fecha                                      495 non-null    object \n",
      " 1   Número de Visitantes                       495 non-null    float64\n",
      " 2   Temperatura Media (°C)                     495 non-null    float64\n",
      " 3   Precipitación (mm)                         495 non-null    float64\n",
      " 4   Eventos Especiales                         495 non-null    float64\n",
      " 5   Costo Promedio de Alojamiento (COP)        495 non-null    float64\n",
      " 6   Tasa de Cambio (USD/COP)                   495 non-null    float64\n",
      " 7   Promociones de Turismo                     495 non-null    float64\n",
      " 8   Cantidad de Vuelos y Cruceros Disponibles  495 non-null    float64\n",
      " 9   Ocupación Hotelera (%)                     495 non-null    float64\n",
      "dtypes: float64(9), object(1)\n",
      "memory usage: 42.5+ KB\n"
     ]
    }
   ],
   "source": [
    "# Rellenar 'Número de Visitantes' con la media\n",
    "data['Número de Visitantes'] = data['Número de Visitantes'].fillna(data['Número de Visitantes'].mean())\n",
    "data.info()"
   ]
  },
  {
   "cell_type": "markdown",
   "metadata": {},
   "source": [
    "#### Eliminar duplicados"
   ]
  },
  {
   "cell_type": "code",
   "execution_count": 53,
   "metadata": {},
   "outputs": [
    {
     "data": {
      "text/html": [
       "<div>\n",
       "<style scoped>\n",
       "    .dataframe tbody tr th:only-of-type {\n",
       "        vertical-align: middle;\n",
       "    }\n",
       "\n",
       "    .dataframe tbody tr th {\n",
       "        vertical-align: top;\n",
       "    }\n",
       "\n",
       "    .dataframe thead th {\n",
       "        text-align: right;\n",
       "    }\n",
       "</style>\n",
       "<table border=\"1\" class=\"dataframe\">\n",
       "  <thead>\n",
       "    <tr style=\"text-align: right;\">\n",
       "      <th></th>\n",
       "      <th>Fecha</th>\n",
       "      <th>Número de Visitantes</th>\n",
       "      <th>Temperatura Media (°C)</th>\n",
       "      <th>Precipitación (mm)</th>\n",
       "      <th>Eventos Especiales</th>\n",
       "      <th>Costo Promedio de Alojamiento (COP)</th>\n",
       "      <th>Tasa de Cambio (USD/COP)</th>\n",
       "      <th>Promociones de Turismo</th>\n",
       "      <th>Cantidad de Vuelos y Cruceros Disponibles</th>\n",
       "      <th>Ocupación Hotelera (%)</th>\n",
       "    </tr>\n",
       "  </thead>\n",
       "  <tbody>\n",
       "  </tbody>\n",
       "</table>\n",
       "</div>"
      ],
      "text/plain": [
       "Empty DataFrame\n",
       "Columns: [Fecha, Número de Visitantes, Temperatura Media (°C), Precipitación (mm), Eventos Especiales, Costo Promedio de Alojamiento (COP), Tasa de Cambio (USD/COP), Promociones de Turismo, Cantidad de Vuelos y Cruceros Disponibles, Ocupación Hotelera (%)]\n",
       "Index: []"
      ]
     },
     "execution_count": 53,
     "metadata": {},
     "output_type": "execute_result"
    }
   ],
   "source": [
    "# Identificar filas duplicadas\n",
    "data[data.duplicated()]"
   ]
  },
  {
   "cell_type": "code",
   "execution_count": 54,
   "metadata": {},
   "outputs": [],
   "source": [
    "# Eliminar duplicados\n",
    "data.drop_duplicates(inplace=True)"
   ]
  },
  {
   "cell_type": "markdown",
   "metadata": {},
   "source": [
    "#### Verificar Columnas númericas"
   ]
  },
  {
   "cell_type": "code",
   "execution_count": 55,
   "metadata": {},
   "outputs": [
    {
     "data": {
      "text/html": [
       "<div>\n",
       "<style scoped>\n",
       "    .dataframe tbody tr th:only-of-type {\n",
       "        vertical-align: middle;\n",
       "    }\n",
       "\n",
       "    .dataframe tbody tr th {\n",
       "        vertical-align: top;\n",
       "    }\n",
       "\n",
       "    .dataframe thead th {\n",
       "        text-align: right;\n",
       "    }\n",
       "</style>\n",
       "<table border=\"1\" class=\"dataframe\">\n",
       "  <thead>\n",
       "    <tr style=\"text-align: right;\">\n",
       "      <th></th>\n",
       "      <th>Número de Visitantes</th>\n",
       "      <th>Temperatura Media (°C)</th>\n",
       "      <th>Precipitación (mm)</th>\n",
       "      <th>Eventos Especiales</th>\n",
       "      <th>Costo Promedio de Alojamiento (COP)</th>\n",
       "      <th>Tasa de Cambio (USD/COP)</th>\n",
       "      <th>Promociones de Turismo</th>\n",
       "      <th>Cantidad de Vuelos y Cruceros Disponibles</th>\n",
       "      <th>Ocupación Hotelera (%)</th>\n",
       "    </tr>\n",
       "  </thead>\n",
       "  <tbody>\n",
       "    <tr>\n",
       "      <th>count</th>\n",
       "      <td>495.000000</td>\n",
       "      <td>495.000000</td>\n",
       "      <td>495.000000</td>\n",
       "      <td>495.000000</td>\n",
       "      <td>495.000000</td>\n",
       "      <td>495.000000</td>\n",
       "      <td>495.000000</td>\n",
       "      <td>495.000000</td>\n",
       "      <td>495.000000</td>\n",
       "    </tr>\n",
       "    <tr>\n",
       "      <th>mean</th>\n",
       "      <td>79213.288660</td>\n",
       "      <td>28.427475</td>\n",
       "      <td>152.168485</td>\n",
       "      <td>0.187879</td>\n",
       "      <td>291329.464646</td>\n",
       "      <td>3228.464101</td>\n",
       "      <td>0.303030</td>\n",
       "      <td>177.006061</td>\n",
       "      <td>74.231717</td>\n",
       "    </tr>\n",
       "    <tr>\n",
       "      <th>std</th>\n",
       "      <td>42462.184309</td>\n",
       "      <td>2.038817</td>\n",
       "      <td>89.958267</td>\n",
       "      <td>0.391011</td>\n",
       "      <td>111495.245496</td>\n",
       "      <td>433.057422</td>\n",
       "      <td>0.460033</td>\n",
       "      <td>70.255966</td>\n",
       "      <td>14.271801</td>\n",
       "    </tr>\n",
       "    <tr>\n",
       "      <th>min</th>\n",
       "      <td>5769.000000</td>\n",
       "      <td>25.000000</td>\n",
       "      <td>-50.000000</td>\n",
       "      <td>0.000000</td>\n",
       "      <td>100781.000000</td>\n",
       "      <td>2500.200000</td>\n",
       "      <td>0.000000</td>\n",
       "      <td>50.000000</td>\n",
       "      <td>50.000000</td>\n",
       "    </tr>\n",
       "    <tr>\n",
       "      <th>25%</th>\n",
       "      <td>42284.500000</td>\n",
       "      <td>26.600000</td>\n",
       "      <td>70.000000</td>\n",
       "      <td>0.000000</td>\n",
       "      <td>196031.500000</td>\n",
       "      <td>2903.380000</td>\n",
       "      <td>0.000000</td>\n",
       "      <td>113.000000</td>\n",
       "      <td>61.850000</td>\n",
       "    </tr>\n",
       "    <tr>\n",
       "      <th>50%</th>\n",
       "      <td>81213.000000</td>\n",
       "      <td>28.400000</td>\n",
       "      <td>154.700000</td>\n",
       "      <td>0.000000</td>\n",
       "      <td>286987.000000</td>\n",
       "      <td>3214.660000</td>\n",
       "      <td>0.000000</td>\n",
       "      <td>181.000000</td>\n",
       "      <td>73.000000</td>\n",
       "    </tr>\n",
       "    <tr>\n",
       "      <th>75%</th>\n",
       "      <td>116688.000000</td>\n",
       "      <td>30.200000</td>\n",
       "      <td>230.800000</td>\n",
       "      <td>0.000000</td>\n",
       "      <td>383196.500000</td>\n",
       "      <td>3589.860000</td>\n",
       "      <td>1.000000</td>\n",
       "      <td>235.000000</td>\n",
       "      <td>87.050000</td>\n",
       "    </tr>\n",
       "    <tr>\n",
       "      <th>max</th>\n",
       "      <td>149572.000000</td>\n",
       "      <td>32.000000</td>\n",
       "      <td>299.400000</td>\n",
       "      <td>1.000000</td>\n",
       "      <td>499845.000000</td>\n",
       "      <td>3996.730000</td>\n",
       "      <td>1.000000</td>\n",
       "      <td>299.000000</td>\n",
       "      <td>100.000000</td>\n",
       "    </tr>\n",
       "  </tbody>\n",
       "</table>\n",
       "</div>"
      ],
      "text/plain": [
       "       Número de Visitantes  Temperatura Media (°C)  Precipitación (mm)  \\\n",
       "count            495.000000              495.000000          495.000000   \n",
       "mean           79213.288660               28.427475          152.168485   \n",
       "std            42462.184309                2.038817           89.958267   \n",
       "min             5769.000000               25.000000          -50.000000   \n",
       "25%            42284.500000               26.600000           70.000000   \n",
       "50%            81213.000000               28.400000          154.700000   \n",
       "75%           116688.000000               30.200000          230.800000   \n",
       "max           149572.000000               32.000000          299.400000   \n",
       "\n",
       "       Eventos Especiales  Costo Promedio de Alojamiento (COP)  \\\n",
       "count          495.000000                           495.000000   \n",
       "mean             0.187879                        291329.464646   \n",
       "std              0.391011                        111495.245496   \n",
       "min              0.000000                        100781.000000   \n",
       "25%              0.000000                        196031.500000   \n",
       "50%              0.000000                        286987.000000   \n",
       "75%              0.000000                        383196.500000   \n",
       "max              1.000000                        499845.000000   \n",
       "\n",
       "       Tasa de Cambio (USD/COP)  Promociones de Turismo  \\\n",
       "count                495.000000              495.000000   \n",
       "mean                3228.464101                0.303030   \n",
       "std                  433.057422                0.460033   \n",
       "min                 2500.200000                0.000000   \n",
       "25%                 2903.380000                0.000000   \n",
       "50%                 3214.660000                0.000000   \n",
       "75%                 3589.860000                1.000000   \n",
       "max                 3996.730000                1.000000   \n",
       "\n",
       "       Cantidad de Vuelos y Cruceros Disponibles  Ocupación Hotelera (%)  \n",
       "count                                 495.000000              495.000000  \n",
       "mean                                  177.006061               74.231717  \n",
       "std                                    70.255966               14.271801  \n",
       "min                                    50.000000               50.000000  \n",
       "25%                                   113.000000               61.850000  \n",
       "50%                                   181.000000               73.000000  \n",
       "75%                                   235.000000               87.050000  \n",
       "max                                   299.000000              100.000000  "
      ]
     },
     "execution_count": 55,
     "metadata": {},
     "output_type": "execute_result"
    }
   ],
   "source": [
    "data.describe()"
   ]
  },
  {
   "cell_type": "markdown",
   "metadata": {},
   "source": [
    "#### Outliers en variables numéricas"
   ]
  },
  {
   "cell_type": "markdown",
   "metadata": {},
   "source": [
    "Usamos gráficos de boxplots para identificar datos atípicos:"
   ]
  },
  {
   "cell_type": "code",
   "execution_count": 56,
   "metadata": {},
   "outputs": [
    {
     "data": {
      "image/png": "[encoded data removed]",
      "text/plain": [
       "<Figure size 800x3000 with 9 Axes>"
      ]
     },
     "metadata": {},
     "output_type": "display_data"
    }
   ],
   "source": [
    "# Seleccionamos solo las columnas numericas\n",
    "cols_num = data.select_dtypes(exclude='object').columns \n",
    "\n",
    "fig, ax = plt.subplots(nrows=len(cols_num), ncols=1, figsize=(8,30))\n",
    "fig.subplots_adjust(hspace=0.5)\n",
    "\n",
    "# Graficamos un boxplot por cada una de las columnas\n",
    "for i, col in enumerate(cols_num):\n",
    "    sns.boxplot(x=col, data=data, ax=ax[i])\n",
    "    ax[i].set_title(col)\n",
    "\n",
    "plt.show()"
   ]
  },
  {
   "cell_type": "markdown",
   "metadata": {},
   "source": [
    "Observaciones:\n",
    "- `Precipitación mm` tiene valores por debajo de 0 mm"
   ]
  },
  {
   "cell_type": "code",
   "execution_count": 57,
   "metadata": {},
   "outputs": [
    {
     "name": "stdout",
     "output_type": "stream",
     "text": [
      "Tamaño del set antes de eliminar registros de precipitación: (495, 10)\n",
      "Tamaño del set después de eliminar registros de precipitación: (494, 10)\n"
     ]
    }
   ],
   "source": [
    "# Eliminamos las filas con 'Precipitación mm' < 0\n",
    "print(f'Tamaño del set antes de eliminar registros de precipitación: {data.shape}')\n",
    "data = data[data['Precipitación (mm)']>0]\n",
    "print(f'Tamaño del set después de eliminar registros de precipitación: {data.shape}')"
   ]
  },
  {
   "cell_type": "markdown",
   "metadata": {},
   "source": [
    "Guardamos el dataset limpio en un nuevo  archivo .csv:"
   ]
  },
  {
   "cell_type": "code",
   "execution_count": 58,
   "metadata": {},
   "outputs": [],
   "source": [
    "ruta = '../semana_5/turistas_cartagena_data_clean.csv'\n",
    "data.to_csv(ruta)"
   ]
  },
  {
   "cell_type": "code",
   "execution_count": 59,
   "metadata": {},
   "outputs": [
    {
     "data": {
      "text/plain": [
       "Index(['Fecha', 'Número de Visitantes', 'Temperatura Media (°C)',\n",
       "       'Precipitación (mm)', 'Eventos Especiales',\n",
       "       'Costo Promedio de Alojamiento (COP)', 'Tasa de Cambio (USD/COP)',\n",
       "       'Promociones de Turismo', 'Cantidad de Vuelos y Cruceros Disponibles',\n",
       "       'Ocupación Hotelera (%)'],\n",
       "      dtype='object')"
      ]
     },
     "execution_count": 59,
     "metadata": {},
     "output_type": "execute_result"
    }
   ],
   "source": [
    "data.columns"
   ]
  },
  {
   "cell_type": "markdown",
   "metadata": {},
   "source": [
    "### Modelo de regresión (predecir visitantes)"
   ]
  },
  {
   "cell_type": "code",
   "execution_count": 66,
   "metadata": {},
   "outputs": [
    {
     "data": {
      "text/html": [
       "<div>\n",
       "<style scoped>\n",
       "    .dataframe tbody tr th:only-of-type {\n",
       "        vertical-align: middle;\n",
       "    }\n",
       "\n",
       "    .dataframe tbody tr th {\n",
       "        vertical-align: top;\n",
       "    }\n",
       "\n",
       "    .dataframe thead th {\n",
       "        text-align: right;\n",
       "    }\n",
       "</style>\n",
       "<table border=\"1\" class=\"dataframe\">\n",
       "  <thead>\n",
       "    <tr style=\"text-align: right;\">\n",
       "      <th></th>\n",
       "      <th>Número de Visitantes</th>\n",
       "      <th>Temperatura Media (°C)</th>\n",
       "      <th>Precipitación (mm)</th>\n",
       "      <th>Eventos Especiales</th>\n",
       "      <th>Costo Promedio de Alojamiento (COP)</th>\n",
       "      <th>Tasa de Cambio (USD/COP)</th>\n",
       "      <th>Promociones de Turismo</th>\n",
       "      <th>Cantidad de Vuelos y Cruceros Disponibles</th>\n",
       "      <th>Ocupación Hotelera (%)</th>\n",
       "    </tr>\n",
       "  </thead>\n",
       "  <tbody>\n",
       "    <tr>\n",
       "      <th>max</th>\n",
       "      <td>149572.0</td>\n",
       "      <td>32.0</td>\n",
       "      <td>299.4</td>\n",
       "      <td>1.0</td>\n",
       "      <td>499845.0</td>\n",
       "      <td>3996.73</td>\n",
       "      <td>1.0</td>\n",
       "      <td>299.0</td>\n",
       "      <td>100.0</td>\n",
       "    </tr>\n",
       "    <tr>\n",
       "      <th>min</th>\n",
       "      <td>5769.0</td>\n",
       "      <td>25.0</td>\n",
       "      <td>1.5</td>\n",
       "      <td>0.0</td>\n",
       "      <td>100781.0</td>\n",
       "      <td>2500.20</td>\n",
       "      <td>0.0</td>\n",
       "      <td>50.0</td>\n",
       "      <td>50.0</td>\n",
       "    </tr>\n",
       "  </tbody>\n",
       "</table>\n",
       "</div>"
      ],
      "text/plain": [
       "     Número de Visitantes  Temperatura Media (°C)  Precipitación (mm)  \\\n",
       "max              149572.0                    32.0               299.4   \n",
       "min                5769.0                    25.0                 1.5   \n",
       "\n",
       "     Eventos Especiales  Costo Promedio de Alojamiento (COP)  \\\n",
       "max                 1.0                             499845.0   \n",
       "min                 0.0                             100781.0   \n",
       "\n",
       "     Tasa de Cambio (USD/COP)  Promociones de Turismo  \\\n",
       "max                   3996.73                     1.0   \n",
       "min                   2500.20                     0.0   \n",
       "\n",
       "     Cantidad de Vuelos y Cruceros Disponibles  Ocupación Hotelera (%)  \n",
       "max                                      299.0                   100.0  \n",
       "min                                       50.0                    50.0  "
      ]
     },
     "execution_count": 66,
     "metadata": {},
     "output_type": "execute_result"
    }
   ],
   "source": [
    "data.describe().loc[['max', 'min']]"
   ]
  },
  {
   "cell_type": "markdown",
   "metadata": {},
   "source": [
    "#### Dividir el conjunto de datos en entrenamiento y prueba"
   ]
  },
  {
   "cell_type": "code",
   "execution_count": 67,
   "metadata": {},
   "outputs": [
    {
     "name": "stdout",
     "output_type": "stream",
     "text": [
      "(395, 8) (395,)\n",
      "(99, 8) (99,)\n"
     ]
    }
   ],
   "source": [
    "from sklearn.model_selection import train_test_split\n",
    "\n",
    "X = data.drop(columns=['Fecha', 'Número de Visitantes'])\n",
    "y = data['Número de Visitantes']\n",
    "\n",
    "X_train, X_test, y_train, y_test = train_test_split(X, y,\n",
    "                                                    test_size=0.2,\n",
    "                                                    random_state=42)\n",
    "\n",
    "print(X_train.shape, y_train.shape)\n",
    "print(X_test.shape, y_test.shape)"
   ]
  },
  {
   "cell_type": "markdown",
   "metadata": {},
   "source": [
    "#### Escalamiento de datos (MinMaxScaler)"
   ]
  },
  {
   "cell_type": "markdown",
   "metadata": {},
   "source": [
    "Hagamos primero el escalamiento del set de entrenamiento y vemos algunas características de esta operación."
   ]
  },
  {
   "cell_type": "code",
   "execution_count": 72,
   "metadata": {},
   "outputs": [
    {
     "name": "stdout",
     "output_type": "stream",
     "text": [
      "Características del escalador ajustado:\n",
      "[2.50000e+01 1.50000e+00 0.00000e+00 1.00781e+05 2.50020e+03 0.00000e+00\n",
      " 5.00000e+01 5.03000e+01]\n",
      "[3.20000e+01 2.99400e+02 1.00000e+00 4.99845e+05 3.99673e+03 1.00000e+00\n",
      " 2.99000e+02 1.00000e+02]\n",
      "\n",
      "Resultado del escalamiento sobre \"X_train\":\n",
      "Mínimos: [0. 0. 0. 0. 0. 0. 0. 0.]\n",
      "Máximos: [1. 1. 1. 1. 1. 1. 1. 1.]\n"
     ]
    }
   ],
   "source": [
    "from sklearn.preprocessing import MinMaxScaler\n",
    "\n",
    "x_scaler = MinMaxScaler()\n",
    "\n",
    "# fit_transform: Calcular máximos/mínimos y escalar el set de entrenamiento\n",
    "X_train_scaled = x_scaler.fit_transform(X_train)\n",
    "\n",
    "# Algunas características del escalador\n",
    "print('Características del escalador ajustado:')\n",
    "print(x_scaler.data_min_) \n",
    "print(x_scaler.data_max_)\n",
    "\n",
    "# Resultado\n",
    "print('\\nResultado del escalamiento sobre \"X_train\":')\n",
    "print(f'Mínimos: {X_train_scaled.min(axis=0)}')\n",
    "print(f'Máximos: {X_train_scaled.max(axis=0)}')"
   ]
  },
  {
   "cell_type": "markdown",
   "metadata": {},
   "source": [
    "Ahora escalar y_train, usamos otro escalador:"
   ]
  },
  {
   "cell_type": "code",
   "execution_count": 73,
   "metadata": {},
   "outputs": [
    {
     "ename": "ValueError",
     "evalue": "Expected a 2-dimensional container but got <class 'pandas.core.series.Series'> instead. Pass a DataFrame containing a single row (i.e. single sample) or a single column (i.e. single feature) instead.",
     "output_type": "error",
     "traceback": [
      "\u001b[1;31m---------------------------------------------------------------------------\u001b[0m",
      "\u001b[1;31mValueError\u001b[0m                                Traceback (most recent call last)",
      "Cell \u001b[1;32mIn[73], line 4\u001b[0m\n\u001b[0;32m      1\u001b[0m y_scaler \u001b[38;5;241m=\u001b[39m MinMaxScaler()\n\u001b[0;32m      3\u001b[0m \u001b[38;5;66;03m# fit_transform: Calcular máximos/mínimos y escalar el set de entrenamiento\u001b[39;00m\n\u001b[1;32m----> 4\u001b[0m y_train_scaled \u001b[38;5;241m=\u001b[39m \u001b[43my_scaler\u001b[49m\u001b[38;5;241;43m.\u001b[39;49m\u001b[43mfit_transform\u001b[49m\u001b[43m(\u001b[49m\u001b[43my_train\u001b[49m\u001b[43m)\u001b[49m\n\u001b[0;32m      6\u001b[0m \u001b[38;5;66;03m# Algunas características del escalador\u001b[39;00m\n\u001b[0;32m      7\u001b[0m \u001b[38;5;28mprint\u001b[39m(\u001b[38;5;124m'\u001b[39m\u001b[38;5;124mCaracterísticas del escalador ajustado:\u001b[39m\u001b[38;5;124m'\u001b[39m)\n",
      "File \u001b[1;32mc:\\Users\\Edwin Reyes\\AppData\\Local\\Programs\\Python\\Python312\\Lib\\site-packages\\sklearn\\utils\\_set_output.py:316\u001b[0m, in \u001b[0;36m_wrap_method_output.<locals>.wrapped\u001b[1;34m(self, X, *args, **kwargs)\u001b[0m\n\u001b[0;32m    314\u001b[0m \u001b[38;5;129m@wraps\u001b[39m(f)\n\u001b[0;32m    315\u001b[0m \u001b[38;5;28;01mdef\u001b[39;00m \u001b[38;5;21mwrapped\u001b[39m(\u001b[38;5;28mself\u001b[39m, X, \u001b[38;5;241m*\u001b[39margs, \u001b[38;5;241m*\u001b[39m\u001b[38;5;241m*\u001b[39mkwargs):\n\u001b[1;32m--> 316\u001b[0m     data_to_wrap \u001b[38;5;241m=\u001b[39m \u001b[43mf\u001b[49m\u001b[43m(\u001b[49m\u001b[38;5;28;43mself\u001b[39;49m\u001b[43m,\u001b[49m\u001b[43m \u001b[49m\u001b[43mX\u001b[49m\u001b[43m,\u001b[49m\u001b[43m \u001b[49m\u001b[38;5;241;43m*\u001b[39;49m\u001b[43margs\u001b[49m\u001b[43m,\u001b[49m\u001b[43m \u001b[49m\u001b[38;5;241;43m*\u001b[39;49m\u001b[38;5;241;43m*\u001b[39;49m\u001b[43mkwargs\u001b[49m\u001b[43m)\u001b[49m\n\u001b[0;32m    317\u001b[0m     \u001b[38;5;28;01mif\u001b[39;00m \u001b[38;5;28misinstance\u001b[39m(data_to_wrap, \u001b[38;5;28mtuple\u001b[39m):\n\u001b[0;32m    318\u001b[0m         \u001b[38;5;66;03m# only wrap the first output for cross decomposition\u001b[39;00m\n\u001b[0;32m    319\u001b[0m         return_tuple \u001b[38;5;241m=\u001b[39m (\n\u001b[0;32m    320\u001b[0m             _wrap_data_with_container(method, data_to_wrap[\u001b[38;5;241m0\u001b[39m], X, \u001b[38;5;28mself\u001b[39m),\n\u001b[0;32m    321\u001b[0m             \u001b[38;5;241m*\u001b[39mdata_to_wrap[\u001b[38;5;241m1\u001b[39m:],\n\u001b[0;32m    322\u001b[0m         )\n",
      "File \u001b[1;32mc:\\Users\\Edwin Reyes\\AppData\\Local\\Programs\\Python\\Python312\\Lib\\site-packages\\sklearn\\base.py:1098\u001b[0m, in \u001b[0;36mTransformerMixin.fit_transform\u001b[1;34m(self, X, y, **fit_params)\u001b[0m\n\u001b[0;32m   1083\u001b[0m         warnings\u001b[38;5;241m.\u001b[39mwarn(\n\u001b[0;32m   1084\u001b[0m             (\n\u001b[0;32m   1085\u001b[0m                 \u001b[38;5;124mf\u001b[39m\u001b[38;5;124m\"\u001b[39m\u001b[38;5;124mThis object (\u001b[39m\u001b[38;5;132;01m{\u001b[39;00m\u001b[38;5;28mself\u001b[39m\u001b[38;5;241m.\u001b[39m\u001b[38;5;18m__class__\u001b[39m\u001b[38;5;241m.\u001b[39m\u001b[38;5;18m__name__\u001b[39m\u001b[38;5;132;01m}\u001b[39;00m\u001b[38;5;124m) has a `transform`\u001b[39m\u001b[38;5;124m\"\u001b[39m\n\u001b[1;32m   (...)\u001b[0m\n\u001b[0;32m   1093\u001b[0m             \u001b[38;5;167;01mUserWarning\u001b[39;00m,\n\u001b[0;32m   1094\u001b[0m         )\n\u001b[0;32m   1096\u001b[0m \u001b[38;5;28;01mif\u001b[39;00m y \u001b[38;5;129;01mis\u001b[39;00m \u001b[38;5;28;01mNone\u001b[39;00m:\n\u001b[0;32m   1097\u001b[0m     \u001b[38;5;66;03m# fit method of arity 1 (unsupervised transformation)\u001b[39;00m\n\u001b[1;32m-> 1098\u001b[0m     \u001b[38;5;28;01mreturn\u001b[39;00m \u001b[38;5;28;43mself\u001b[39;49m\u001b[38;5;241;43m.\u001b[39;49m\u001b[43mfit\u001b[49m\u001b[43m(\u001b[49m\u001b[43mX\u001b[49m\u001b[43m,\u001b[49m\u001b[43m \u001b[49m\u001b[38;5;241;43m*\u001b[39;49m\u001b[38;5;241;43m*\u001b[39;49m\u001b[43mfit_params\u001b[49m\u001b[43m)\u001b[49m\u001b[38;5;241m.\u001b[39mtransform(X)\n\u001b[0;32m   1099\u001b[0m \u001b[38;5;28;01melse\u001b[39;00m:\n\u001b[0;32m   1100\u001b[0m     \u001b[38;5;66;03m# fit method of arity 2 (supervised transformation)\u001b[39;00m\n\u001b[0;32m   1101\u001b[0m     \u001b[38;5;28;01mreturn\u001b[39;00m \u001b[38;5;28mself\u001b[39m\u001b[38;5;241m.\u001b[39mfit(X, y, \u001b[38;5;241m*\u001b[39m\u001b[38;5;241m*\u001b[39mfit_params)\u001b[38;5;241m.\u001b[39mtransform(X)\n",
      "File \u001b[1;32mc:\\Users\\Edwin Reyes\\AppData\\Local\\Programs\\Python\\Python312\\Lib\\site-packages\\sklearn\\preprocessing\\_data.py:450\u001b[0m, in \u001b[0;36mMinMaxScaler.fit\u001b[1;34m(self, X, y)\u001b[0m\n\u001b[0;32m    448\u001b[0m \u001b[38;5;66;03m# Reset internal state before fitting\u001b[39;00m\n\u001b[0;32m    449\u001b[0m \u001b[38;5;28mself\u001b[39m\u001b[38;5;241m.\u001b[39m_reset()\n\u001b[1;32m--> 450\u001b[0m \u001b[38;5;28;01mreturn\u001b[39;00m \u001b[38;5;28;43mself\u001b[39;49m\u001b[38;5;241;43m.\u001b[39;49m\u001b[43mpartial_fit\u001b[49m\u001b[43m(\u001b[49m\u001b[43mX\u001b[49m\u001b[43m,\u001b[49m\u001b[43m \u001b[49m\u001b[43my\u001b[49m\u001b[43m)\u001b[49m\n",
      "File \u001b[1;32mc:\\Users\\Edwin Reyes\\AppData\\Local\\Programs\\Python\\Python312\\Lib\\site-packages\\sklearn\\base.py:1473\u001b[0m, in \u001b[0;36m_fit_context.<locals>.decorator.<locals>.wrapper\u001b[1;34m(estimator, *args, **kwargs)\u001b[0m\n\u001b[0;32m   1466\u001b[0m     estimator\u001b[38;5;241m.\u001b[39m_validate_params()\n\u001b[0;32m   1468\u001b[0m \u001b[38;5;28;01mwith\u001b[39;00m config_context(\n\u001b[0;32m   1469\u001b[0m     skip_parameter_validation\u001b[38;5;241m=\u001b[39m(\n\u001b[0;32m   1470\u001b[0m         prefer_skip_nested_validation \u001b[38;5;129;01mor\u001b[39;00m global_skip_validation\n\u001b[0;32m   1471\u001b[0m     )\n\u001b[0;32m   1472\u001b[0m ):\n\u001b[1;32m-> 1473\u001b[0m     \u001b[38;5;28;01mreturn\u001b[39;00m \u001b[43mfit_method\u001b[49m\u001b[43m(\u001b[49m\u001b[43mestimator\u001b[49m\u001b[43m,\u001b[49m\u001b[43m \u001b[49m\u001b[38;5;241;43m*\u001b[39;49m\u001b[43margs\u001b[49m\u001b[43m,\u001b[49m\u001b[43m \u001b[49m\u001b[38;5;241;43m*\u001b[39;49m\u001b[38;5;241;43m*\u001b[39;49m\u001b[43mkwargs\u001b[49m\u001b[43m)\u001b[49m\n",
      "File \u001b[1;32mc:\\Users\\Edwin Reyes\\AppData\\Local\\Programs\\Python\\Python312\\Lib\\site-packages\\sklearn\\preprocessing\\_data.py:490\u001b[0m, in \u001b[0;36mMinMaxScaler.partial_fit\u001b[1;34m(self, X, y)\u001b[0m\n\u001b[0;32m    487\u001b[0m xp, _ \u001b[38;5;241m=\u001b[39m get_namespace(X)\n\u001b[0;32m    489\u001b[0m first_pass \u001b[38;5;241m=\u001b[39m \u001b[38;5;129;01mnot\u001b[39;00m \u001b[38;5;28mhasattr\u001b[39m(\u001b[38;5;28mself\u001b[39m, \u001b[38;5;124m\"\u001b[39m\u001b[38;5;124mn_samples_seen_\u001b[39m\u001b[38;5;124m\"\u001b[39m)\n\u001b[1;32m--> 490\u001b[0m X \u001b[38;5;241m=\u001b[39m \u001b[38;5;28;43mself\u001b[39;49m\u001b[38;5;241;43m.\u001b[39;49m\u001b[43m_validate_data\u001b[49m\u001b[43m(\u001b[49m\n\u001b[0;32m    491\u001b[0m \u001b[43m    \u001b[49m\u001b[43mX\u001b[49m\u001b[43m,\u001b[49m\n\u001b[0;32m    492\u001b[0m \u001b[43m    \u001b[49m\u001b[43mreset\u001b[49m\u001b[38;5;241;43m=\u001b[39;49m\u001b[43mfirst_pass\u001b[49m\u001b[43m,\u001b[49m\n\u001b[0;32m    493\u001b[0m \u001b[43m    \u001b[49m\u001b[43mdtype\u001b[49m\u001b[38;5;241;43m=\u001b[39;49m\u001b[43m_array_api\u001b[49m\u001b[38;5;241;43m.\u001b[39;49m\u001b[43msupported_float_dtypes\u001b[49m\u001b[43m(\u001b[49m\u001b[43mxp\u001b[49m\u001b[43m)\u001b[49m\u001b[43m,\u001b[49m\n\u001b[0;32m    494\u001b[0m \u001b[43m    \u001b[49m\u001b[43mforce_all_finite\u001b[49m\u001b[38;5;241;43m=\u001b[39;49m\u001b[38;5;124;43m\"\u001b[39;49m\u001b[38;5;124;43mallow-nan\u001b[39;49m\u001b[38;5;124;43m\"\u001b[39;49m\u001b[43m,\u001b[49m\n\u001b[0;32m    495\u001b[0m \u001b[43m\u001b[49m\u001b[43m)\u001b[49m\n\u001b[0;32m    497\u001b[0m data_min \u001b[38;5;241m=\u001b[39m _array_api\u001b[38;5;241m.\u001b[39m_nanmin(X, axis\u001b[38;5;241m=\u001b[39m\u001b[38;5;241m0\u001b[39m, xp\u001b[38;5;241m=\u001b[39mxp)\n\u001b[0;32m    498\u001b[0m data_max \u001b[38;5;241m=\u001b[39m _array_api\u001b[38;5;241m.\u001b[39m_nanmax(X, axis\u001b[38;5;241m=\u001b[39m\u001b[38;5;241m0\u001b[39m, xp\u001b[38;5;241m=\u001b[39mxp)\n",
      "File \u001b[1;32mc:\\Users\\Edwin Reyes\\AppData\\Local\\Programs\\Python\\Python312\\Lib\\site-packages\\sklearn\\base.py:633\u001b[0m, in \u001b[0;36mBaseEstimator._validate_data\u001b[1;34m(self, X, y, reset, validate_separately, cast_to_ndarray, **check_params)\u001b[0m\n\u001b[0;32m    631\u001b[0m         out \u001b[38;5;241m=\u001b[39m X, y\n\u001b[0;32m    632\u001b[0m \u001b[38;5;28;01melif\u001b[39;00m \u001b[38;5;129;01mnot\u001b[39;00m no_val_X \u001b[38;5;129;01mand\u001b[39;00m no_val_y:\n\u001b[1;32m--> 633\u001b[0m     out \u001b[38;5;241m=\u001b[39m \u001b[43mcheck_array\u001b[49m\u001b[43m(\u001b[49m\u001b[43mX\u001b[49m\u001b[43m,\u001b[49m\u001b[43m \u001b[49m\u001b[43minput_name\u001b[49m\u001b[38;5;241;43m=\u001b[39;49m\u001b[38;5;124;43m\"\u001b[39;49m\u001b[38;5;124;43mX\u001b[39;49m\u001b[38;5;124;43m\"\u001b[39;49m\u001b[43m,\u001b[49m\u001b[43m \u001b[49m\u001b[38;5;241;43m*\u001b[39;49m\u001b[38;5;241;43m*\u001b[39;49m\u001b[43mcheck_params\u001b[49m\u001b[43m)\u001b[49m\n\u001b[0;32m    634\u001b[0m \u001b[38;5;28;01melif\u001b[39;00m no_val_X \u001b[38;5;129;01mand\u001b[39;00m \u001b[38;5;129;01mnot\u001b[39;00m no_val_y:\n\u001b[0;32m    635\u001b[0m     out \u001b[38;5;241m=\u001b[39m _check_y(y, \u001b[38;5;241m*\u001b[39m\u001b[38;5;241m*\u001b[39mcheck_params)\n",
      "File \u001b[1;32mc:\\Users\\Edwin Reyes\\AppData\\Local\\Programs\\Python\\Python312\\Lib\\site-packages\\sklearn\\utils\\validation.py:1050\u001b[0m, in \u001b[0;36mcheck_array\u001b[1;34m(array, accept_sparse, accept_large_sparse, dtype, order, copy, force_writeable, force_all_finite, ensure_2d, allow_nd, ensure_min_samples, ensure_min_features, estimator, input_name)\u001b[0m\n\u001b[0;32m   1043\u001b[0m         \u001b[38;5;28;01melse\u001b[39;00m:\n\u001b[0;32m   1044\u001b[0m             msg \u001b[38;5;241m=\u001b[39m (\n\u001b[0;32m   1045\u001b[0m                 \u001b[38;5;124mf\u001b[39m\u001b[38;5;124m\"\u001b[39m\u001b[38;5;124mExpected 2D array, got 1D array instead:\u001b[39m\u001b[38;5;130;01m\\n\u001b[39;00m\u001b[38;5;124marray=\u001b[39m\u001b[38;5;132;01m{\u001b[39;00marray\u001b[38;5;132;01m}\u001b[39;00m\u001b[38;5;124m.\u001b[39m\u001b[38;5;130;01m\\n\u001b[39;00m\u001b[38;5;124m\"\u001b[39m\n\u001b[0;32m   1046\u001b[0m                 \u001b[38;5;124m\"\u001b[39m\u001b[38;5;124mReshape your data either using array.reshape(-1, 1) if \u001b[39m\u001b[38;5;124m\"\u001b[39m\n\u001b[0;32m   1047\u001b[0m                 \u001b[38;5;124m\"\u001b[39m\u001b[38;5;124myour data has a single feature or array.reshape(1, -1) \u001b[39m\u001b[38;5;124m\"\u001b[39m\n\u001b[0;32m   1048\u001b[0m                 \u001b[38;5;124m\"\u001b[39m\u001b[38;5;124mif it contains a single sample.\u001b[39m\u001b[38;5;124m\"\u001b[39m\n\u001b[0;32m   1049\u001b[0m             )\n\u001b[1;32m-> 1050\u001b[0m         \u001b[38;5;28;01mraise\u001b[39;00m \u001b[38;5;167;01mValueError\u001b[39;00m(msg)\n\u001b[0;32m   1052\u001b[0m \u001b[38;5;28;01mif\u001b[39;00m dtype_numeric \u001b[38;5;129;01mand\u001b[39;00m \u001b[38;5;28mhasattr\u001b[39m(array\u001b[38;5;241m.\u001b[39mdtype, \u001b[38;5;124m\"\u001b[39m\u001b[38;5;124mkind\u001b[39m\u001b[38;5;124m\"\u001b[39m) \u001b[38;5;129;01mand\u001b[39;00m array\u001b[38;5;241m.\u001b[39mdtype\u001b[38;5;241m.\u001b[39mkind \u001b[38;5;129;01min\u001b[39;00m \u001b[38;5;124m\"\u001b[39m\u001b[38;5;124mUSV\u001b[39m\u001b[38;5;124m\"\u001b[39m:\n\u001b[0;32m   1053\u001b[0m     \u001b[38;5;28;01mraise\u001b[39;00m \u001b[38;5;167;01mValueError\u001b[39;00m(\n\u001b[0;32m   1054\u001b[0m         \u001b[38;5;124m\"\u001b[39m\u001b[38;5;124mdtype=\u001b[39m\u001b[38;5;124m'\u001b[39m\u001b[38;5;124mnumeric\u001b[39m\u001b[38;5;124m'\u001b[39m\u001b[38;5;124m is not compatible with arrays of bytes/strings.\u001b[39m\u001b[38;5;124m\"\u001b[39m\n\u001b[0;32m   1055\u001b[0m         \u001b[38;5;124m\"\u001b[39m\u001b[38;5;124mConvert your data to numeric values explicitly instead.\u001b[39m\u001b[38;5;124m\"\u001b[39m\n\u001b[0;32m   1056\u001b[0m     )\n",
      "\u001b[1;31mValueError\u001b[0m: Expected a 2-dimensional container but got <class 'pandas.core.series.Series'> instead. Pass a DataFrame containing a single row (i.e. single sample) or a single column (i.e. single feature) instead."
     ]
    }
   ],
   "source": [
    "y_scaler = MinMaxScaler()\n",
    "\n",
    "# fit_transform: Calcular máximos/mínimos y escalar el set de entrenamiento\n",
    "y_train_scaled = y_scaler.fit_transform(y_train)\n",
    "\n",
    "# Algunas características del escalador\n",
    "print('Características del escalador ajustado:')\n",
    "print(y_scaler.data_min_) \n",
    "print(y_scaler.data_max_)\n",
    "\n",
    "# Resultado\n",
    "print('\\nResultado del escalamiento sobre \"y_train\":')\n",
    "print(f'Mínimos: {y_train_scaled.min(axis=0)}')\n",
    "print(f'Máximos: {y_train_scaled.max(axis=0)}')"
   ]
  },
  {
   "cell_type": "code",
   "execution_count": null,
   "metadata": {},
   "outputs": [],
   "source": []
  }
 ],
 "metadata": {
  "kernelspec": {
   "display_name": "Python 3",
   "language": "python",
   "name": "python3"
  },
  "language_info": {
   "codemirror_mode": {
    "name": "ipython",
    "version": 3
   },
   "file_extension": ".py",
   "mimetype": "text/x-python",
   "name": "python",
   "nbconvert_exporter": "python",
   "pygments_lexer": "ipython3",
   "version": "3.12.2"
  }
 },
 "nbformat": 4,
 "nbformat_minor": 2
}

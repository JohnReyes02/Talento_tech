{
 "cells": [
  {
   "cell_type": "markdown",
   "metadata": {},
   "source": [
    "# Taller Modelos de Predicción"
   ]
  },
  {
   "cell_type": "markdown",
   "metadata": {},
   "source": [
    "## Modelos sin Año y Mes"
   ]
  },
  {
   "cell_type": "markdown",
   "metadata": {},
   "source": [
    "### Exploramos el dataset"
   ]
  },
  {
   "cell_type": "code",
   "execution_count": 1,
   "metadata": {},
   "outputs": [],
   "source": [
    "# Importar librerías\n",
    "import pandas as pd\n",
    "import numpy as np\n",
    "import seaborn as sns\n",
    "import matplotlib.pyplot as plt"
   ]
  },
  {
   "cell_type": "code",
   "execution_count": 2,
   "metadata": {},
   "outputs": [],
   "source": [
    "# Lecura\n",
    "ruta = '../semana_5/turistas_cartagena_data.csv'\n",
    "data = pd.read_csv(ruta)"
   ]
  },
  {
   "cell_type": "code",
   "execution_count": 3,
   "metadata": {},
   "outputs": [
    {
     "name": "stdout",
     "output_type": "stream",
     "text": [
      "(500, 10)\n"
     ]
    },
    {
     "data": {
      "text/html": [
       "<div>\n",
       "<style scoped>\n",
       "    .dataframe tbody tr th:only-of-type {\n",
       "        vertical-align: middle;\n",
       "    }\n",
       "\n",
       "    .dataframe tbody tr th {\n",
       "        vertical-align: top;\n",
       "    }\n",
       "\n",
       "    .dataframe thead th {\n",
       "        text-align: right;\n",
       "    }\n",
       "</style>\n",
       "<table border=\"1\" class=\"dataframe\">\n",
       "  <thead>\n",
       "    <tr style=\"text-align: right;\">\n",
       "      <th></th>\n",
       "      <th>Fecha</th>\n",
       "      <th>Número de Visitantes</th>\n",
       "      <th>Temperatura Media (°C)</th>\n",
       "      <th>Precipitación (mm)</th>\n",
       "      <th>Eventos Especiales</th>\n",
       "      <th>Costo Promedio de Alojamiento (COP)</th>\n",
       "      <th>Tasa de Cambio (USD/COP)</th>\n",
       "      <th>Promociones de Turismo</th>\n",
       "      <th>Cantidad de Vuelos y Cruceros Disponibles</th>\n",
       "      <th>Ocupación Hotelera (%)</th>\n",
       "    </tr>\n",
       "  </thead>\n",
       "  <tbody>\n",
       "    <tr>\n",
       "      <th>0</th>\n",
       "      <td>1982-12</td>\n",
       "      <td>126958.0</td>\n",
       "      <td>27.6</td>\n",
       "      <td>195.4</td>\n",
       "      <td>0.0</td>\n",
       "      <td>252889.0</td>\n",
       "      <td>3076.77</td>\n",
       "      <td>0.0</td>\n",
       "      <td>74.0</td>\n",
       "      <td>88.0</td>\n",
       "    </tr>\n",
       "    <tr>\n",
       "      <th>1</th>\n",
       "      <td>1983-01</td>\n",
       "      <td>136932.0</td>\n",
       "      <td>27.6</td>\n",
       "      <td>248.9</td>\n",
       "      <td>0.0</td>\n",
       "      <td>268933.0</td>\n",
       "      <td>3231.50</td>\n",
       "      <td>1.0</td>\n",
       "      <td>103.0</td>\n",
       "      <td>98.4</td>\n",
       "    </tr>\n",
       "    <tr>\n",
       "      <th>2</th>\n",
       "      <td>1983-02</td>\n",
       "      <td>108694.0</td>\n",
       "      <td>30.7</td>\n",
       "      <td>61.9</td>\n",
       "      <td>1.0</td>\n",
       "      <td>113428.0</td>\n",
       "      <td>3478.34</td>\n",
       "      <td>0.0</td>\n",
       "      <td>205.0</td>\n",
       "      <td>72.0</td>\n",
       "    </tr>\n",
       "    <tr>\n",
       "      <th>3</th>\n",
       "      <td>1983-03</td>\n",
       "      <td>124879.0</td>\n",
       "      <td>31.6</td>\n",
       "      <td>3.3</td>\n",
       "      <td>0.0</td>\n",
       "      <td>275006.0</td>\n",
       "      <td>3925.80</td>\n",
       "      <td>0.0</td>\n",
       "      <td>122.0</td>\n",
       "      <td>63.9</td>\n",
       "    </tr>\n",
       "    <tr>\n",
       "      <th>4</th>\n",
       "      <td>1983-04</td>\n",
       "      <td>115268.0</td>\n",
       "      <td>31.9</td>\n",
       "      <td>41.1</td>\n",
       "      <td>0.0</td>\n",
       "      <td>346627.0</td>\n",
       "      <td>3400.98</td>\n",
       "      <td>0.0</td>\n",
       "      <td>169.0</td>\n",
       "      <td>89.9</td>\n",
       "    </tr>\n",
       "  </tbody>\n",
       "</table>\n",
       "</div>"
      ],
      "text/plain": [
       "     Fecha  Número de Visitantes  Temperatura Media (°C)  Precipitación (mm)  \\\n",
       "0  1982-12              126958.0                    27.6               195.4   \n",
       "1  1983-01              136932.0                    27.6               248.9   \n",
       "2  1983-02              108694.0                    30.7                61.9   \n",
       "3  1983-03              124879.0                    31.6                 3.3   \n",
       "4  1983-04              115268.0                    31.9                41.1   \n",
       "\n",
       "   Eventos Especiales  Costo Promedio de Alojamiento (COP)  \\\n",
       "0                 0.0                             252889.0   \n",
       "1                 0.0                             268933.0   \n",
       "2                 1.0                             113428.0   \n",
       "3                 0.0                             275006.0   \n",
       "4                 0.0                             346627.0   \n",
       "\n",
       "   Tasa de Cambio (USD/COP)  Promociones de Turismo  \\\n",
       "0                   3076.77                     0.0   \n",
       "1                   3231.50                     1.0   \n",
       "2                   3478.34                     0.0   \n",
       "3                   3925.80                     0.0   \n",
       "4                   3400.98                     0.0   \n",
       "\n",
       "   Cantidad de Vuelos y Cruceros Disponibles  Ocupación Hotelera (%)  \n",
       "0                                       74.0                    88.0  \n",
       "1                                      103.0                    98.4  \n",
       "2                                      205.0                    72.0  \n",
       "3                                      122.0                    63.9  \n",
       "4                                      169.0                    89.9  "
      ]
     },
     "execution_count": 3,
     "metadata": {},
     "output_type": "execute_result"
    }
   ],
   "source": [
    "print(data.shape)\n",
    "data.head()"
   ]
  },
  {
   "cell_type": "code",
   "execution_count": 4,
   "metadata": {},
   "outputs": [
    {
     "name": "stdout",
     "output_type": "stream",
     "text": [
      "<class 'pandas.core.frame.DataFrame'>\n",
      "RangeIndex: 500 entries, 0 to 499\n",
      "Data columns (total 10 columns):\n",
      " #   Column                                     Non-Null Count  Dtype  \n",
      "---  ------                                     --------------  -----  \n",
      " 0   Fecha                                      495 non-null    object \n",
      " 1   Número de Visitantes                       485 non-null    float64\n",
      " 2   Temperatura Media (°C)                     495 non-null    float64\n",
      " 3   Precipitación (mm)                         495 non-null    float64\n",
      " 4   Eventos Especiales                         495 non-null    float64\n",
      " 5   Costo Promedio de Alojamiento (COP)        495 non-null    float64\n",
      " 6   Tasa de Cambio (USD/COP)                   495 non-null    float64\n",
      " 7   Promociones de Turismo                     495 non-null    float64\n",
      " 8   Cantidad de Vuelos y Cruceros Disponibles  495 non-null    float64\n",
      " 9   Ocupación Hotelera (%)                     495 non-null    float64\n",
      "dtypes: float64(9), object(1)\n",
      "memory usage: 39.2+ KB\n"
     ]
    }
   ],
   "source": [
    "data.info()"
   ]
  },
  {
   "cell_type": "markdown",
   "metadata": {},
   "source": [
    "### Limpieza de datos"
   ]
  },
  {
   "cell_type": "markdown",
   "metadata": {},
   "source": [
    "#### Datos Faltantes"
   ]
  },
  {
   "cell_type": "code",
   "execution_count": 5,
   "metadata": {},
   "outputs": [
    {
     "name": "stdout",
     "output_type": "stream",
     "text": [
      "       Fecha  Número de Visitantes  Temperatura Media (°C)  \\\n",
      "6        NaN                   NaN                     NaN   \n",
      "7        NaN                   NaN                     NaN   \n",
      "8        NaN                   NaN                     NaN   \n",
      "9        NaN                   NaN                     NaN   \n",
      "10       NaN                   NaN                     NaN   \n",
      "12   1983-12                   NaN                    25.8   \n",
      "52   1987-03                   NaN                    28.2   \n",
      "57   1987-08                   NaN                    31.9   \n",
      "71   1988-10                   NaN                    31.1   \n",
      "114  1992-04                   NaN                    25.9   \n",
      "125  1993-03                   NaN                    28.1   \n",
      "140  1994-06                   NaN                    28.4   \n",
      "327  2009-10                   NaN                    30.7   \n",
      "377  2013-11                   NaN                    27.3   \n",
      "379  2014-01                   NaN                    25.0   \n",
      "\n",
      "     Precipitación (mm)  Eventos Especiales  \\\n",
      "6                   NaN                 NaN   \n",
      "7                   NaN                 NaN   \n",
      "8                   NaN                 NaN   \n",
      "9                   NaN                 NaN   \n",
      "10                  NaN                 NaN   \n",
      "12                125.6                 0.0   \n",
      "52                108.3                 0.0   \n",
      "57                133.8                 1.0   \n",
      "71                 11.8                 0.0   \n",
      "114               230.2                 0.0   \n",
      "125                33.1                 0.0   \n",
      "140               125.3                 0.0   \n",
      "327                87.5                 0.0   \n",
      "377                18.1                 0.0   \n",
      "379                47.9                 0.0   \n",
      "\n",
      "     Costo Promedio de Alojamiento (COP)  Tasa de Cambio (USD/COP)  \\\n",
      "6                                    NaN                       NaN   \n",
      "7                                    NaN                       NaN   \n",
      "8                                    NaN                       NaN   \n",
      "9                                    NaN                       NaN   \n",
      "10                                   NaN                       NaN   \n",
      "12                              355158.0                   2568.47   \n",
      "52                              432697.0                   2964.06   \n",
      "57                              384580.0                   3454.60   \n",
      "71                              364983.0                   2620.27   \n",
      "114                             166707.0                   3373.30   \n",
      "125                             390372.0                   2731.69   \n",
      "140                             260372.0                   2710.83   \n",
      "327                             457792.0                   2926.41   \n",
      "377                             150939.0                   3149.09   \n",
      "379                             287598.0                   2813.32   \n",
      "\n",
      "     Promociones de Turismo  Cantidad de Vuelos y Cruceros Disponibles  \\\n",
      "6                       NaN                                        NaN   \n",
      "7                       NaN                                        NaN   \n",
      "8                       NaN                                        NaN   \n",
      "9                       NaN                                        NaN   \n",
      "10                      NaN                                        NaN   \n",
      "12                      1.0                                      292.0   \n",
      "52                      0.0                                      222.0   \n",
      "57                      0.0                                      295.0   \n",
      "71                      1.0                                       89.0   \n",
      "114                     1.0                                      278.0   \n",
      "125                     0.0                                      183.0   \n",
      "140                     0.0                                      263.0   \n",
      "327                     0.0                                      188.0   \n",
      "377                     1.0                                      192.0   \n",
      "379                     0.0                                      253.0   \n",
      "\n",
      "     Ocupación Hotelera (%)  \n",
      "6                       NaN  \n",
      "7                       NaN  \n",
      "8                       NaN  \n",
      "9                       NaN  \n",
      "10                      NaN  \n",
      "12                     53.1  \n",
      "52                     74.6  \n",
      "57                     70.3  \n",
      "71                     68.6  \n",
      "114                    95.4  \n",
      "125                    91.4  \n",
      "140                    58.0  \n",
      "327                    83.1  \n",
      "377                    92.2  \n",
      "379                    75.7  \n"
     ]
    }
   ],
   "source": [
    "# Imprimir registros con valores nulos a lo ancho\n",
    "print(data[data.isnull().any(axis=1)])"
   ]
  },
  {
   "cell_type": "code",
   "execution_count": 6,
   "metadata": {},
   "outputs": [
    {
     "name": "stdout",
     "output_type": "stream",
     "text": [
      "Fecha                                         5\n",
      "Número de Visitantes                         15\n",
      "Temperatura Media (°C)                        5\n",
      "Precipitación (mm)                            5\n",
      "Eventos Especiales                            5\n",
      "Costo Promedio de Alojamiento (COP)           5\n",
      "Tasa de Cambio (USD/COP)                      5\n",
      "Promociones de Turismo                        5\n",
      "Cantidad de Vuelos y Cruceros Disponibles     5\n",
      "Ocupación Hotelera (%)                        5\n",
      "dtype: int64\n"
     ]
    }
   ],
   "source": [
    "# Ver valores nulos\n",
    "print(data.isnull().sum())"
   ]
  },
  {
   "cell_type": "code",
   "execution_count": 7,
   "metadata": {},
   "outputs": [
    {
     "name": "stdout",
     "output_type": "stream",
     "text": [
      "El tamaño del dataset antes de eliminar las filas vacías (500, 10)\n",
      "El tamaño del dataset despues de eliminar las filas vacías (495, 10)\n"
     ]
    }
   ],
   "source": [
    "# Eliminar las filas completamente vacías\n",
    "print(f'El tamaño del dataset antes de eliminar las filas vacías {data.shape}')\n",
    "data.dropna(how='all', inplace=True)\n",
    "print(f'El tamaño del dataset despues de eliminar las filas vacías {data.shape}')"
   ]
  },
  {
   "cell_type": "code",
   "execution_count": 8,
   "metadata": {},
   "outputs": [
    {
     "name": "stdout",
     "output_type": "stream",
     "text": [
      "<class 'pandas.core.frame.DataFrame'>\n",
      "Index: 495 entries, 0 to 499\n",
      "Data columns (total 10 columns):\n",
      " #   Column                                     Non-Null Count  Dtype  \n",
      "---  ------                                     --------------  -----  \n",
      " 0   Fecha                                      495 non-null    object \n",
      " 1   Número de Visitantes                       495 non-null    float64\n",
      " 2   Temperatura Media (°C)                     495 non-null    float64\n",
      " 3   Precipitación (mm)                         495 non-null    float64\n",
      " 4   Eventos Especiales                         495 non-null    float64\n",
      " 5   Costo Promedio de Alojamiento (COP)        495 non-null    float64\n",
      " 6   Tasa de Cambio (USD/COP)                   495 non-null    float64\n",
      " 7   Promociones de Turismo                     495 non-null    float64\n",
      " 8   Cantidad de Vuelos y Cruceros Disponibles  495 non-null    float64\n",
      " 9   Ocupación Hotelera (%)                     495 non-null    float64\n",
      "dtypes: float64(9), object(1)\n",
      "memory usage: 42.5+ KB\n"
     ]
    }
   ],
   "source": [
    "# Rellenar 'Número de Visitantes' con la media\n",
    "data['Número de Visitantes'] = data['Número de Visitantes'].fillna(data['Número de Visitantes'].mean())\n",
    "data.info()"
   ]
  },
  {
   "cell_type": "markdown",
   "metadata": {},
   "source": [
    "#### Eliminar duplicados"
   ]
  },
  {
   "cell_type": "code",
   "execution_count": 9,
   "metadata": {},
   "outputs": [
    {
     "data": {
      "text/html": [
       "<div>\n",
       "<style scoped>\n",
       "    .dataframe tbody tr th:only-of-type {\n",
       "        vertical-align: middle;\n",
       "    }\n",
       "\n",
       "    .dataframe tbody tr th {\n",
       "        vertical-align: top;\n",
       "    }\n",
       "\n",
       "    .dataframe thead th {\n",
       "        text-align: right;\n",
       "    }\n",
       "</style>\n",
       "<table border=\"1\" class=\"dataframe\">\n",
       "  <thead>\n",
       "    <tr style=\"text-align: right;\">\n",
       "      <th></th>\n",
       "      <th>Fecha</th>\n",
       "      <th>Número de Visitantes</th>\n",
       "      <th>Temperatura Media (°C)</th>\n",
       "      <th>Precipitación (mm)</th>\n",
       "      <th>Eventos Especiales</th>\n",
       "      <th>Costo Promedio de Alojamiento (COP)</th>\n",
       "      <th>Tasa de Cambio (USD/COP)</th>\n",
       "      <th>Promociones de Turismo</th>\n",
       "      <th>Cantidad de Vuelos y Cruceros Disponibles</th>\n",
       "      <th>Ocupación Hotelera (%)</th>\n",
       "    </tr>\n",
       "  </thead>\n",
       "  <tbody>\n",
       "  </tbody>\n",
       "</table>\n",
       "</div>"
      ],
      "text/plain": [
       "Empty DataFrame\n",
       "Columns: [Fecha, Número de Visitantes, Temperatura Media (°C), Precipitación (mm), Eventos Especiales, Costo Promedio de Alojamiento (COP), Tasa de Cambio (USD/COP), Promociones de Turismo, Cantidad de Vuelos y Cruceros Disponibles, Ocupación Hotelera (%)]\n",
       "Index: []"
      ]
     },
     "execution_count": 9,
     "metadata": {},
     "output_type": "execute_result"
    }
   ],
   "source": [
    "# Identificar filas duplicadas\n",
    "data[data.duplicated()]"
   ]
  },
  {
   "cell_type": "code",
   "execution_count": 10,
   "metadata": {},
   "outputs": [],
   "source": [
    "# Eliminar duplicados\n",
    "data.drop_duplicates(inplace=True)"
   ]
  },
  {
   "cell_type": "markdown",
   "metadata": {},
   "source": [
    "#### Verificar Columnas númericas"
   ]
  },
  {
   "cell_type": "code",
   "execution_count": 11,
   "metadata": {},
   "outputs": [
    {
     "data": {
      "text/html": [
       "<div>\n",
       "<style scoped>\n",
       "    .dataframe tbody tr th:only-of-type {\n",
       "        vertical-align: middle;\n",
       "    }\n",
       "\n",
       "    .dataframe tbody tr th {\n",
       "        vertical-align: top;\n",
       "    }\n",
       "\n",
       "    .dataframe thead th {\n",
       "        text-align: right;\n",
       "    }\n",
       "</style>\n",
       "<table border=\"1\" class=\"dataframe\">\n",
       "  <thead>\n",
       "    <tr style=\"text-align: right;\">\n",
       "      <th></th>\n",
       "      <th>Número de Visitantes</th>\n",
       "      <th>Temperatura Media (°C)</th>\n",
       "      <th>Precipitación (mm)</th>\n",
       "      <th>Eventos Especiales</th>\n",
       "      <th>Costo Promedio de Alojamiento (COP)</th>\n",
       "      <th>Tasa de Cambio (USD/COP)</th>\n",
       "      <th>Promociones de Turismo</th>\n",
       "      <th>Cantidad de Vuelos y Cruceros Disponibles</th>\n",
       "      <th>Ocupación Hotelera (%)</th>\n",
       "    </tr>\n",
       "  </thead>\n",
       "  <tbody>\n",
       "    <tr>\n",
       "      <th>count</th>\n",
       "      <td>495.000000</td>\n",
       "      <td>495.000000</td>\n",
       "      <td>495.000000</td>\n",
       "      <td>495.000000</td>\n",
       "      <td>495.000000</td>\n",
       "      <td>495.000000</td>\n",
       "      <td>495.000000</td>\n",
       "      <td>495.000000</td>\n",
       "      <td>495.000000</td>\n",
       "    </tr>\n",
       "    <tr>\n",
       "      <th>mean</th>\n",
       "      <td>79213.288660</td>\n",
       "      <td>28.427475</td>\n",
       "      <td>152.168485</td>\n",
       "      <td>0.187879</td>\n",
       "      <td>291329.464646</td>\n",
       "      <td>3228.464101</td>\n",
       "      <td>0.303030</td>\n",
       "      <td>177.006061</td>\n",
       "      <td>74.231717</td>\n",
       "    </tr>\n",
       "    <tr>\n",
       "      <th>std</th>\n",
       "      <td>42462.184309</td>\n",
       "      <td>2.038817</td>\n",
       "      <td>89.958267</td>\n",
       "      <td>0.391011</td>\n",
       "      <td>111495.245496</td>\n",
       "      <td>433.057422</td>\n",
       "      <td>0.460033</td>\n",
       "      <td>70.255966</td>\n",
       "      <td>14.271801</td>\n",
       "    </tr>\n",
       "    <tr>\n",
       "      <th>min</th>\n",
       "      <td>5769.000000</td>\n",
       "      <td>25.000000</td>\n",
       "      <td>-50.000000</td>\n",
       "      <td>0.000000</td>\n",
       "      <td>100781.000000</td>\n",
       "      <td>2500.200000</td>\n",
       "      <td>0.000000</td>\n",
       "      <td>50.000000</td>\n",
       "      <td>50.000000</td>\n",
       "    </tr>\n",
       "    <tr>\n",
       "      <th>25%</th>\n",
       "      <td>42284.500000</td>\n",
       "      <td>26.600000</td>\n",
       "      <td>70.000000</td>\n",
       "      <td>0.000000</td>\n",
       "      <td>196031.500000</td>\n",
       "      <td>2903.380000</td>\n",
       "      <td>0.000000</td>\n",
       "      <td>113.000000</td>\n",
       "      <td>61.850000</td>\n",
       "    </tr>\n",
       "    <tr>\n",
       "      <th>50%</th>\n",
       "      <td>81213.000000</td>\n",
       "      <td>28.400000</td>\n",
       "      <td>154.700000</td>\n",
       "      <td>0.000000</td>\n",
       "      <td>286987.000000</td>\n",
       "      <td>3214.660000</td>\n",
       "      <td>0.000000</td>\n",
       "      <td>181.000000</td>\n",
       "      <td>73.000000</td>\n",
       "    </tr>\n",
       "    <tr>\n",
       "      <th>75%</th>\n",
       "      <td>116688.000000</td>\n",
       "      <td>30.200000</td>\n",
       "      <td>230.800000</td>\n",
       "      <td>0.000000</td>\n",
       "      <td>383196.500000</td>\n",
       "      <td>3589.860000</td>\n",
       "      <td>1.000000</td>\n",
       "      <td>235.000000</td>\n",
       "      <td>87.050000</td>\n",
       "    </tr>\n",
       "    <tr>\n",
       "      <th>max</th>\n",
       "      <td>149572.000000</td>\n",
       "      <td>32.000000</td>\n",
       "      <td>299.400000</td>\n",
       "      <td>1.000000</td>\n",
       "      <td>499845.000000</td>\n",
       "      <td>3996.730000</td>\n",
       "      <td>1.000000</td>\n",
       "      <td>299.000000</td>\n",
       "      <td>100.000000</td>\n",
       "    </tr>\n",
       "  </tbody>\n",
       "</table>\n",
       "</div>"
      ],
      "text/plain": [
       "       Número de Visitantes  Temperatura Media (°C)  Precipitación (mm)  \\\n",
       "count            495.000000              495.000000          495.000000   \n",
       "mean           79213.288660               28.427475          152.168485   \n",
       "std            42462.184309                2.038817           89.958267   \n",
       "min             5769.000000               25.000000          -50.000000   \n",
       "25%            42284.500000               26.600000           70.000000   \n",
       "50%            81213.000000               28.400000          154.700000   \n",
       "75%           116688.000000               30.200000          230.800000   \n",
       "max           149572.000000               32.000000          299.400000   \n",
       "\n",
       "       Eventos Especiales  Costo Promedio de Alojamiento (COP)  \\\n",
       "count          495.000000                           495.000000   \n",
       "mean             0.187879                        291329.464646   \n",
       "std              0.391011                        111495.245496   \n",
       "min              0.000000                        100781.000000   \n",
       "25%              0.000000                        196031.500000   \n",
       "50%              0.000000                        286987.000000   \n",
       "75%              0.000000                        383196.500000   \n",
       "max              1.000000                        499845.000000   \n",
       "\n",
       "       Tasa de Cambio (USD/COP)  Promociones de Turismo  \\\n",
       "count                495.000000              495.000000   \n",
       "mean                3228.464101                0.303030   \n",
       "std                  433.057422                0.460033   \n",
       "min                 2500.200000                0.000000   \n",
       "25%                 2903.380000                0.000000   \n",
       "50%                 3214.660000                0.000000   \n",
       "75%                 3589.860000                1.000000   \n",
       "max                 3996.730000                1.000000   \n",
       "\n",
       "       Cantidad de Vuelos y Cruceros Disponibles  Ocupación Hotelera (%)  \n",
       "count                                 495.000000              495.000000  \n",
       "mean                                  177.006061               74.231717  \n",
       "std                                    70.255966               14.271801  \n",
       "min                                    50.000000               50.000000  \n",
       "25%                                   113.000000               61.850000  \n",
       "50%                                   181.000000               73.000000  \n",
       "75%                                   235.000000               87.050000  \n",
       "max                                   299.000000              100.000000  "
      ]
     },
     "execution_count": 11,
     "metadata": {},
     "output_type": "execute_result"
    }
   ],
   "source": [
    "data.describe()"
   ]
  },
  {
   "cell_type": "markdown",
   "metadata": {},
   "source": [
    "#### Outliers en variables numéricas"
   ]
  },
  {
   "cell_type": "markdown",
   "metadata": {},
   "source": [
    "Usamos gráficos de boxplots para identificar datos atípicos:"
   ]
  },
  {
   "cell_type": "code",
   "execution_count": 12,
   "metadata": {},
   "outputs": [
    {
     "data": {
      "image/png": "[encoded data removed]",
      "text/plain": [
       "<Figure size 1500x1200 with 9 Axes>"
      ]
     },
     "metadata": {},
     "output_type": "display_data"
    }
   ],
   "source": [
    "# Seleccionamos solo las columnas numericas\n",
    "cols_num = data.select_dtypes(exclude='object').columns \n",
    "\n",
    "fig, ax = plt.subplots(nrows=3, ncols=3, figsize=(15,12))\n",
    "fig.subplots_adjust(hspace=0.5, wspace=0.1)\n",
    "\n",
    "# Aplanar la matriz de ejes para un acceso más fácil\n",
    "ax = ax.flatten()\n",
    "\n",
    "# Graficamos un boxplot por cada una de las columnas\n",
    "for i, col in enumerate(cols_num):\n",
    "    sns.boxplot(x=col, data=data, ax=ax[i])\n",
    "    ax[i].set_title(col)\n",
    "\n",
    "plt.show()"
   ]
  },
  {
   "cell_type": "markdown",
   "metadata": {},
   "source": [
    "Observaciones:\n",
    "- `Precipitación mm` tiene valores por debajo de 0 mm\n",
    "\n",
    "Una precipitación negativa no tiene sentido, así que hay que corregir estos valores:"
   ]
  },
  {
   "cell_type": "code",
   "execution_count": 13,
   "metadata": {},
   "outputs": [],
   "source": [
    "# Reemplzar los valores de precipitacion menores de 0 por la media\n",
    "# Calcular el promedio solo con valores no negativos\n",
    "mean_value = data.loc[data['Precipitación (mm)'] >= 0, 'Precipitación (mm)'].mean()\n",
    "\n",
    "# Reemplazar los valores menores a 0 por el promedio corregido\n",
    "data.loc[data['Precipitación (mm)'] < 0, 'Precipitación (mm)'] = mean_value"
   ]
  },
  {
   "cell_type": "markdown",
   "metadata": {},
   "source": [
    "Guardamos el dataset limpio en un nuevo  archivo .csv:"
   ]
  },
  {
   "cell_type": "code",
   "execution_count": 14,
   "metadata": {},
   "outputs": [],
   "source": [
    "ruta = '../semana_5/turistas_cartagena_data_clean.csv'\n",
    "data.to_csv(ruta)"
   ]
  },
  {
   "cell_type": "markdown",
   "metadata": {},
   "source": [
    "### Modelo de regresión (predecir visitantes)"
   ]
  },
  {
   "cell_type": "code",
   "execution_count": 15,
   "metadata": {},
   "outputs": [],
   "source": [
    "RANDOM = 42"
   ]
  },
  {
   "cell_type": "code",
   "execution_count": 16,
   "metadata": {},
   "outputs": [
    {
     "data": {
      "text/html": [
       "<div>\n",
       "<style scoped>\n",
       "    .dataframe tbody tr th:only-of-type {\n",
       "        vertical-align: middle;\n",
       "    }\n",
       "\n",
       "    .dataframe tbody tr th {\n",
       "        vertical-align: top;\n",
       "    }\n",
       "\n",
       "    .dataframe thead th {\n",
       "        text-align: right;\n",
       "    }\n",
       "</style>\n",
       "<table border=\"1\" class=\"dataframe\">\n",
       "  <thead>\n",
       "    <tr style=\"text-align: right;\">\n",
       "      <th></th>\n",
       "      <th>Número de Visitantes</th>\n",
       "      <th>Temperatura Media (°C)</th>\n",
       "      <th>Precipitación (mm)</th>\n",
       "      <th>Eventos Especiales</th>\n",
       "      <th>Costo Promedio de Alojamiento (COP)</th>\n",
       "      <th>Tasa de Cambio (USD/COP)</th>\n",
       "      <th>Promociones de Turismo</th>\n",
       "      <th>Cantidad de Vuelos y Cruceros Disponibles</th>\n",
       "      <th>Ocupación Hotelera (%)</th>\n",
       "    </tr>\n",
       "  </thead>\n",
       "  <tbody>\n",
       "    <tr>\n",
       "      <th>max</th>\n",
       "      <td>149572.0</td>\n",
       "      <td>32.0</td>\n",
       "      <td>299.4</td>\n",
       "      <td>1.0</td>\n",
       "      <td>499845.0</td>\n",
       "      <td>3996.73</td>\n",
       "      <td>1.0</td>\n",
       "      <td>299.0</td>\n",
       "      <td>100.0</td>\n",
       "    </tr>\n",
       "    <tr>\n",
       "      <th>min</th>\n",
       "      <td>5769.0</td>\n",
       "      <td>25.0</td>\n",
       "      <td>1.5</td>\n",
       "      <td>0.0</td>\n",
       "      <td>100781.0</td>\n",
       "      <td>2500.20</td>\n",
       "      <td>0.0</td>\n",
       "      <td>50.0</td>\n",
       "      <td>50.0</td>\n",
       "    </tr>\n",
       "  </tbody>\n",
       "</table>\n",
       "</div>"
      ],
      "text/plain": [
       "     Número de Visitantes  Temperatura Media (°C)  Precipitación (mm)  \\\n",
       "max              149572.0                    32.0               299.4   \n",
       "min                5769.0                    25.0                 1.5   \n",
       "\n",
       "     Eventos Especiales  Costo Promedio de Alojamiento (COP)  \\\n",
       "max                 1.0                             499845.0   \n",
       "min                 0.0                             100781.0   \n",
       "\n",
       "     Tasa de Cambio (USD/COP)  Promociones de Turismo  \\\n",
       "max                   3996.73                     1.0   \n",
       "min                   2500.20                     0.0   \n",
       "\n",
       "     Cantidad de Vuelos y Cruceros Disponibles  Ocupación Hotelera (%)  \n",
       "max                                      299.0                   100.0  \n",
       "min                                       50.0                    50.0  "
      ]
     },
     "execution_count": 16,
     "metadata": {},
     "output_type": "execute_result"
    }
   ],
   "source": [
    "data.describe().loc[['max', 'min']]"
   ]
  },
  {
   "cell_type": "markdown",
   "metadata": {},
   "source": [
    "#### Dividir el conjunto de datos en entrenamiento y prueba"
   ]
  },
  {
   "cell_type": "code",
   "execution_count": 17,
   "metadata": {},
   "outputs": [
    {
     "data": {
      "text/html": [
       "<div>\n",
       "<style scoped>\n",
       "    .dataframe tbody tr th:only-of-type {\n",
       "        vertical-align: middle;\n",
       "    }\n",
       "\n",
       "    .dataframe tbody tr th {\n",
       "        vertical-align: top;\n",
       "    }\n",
       "\n",
       "    .dataframe thead th {\n",
       "        text-align: right;\n",
       "    }\n",
       "</style>\n",
       "<table border=\"1\" class=\"dataframe\">\n",
       "  <thead>\n",
       "    <tr style=\"text-align: right;\">\n",
       "      <th></th>\n",
       "      <th>Fecha</th>\n",
       "      <th>Número de Visitantes</th>\n",
       "      <th>Temperatura Media (°C)</th>\n",
       "      <th>Precipitación (mm)</th>\n",
       "      <th>Eventos Especiales</th>\n",
       "      <th>Costo Promedio de Alojamiento (COP)</th>\n",
       "      <th>Tasa de Cambio (USD/COP)</th>\n",
       "      <th>Promociones de Turismo</th>\n",
       "      <th>Cantidad de Vuelos y Cruceros Disponibles</th>\n",
       "      <th>Ocupación Hotelera (%)</th>\n",
       "    </tr>\n",
       "  </thead>\n",
       "  <tbody>\n",
       "    <tr>\n",
       "      <th>0</th>\n",
       "      <td>1982-12</td>\n",
       "      <td>126958.0</td>\n",
       "      <td>27.6</td>\n",
       "      <td>195.4</td>\n",
       "      <td>0.0</td>\n",
       "      <td>252889.0</td>\n",
       "      <td>3076.77</td>\n",
       "      <td>0.0</td>\n",
       "      <td>74.0</td>\n",
       "      <td>88.0</td>\n",
       "    </tr>\n",
       "    <tr>\n",
       "      <th>1</th>\n",
       "      <td>1983-01</td>\n",
       "      <td>136932.0</td>\n",
       "      <td>27.6</td>\n",
       "      <td>248.9</td>\n",
       "      <td>0.0</td>\n",
       "      <td>268933.0</td>\n",
       "      <td>3231.50</td>\n",
       "      <td>1.0</td>\n",
       "      <td>103.0</td>\n",
       "      <td>98.4</td>\n",
       "    </tr>\n",
       "    <tr>\n",
       "      <th>2</th>\n",
       "      <td>1983-02</td>\n",
       "      <td>108694.0</td>\n",
       "      <td>30.7</td>\n",
       "      <td>61.9</td>\n",
       "      <td>1.0</td>\n",
       "      <td>113428.0</td>\n",
       "      <td>3478.34</td>\n",
       "      <td>0.0</td>\n",
       "      <td>205.0</td>\n",
       "      <td>72.0</td>\n",
       "    </tr>\n",
       "    <tr>\n",
       "      <th>3</th>\n",
       "      <td>1983-03</td>\n",
       "      <td>124879.0</td>\n",
       "      <td>31.6</td>\n",
       "      <td>3.3</td>\n",
       "      <td>0.0</td>\n",
       "      <td>275006.0</td>\n",
       "      <td>3925.80</td>\n",
       "      <td>0.0</td>\n",
       "      <td>122.0</td>\n",
       "      <td>63.9</td>\n",
       "    </tr>\n",
       "    <tr>\n",
       "      <th>4</th>\n",
       "      <td>1983-04</td>\n",
       "      <td>115268.0</td>\n",
       "      <td>31.9</td>\n",
       "      <td>41.1</td>\n",
       "      <td>0.0</td>\n",
       "      <td>346627.0</td>\n",
       "      <td>3400.98</td>\n",
       "      <td>0.0</td>\n",
       "      <td>169.0</td>\n",
       "      <td>89.9</td>\n",
       "    </tr>\n",
       "  </tbody>\n",
       "</table>\n",
       "</div>"
      ],
      "text/plain": [
       "     Fecha  Número de Visitantes  Temperatura Media (°C)  Precipitación (mm)  \\\n",
       "0  1982-12              126958.0                    27.6               195.4   \n",
       "1  1983-01              136932.0                    27.6               248.9   \n",
       "2  1983-02              108694.0                    30.7                61.9   \n",
       "3  1983-03              124879.0                    31.6                 3.3   \n",
       "4  1983-04              115268.0                    31.9                41.1   \n",
       "\n",
       "   Eventos Especiales  Costo Promedio de Alojamiento (COP)  \\\n",
       "0                 0.0                             252889.0   \n",
       "1                 0.0                             268933.0   \n",
       "2                 1.0                             113428.0   \n",
       "3                 0.0                             275006.0   \n",
       "4                 0.0                             346627.0   \n",
       "\n",
       "   Tasa de Cambio (USD/COP)  Promociones de Turismo  \\\n",
       "0                   3076.77                     0.0   \n",
       "1                   3231.50                     1.0   \n",
       "2                   3478.34                     0.0   \n",
       "3                   3925.80                     0.0   \n",
       "4                   3400.98                     0.0   \n",
       "\n",
       "   Cantidad de Vuelos y Cruceros Disponibles  Ocupación Hotelera (%)  \n",
       "0                                       74.0                    88.0  \n",
       "1                                      103.0                    98.4  \n",
       "2                                      205.0                    72.0  \n",
       "3                                      122.0                    63.9  \n",
       "4                                      169.0                    89.9  "
      ]
     },
     "execution_count": 17,
     "metadata": {},
     "output_type": "execute_result"
    }
   ],
   "source": [
    "data.head()"
   ]
  },
  {
   "cell_type": "code",
   "execution_count": 18,
   "metadata": {},
   "outputs": [],
   "source": [
    "# Convertir 'Fecha' a tipo datetime y crear nuevas columnas\n",
    "data['Fecha'] = pd.to_datetime(data['Fecha'], format='%Y-%m')\n",
    "data['Año'] = data['Fecha'].dt.year\n",
    "data['Mes'] = data['Fecha'].dt.month"
   ]
  },
  {
   "cell_type": "code",
   "execution_count": 19,
   "metadata": {},
   "outputs": [
    {
     "data": {
      "text/plain": [
       "Index(['Fecha', 'Número de Visitantes', 'Temperatura Media (°C)',\n",
       "       'Precipitación (mm)', 'Eventos Especiales',\n",
       "       'Costo Promedio de Alojamiento (COP)', 'Tasa de Cambio (USD/COP)',\n",
       "       'Promociones de Turismo', 'Cantidad de Vuelos y Cruceros Disponibles',\n",
       "       'Ocupación Hotelera (%)', 'Año', 'Mes'],\n",
       "      dtype='object')"
      ]
     },
     "execution_count": 19,
     "metadata": {},
     "output_type": "execute_result"
    }
   ],
   "source": [
    "data.columns"
   ]
  },
  {
   "cell_type": "code",
   "execution_count": 20,
   "metadata": {},
   "outputs": [],
   "source": [
    "columnas_a_normalizar_m1 = [\n",
    "    'Temperatura Media (°C)',\n",
    "    'Precipitación (mm)',\n",
    "    'Costo Promedio de Alojamiento (COP)', \n",
    "    'Tasa de Cambio (USD/COP)',\n",
    "    'Cantidad de Vuelos y Cruceros Disponibles'\n",
    "]\n",
    "columnas_a_normalizar_m2 = [\n",
    "    'Temperatura Media (°C)',\n",
    "    'Precipitación (mm)',\n",
    "    'Costo Promedio de Alojamiento (COP)', \n",
    "    'Tasa de Cambio (USD/COP)',\n",
    "    'Cantidad de Vuelos y Cruceros Disponibles',\n",
    "    'Año',\n",
    "    'Mes'\n",
    "]\n",
    "\n",
    "X1 = data[columnas_a_normalizar_m1]\n",
    "X2 = data[columnas_a_normalizar_m2]\n",
    "y = data['Número de Visitantes'].to_numpy().reshape(-1, 1)"
   ]
  },
  {
   "cell_type": "code",
   "execution_count": 21,
   "metadata": {},
   "outputs": [
    {
     "name": "stdout",
     "output_type": "stream",
     "text": [
      "Resultados Modelo 1 sin Año y Mes\n",
      "Error cuadrático medio RMSE: 42146.73 (53.3%)\n",
      "\n",
      "Resultados Modelo 2 con Año y Mes\n",
      "Error cuadrático medio RMSE: 42174.88 (53.4%)\n"
     ]
    }
   ],
   "source": [
    "from sklearn.model_selection import train_test_split\n",
    "from sklearn.preprocessing import MinMaxScaler\n",
    "from sklearn.linear_model import LinearRegression\n",
    "from sklearn.metrics import mean_squared_error\n",
    "\n",
    "# Hacer train_test_split\n",
    "X1_train, X1_test, y_train, y_test = train_test_split(X1, y, test_size=0.2, random_state=RANDOM)\n",
    "X2_train, X2_test, y_train, y_test = train_test_split(X2, y, test_size=0.2, random_state=RANDOM)\n",
    "\n",
    "# Escalar las caracteristicas X\n",
    "x1_scaler = MinMaxScaler()\n",
    "x2_scaler = MinMaxScaler()\n",
    "\n",
    "X1_train_s = x1_scaler.fit_transform(X1_train)\n",
    "X1_test_s = x1_scaler.transform(X1_test)\n",
    "\n",
    "X2_train_s = x2_scaler.fit_transform(X2_train)\n",
    "X2_test_s = x2_scaler.transform(X2_test)\n",
    "\n",
    "# Escalar los datos de entrenamiento de salida\n",
    "y_scaler = MinMaxScaler()\n",
    "\n",
    "y_train_s = y_scaler.fit_transform(y_train)\n",
    "y_test_s = y_scaler.transform(y_test)\n",
    "\n",
    "# Crear el objeto de regresion lineal y entrenarlo con los datos escalados\n",
    "model_1 = LinearRegression()\n",
    "model_2 = LinearRegression()\n",
    "\n",
    "model_1.fit(X1_train_s, y_train_s)\n",
    "model_2.fit(X2_train_s, y_train_s)\n",
    "\n",
    "# Probar el modelo usando los datos de prueba\n",
    "y1_test_pred_s = model_1.predict(X1_test_s)\n",
    "y2_test_pred_s = model_2.predict(X2_test_s)\n",
    "\n",
    "y1_test_pred = y_scaler.inverse_transform(y1_test_pred_s)\n",
    "y2_test_pred = y_scaler.inverse_transform(y2_test_pred_s)\n",
    "\n",
    "# Calcular el error cuadratico medio\n",
    "mse_1 = mean_squared_error(y_test, y1_test_pred)\n",
    "mse_2 = mean_squared_error(y_test, y2_test_pred)\n",
    "\n",
    "rmse_1 = np.sqrt(mse_1)\n",
    "rmse_2 = np.sqrt(mse_2)\n",
    "\n",
    "# Imprimir el rmse en un formato facil de leer\n",
    "print(f'Resultados Modelo 1 sin Año y Mes')\n",
    "print(f'Error cuadrático medio RMSE: {rmse_1:.2f} ({rmse_1/np.mean(y1_test_pred) * 100:.1f}%)')\n",
    "\n",
    "print(f'\\nResultados Modelo 2 con Año y Mes')\n",
    "print(f'Error cuadrático medio RMSE: {rmse_2:.2f} ({rmse_2/np.mean(y2_test_pred) * 100:.1f}%)')\n",
    "\n"
   ]
  },
  {
   "cell_type": "code",
   "execution_count": 22,
   "metadata": {},
   "outputs": [
    {
     "name": "stdout",
     "output_type": "stream",
     "text": [
      "Modelo de determinación: 0.004122338567788986\n",
      "Modelo de determinación: 0.008377010613462188\n"
     ]
    }
   ],
   "source": [
    "# Calcular el coeficiente de determinacion\n",
    "score_1 = model_1.score(X1_train_s, y_train_s)\n",
    "print(f'Modelo de determinación: {score_1}')\n",
    "\n",
    "score_2 = model_2.score(X2_train_s, y_train_s)\n",
    "print(f'Modelo de determinación: {score_2}')\n"
   ]
  },
  {
   "cell_type": "markdown",
   "metadata": {},
   "source": [
    "### Modelo de Clasificación (Alta/Baja Ocupación Hotelera)"
   ]
  },
  {
   "cell_type": "markdown",
   "metadata": {},
   "source": [
    "#### Crear variable categórica"
   ]
  },
  {
   "cell_type": "code",
   "execution_count": 23,
   "metadata": {},
   "outputs": [
    {
     "data": {
      "text/html": [
       "<div>\n",
       "<style scoped>\n",
       "    .dataframe tbody tr th:only-of-type {\n",
       "        vertical-align: middle;\n",
       "    }\n",
       "\n",
       "    .dataframe tbody tr th {\n",
       "        vertical-align: top;\n",
       "    }\n",
       "\n",
       "    .dataframe thead th {\n",
       "        text-align: right;\n",
       "    }\n",
       "</style>\n",
       "<table border=\"1\" class=\"dataframe\">\n",
       "  <thead>\n",
       "    <tr style=\"text-align: right;\">\n",
       "      <th></th>\n",
       "      <th>Ocupación Hotelera (%)</th>\n",
       "      <th>Temporada</th>\n",
       "    </tr>\n",
       "  </thead>\n",
       "  <tbody>\n",
       "    <tr>\n",
       "      <th>0</th>\n",
       "      <td>88.0</td>\n",
       "      <td>Alta</td>\n",
       "    </tr>\n",
       "    <tr>\n",
       "      <th>1</th>\n",
       "      <td>98.4</td>\n",
       "      <td>Alta</td>\n",
       "    </tr>\n",
       "    <tr>\n",
       "      <th>2</th>\n",
       "      <td>72.0</td>\n",
       "      <td>Alta</td>\n",
       "    </tr>\n",
       "    <tr>\n",
       "      <th>3</th>\n",
       "      <td>63.9</td>\n",
       "      <td>Baja</td>\n",
       "    </tr>\n",
       "    <tr>\n",
       "      <th>4</th>\n",
       "      <td>89.9</td>\n",
       "      <td>Alta</td>\n",
       "    </tr>\n",
       "  </tbody>\n",
       "</table>\n",
       "</div>"
      ],
      "text/plain": [
       "   Ocupación Hotelera (%) Temporada\n",
       "0                    88.0      Alta\n",
       "1                    98.4      Alta\n",
       "2                    72.0      Alta\n",
       "3                    63.9      Baja\n",
       "4                    89.9      Alta"
      ]
     },
     "execution_count": 23,
     "metadata": {},
     "output_type": "execute_result"
    }
   ],
   "source": [
    "data['Temporada'] = data['Ocupación Hotelera (%)'].apply(lambda x: 'Alta' if x >= 70 else 'Baja')\n",
    "data[['Ocupación Hotelera (%)', 'Temporada']].head()"
   ]
  },
  {
   "cell_type": "code",
   "execution_count": 24,
   "metadata": {},
   "outputs": [
    {
     "data": {
      "text/html": [
       "<div>\n",
       "<style scoped>\n",
       "    .dataframe tbody tr th:only-of-type {\n",
       "        vertical-align: middle;\n",
       "    }\n",
       "\n",
       "    .dataframe tbody tr th {\n",
       "        vertical-align: top;\n",
       "    }\n",
       "\n",
       "    .dataframe thead th {\n",
       "        text-align: right;\n",
       "    }\n",
       "</style>\n",
       "<table border=\"1\" class=\"dataframe\">\n",
       "  <thead>\n",
       "    <tr style=\"text-align: right;\">\n",
       "      <th></th>\n",
       "      <th>Fecha</th>\n",
       "      <th>Número de Visitantes</th>\n",
       "      <th>Temperatura Media (°C)</th>\n",
       "      <th>Precipitación (mm)</th>\n",
       "      <th>Eventos Especiales</th>\n",
       "      <th>Costo Promedio de Alojamiento (COP)</th>\n",
       "      <th>Tasa de Cambio (USD/COP)</th>\n",
       "      <th>Promociones de Turismo</th>\n",
       "      <th>Cantidad de Vuelos y Cruceros Disponibles</th>\n",
       "      <th>Ocupación Hotelera (%)</th>\n",
       "      <th>Año</th>\n",
       "      <th>Mes</th>\n",
       "      <th>Temporada</th>\n",
       "    </tr>\n",
       "  </thead>\n",
       "  <tbody>\n",
       "    <tr>\n",
       "      <th>0</th>\n",
       "      <td>1982-12-01</td>\n",
       "      <td>126958.0</td>\n",
       "      <td>27.6</td>\n",
       "      <td>195.4</td>\n",
       "      <td>0.0</td>\n",
       "      <td>252889.0</td>\n",
       "      <td>3076.77</td>\n",
       "      <td>0.0</td>\n",
       "      <td>74.0</td>\n",
       "      <td>88.0</td>\n",
       "      <td>1982</td>\n",
       "      <td>12</td>\n",
       "      <td>Alta</td>\n",
       "    </tr>\n",
       "    <tr>\n",
       "      <th>1</th>\n",
       "      <td>1983-01-01</td>\n",
       "      <td>136932.0</td>\n",
       "      <td>27.6</td>\n",
       "      <td>248.9</td>\n",
       "      <td>0.0</td>\n",
       "      <td>268933.0</td>\n",
       "      <td>3231.50</td>\n",
       "      <td>1.0</td>\n",
       "      <td>103.0</td>\n",
       "      <td>98.4</td>\n",
       "      <td>1983</td>\n",
       "      <td>1</td>\n",
       "      <td>Alta</td>\n",
       "    </tr>\n",
       "    <tr>\n",
       "      <th>2</th>\n",
       "      <td>1983-02-01</td>\n",
       "      <td>108694.0</td>\n",
       "      <td>30.7</td>\n",
       "      <td>61.9</td>\n",
       "      <td>1.0</td>\n",
       "      <td>113428.0</td>\n",
       "      <td>3478.34</td>\n",
       "      <td>0.0</td>\n",
       "      <td>205.0</td>\n",
       "      <td>72.0</td>\n",
       "      <td>1983</td>\n",
       "      <td>2</td>\n",
       "      <td>Alta</td>\n",
       "    </tr>\n",
       "    <tr>\n",
       "      <th>3</th>\n",
       "      <td>1983-03-01</td>\n",
       "      <td>124879.0</td>\n",
       "      <td>31.6</td>\n",
       "      <td>3.3</td>\n",
       "      <td>0.0</td>\n",
       "      <td>275006.0</td>\n",
       "      <td>3925.80</td>\n",
       "      <td>0.0</td>\n",
       "      <td>122.0</td>\n",
       "      <td>63.9</td>\n",
       "      <td>1983</td>\n",
       "      <td>3</td>\n",
       "      <td>Baja</td>\n",
       "    </tr>\n",
       "    <tr>\n",
       "      <th>4</th>\n",
       "      <td>1983-04-01</td>\n",
       "      <td>115268.0</td>\n",
       "      <td>31.9</td>\n",
       "      <td>41.1</td>\n",
       "      <td>0.0</td>\n",
       "      <td>346627.0</td>\n",
       "      <td>3400.98</td>\n",
       "      <td>0.0</td>\n",
       "      <td>169.0</td>\n",
       "      <td>89.9</td>\n",
       "      <td>1983</td>\n",
       "      <td>4</td>\n",
       "      <td>Alta</td>\n",
       "    </tr>\n",
       "  </tbody>\n",
       "</table>\n",
       "</div>"
      ],
      "text/plain": [
       "       Fecha  Número de Visitantes  Temperatura Media (°C)  \\\n",
       "0 1982-12-01              126958.0                    27.6   \n",
       "1 1983-01-01              136932.0                    27.6   \n",
       "2 1983-02-01              108694.0                    30.7   \n",
       "3 1983-03-01              124879.0                    31.6   \n",
       "4 1983-04-01              115268.0                    31.9   \n",
       "\n",
       "   Precipitación (mm)  Eventos Especiales  \\\n",
       "0               195.4                 0.0   \n",
       "1               248.9                 0.0   \n",
       "2                61.9                 1.0   \n",
       "3                 3.3                 0.0   \n",
       "4                41.1                 0.0   \n",
       "\n",
       "   Costo Promedio de Alojamiento (COP)  Tasa de Cambio (USD/COP)  \\\n",
       "0                             252889.0                   3076.77   \n",
       "1                             268933.0                   3231.50   \n",
       "2                             113428.0                   3478.34   \n",
       "3                             275006.0                   3925.80   \n",
       "4                             346627.0                   3400.98   \n",
       "\n",
       "   Promociones de Turismo  Cantidad de Vuelos y Cruceros Disponibles  \\\n",
       "0                     0.0                                       74.0   \n",
       "1                     1.0                                      103.0   \n",
       "2                     0.0                                      205.0   \n",
       "3                     0.0                                      122.0   \n",
       "4                     0.0                                      169.0   \n",
       "\n",
       "   Ocupación Hotelera (%)   Año  Mes Temporada  \n",
       "0                    88.0  1982   12      Alta  \n",
       "1                    98.4  1983    1      Alta  \n",
       "2                    72.0  1983    2      Alta  \n",
       "3                    63.9  1983    3      Baja  \n",
       "4                    89.9  1983    4      Alta  "
      ]
     },
     "execution_count": 24,
     "metadata": {},
     "output_type": "execute_result"
    }
   ],
   "source": [
    "data.head()"
   ]
  },
  {
   "cell_type": "code",
   "execution_count": 25,
   "metadata": {},
   "outputs": [
    {
     "data": {
      "text/plain": [
       "Index(['Fecha', 'Número de Visitantes', 'Temperatura Media (°C)',\n",
       "       'Precipitación (mm)', 'Eventos Especiales',\n",
       "       'Costo Promedio de Alojamiento (COP)', 'Tasa de Cambio (USD/COP)',\n",
       "       'Promociones de Turismo', 'Cantidad de Vuelos y Cruceros Disponibles',\n",
       "       'Ocupación Hotelera (%)', 'Año', 'Mes', 'Temporada'],\n",
       "      dtype='object')"
      ]
     },
     "execution_count": 25,
     "metadata": {},
     "output_type": "execute_result"
    }
   ],
   "source": [
    "data.columns"
   ]
  },
  {
   "cell_type": "code",
   "execution_count": 26,
   "metadata": {},
   "outputs": [],
   "source": [
    "# Aplicar codificación asegurando que \"Alta\" sea 1 y \"Baja\" sea 0\n",
    "data[\"Temporada\"] = data[\"Temporada\"].map({\"Baja\": 0, \"Alta\": 1})\n",
    "\n",
    "X3 = data[columnas_a_normalizar_m1]\n",
    "X4 = data[columnas_a_normalizar_m2]\n",
    "y2 = data['Temporada'].to_numpy().reshape(-1, 1)"
   ]
  },
  {
   "cell_type": "code",
   "execution_count": 27,
   "metadata": {},
   "outputs": [
    {
     "name": "stdout",
     "output_type": "stream",
     "text": [
      "Resultados Modelo Clf_1 sin Año y Mes\n",
      "              precision    recall  f1-score   support\n",
      "\n",
      "           0       0.56      0.34      0.42        44\n",
      "           1       0.60      0.78      0.68        55\n",
      "\n",
      "    accuracy                           0.59        99\n",
      "   macro avg       0.58      0.56      0.55        99\n",
      "weighted avg       0.58      0.59      0.56        99\n",
      "\n",
      "\n",
      "\n",
      "Resultados Modelo Clf_2 con Año y Mes\n",
      "              precision    recall  f1-score   support\n",
      "\n",
      "           0       0.37      0.30      0.33        44\n",
      "           1       0.52      0.60      0.55        55\n",
      "\n",
      "    accuracy                           0.46        99\n",
      "   macro avg       0.44      0.45      0.44        99\n",
      "weighted avg       0.45      0.46      0.45        99\n",
      "\n"
     ]
    },
    {
     "name": "stderr",
     "output_type": "stream",
     "text": [
      "/Library/Frameworks/Python.framework/Versions/3.13/lib/python3.13/site-packages/sklearn/base.py:1389: DataConversionWarning: A column-vector y was passed when a 1d array was expected. Please change the shape of y to (n_samples,), for example using ravel().\n",
      "  return fit_method(estimator, *args, **kwargs)\n",
      "/Library/Frameworks/Python.framework/Versions/3.13/lib/python3.13/site-packages/sklearn/base.py:1389: DataConversionWarning: A column-vector y was passed when a 1d array was expected. Please change the shape of y to (n_samples,), for example using ravel().\n",
      "  return fit_method(estimator, *args, **kwargs)\n"
     ]
    }
   ],
   "source": [
    "from sklearn.ensemble import RandomForestClassifier\n",
    "from sklearn.metrics import accuracy_score, classification_report\n",
    "\n",
    "random_state = 42\n",
    "\n",
    "# Hacer train_test_split\n",
    "Xc1_train, Xc1_test, yc_train, yc_test = train_test_split(X3, y2, test_size=0.2, random_state=random_state)\n",
    "Xc2_train, Xc2_test, yc_train, yc_test = train_test_split(X4, y2, test_size=0.2, random_state=random_state)\n",
    "\n",
    "# Crear el modelo de clasificación con RandomForest (instancia)\n",
    "clf_1 = RandomForestClassifier(random_state=random_state, oob_score=True)\n",
    "clf_2 = RandomForestClassifier(random_state=random_state, oob_score=True)\n",
    "\n",
    "\n",
    "# Entrenar el modelo, no es necesario escalar los valores\n",
    "clf_1.fit(Xc1_train, yc_train)\n",
    "clf_2.fit(Xc2_train, yc_train)\n",
    "\n",
    "# Predicción del set de prueba\n",
    "yc1_test_pred = clf_1.predict(Xc1_test)\n",
    "yc2_test_pred = clf_2.predict(Xc2_test)\n",
    "\n",
    "# calcular la precision\n",
    "print(f'Resultados Modelo Clf_1 sin Año y Mes')\n",
    "# print(\"Accuracy:\", accuracy_score(yc_test, yc1_test_pred))\n",
    "# print(\"\\nReporte de Clasificación:\")\n",
    "print(classification_report(yc_test, yc1_test_pred))\n",
    "\n",
    "print(f'\\n\\nResultados Modelo Clf_2 con Año y Mes')\n",
    "# print(\"Accuracy:\", accuracy_score(yc_test, yc2_test_pred))\n",
    "# print(\"\\nReporte de Clasificación:\")\n",
    "print(classification_report(yc_test, yc2_test_pred))\n"
   ]
  },
  {
   "cell_type": "markdown",
   "metadata": {},
   "source": [
    "#### Evaluación del nivel de importancia de las características"
   ]
  },
  {
   "cell_type": "code",
   "execution_count": 28,
   "metadata": {},
   "outputs": [
    {
     "name": "stdout",
     "output_type": "stream",
     "text": [
      "\n",
      "Importancia de las Características sin Año y Mes:\n",
      "                                      Columna  Importancia\n",
      "1                         Precipitación (mm)     0.217055\n",
      "3                   Tasa de Cambio (USD/COP)     0.205328\n",
      "2        Costo Promedio de Alojamiento (COP)     0.205224\n",
      "4  Cantidad de Vuelos y Cruceros Disponibles     0.200271\n",
      "0                     Temperatura Media (°C)     0.172122\n",
      "\n",
      "Importancia de las Características con Año y Mes:\n",
      "                                      Columna  Importancia\n",
      "2        Costo Promedio de Alojamiento (COP)     0.163902\n",
      "3                   Tasa de Cambio (USD/COP)     0.156151\n",
      "1                         Precipitación (mm)     0.155981\n",
      "4  Cantidad de Vuelos y Cruceros Disponibles     0.148463\n",
      "0                     Temperatura Media (°C)     0.142863\n",
      "5                                        Año     0.139077\n",
      "6                                        Mes     0.093563\n"
     ]
    },
    {
     "data": {
      "image/png": "[encoded data removed]",
      "text/plain": [
       "<Figure size 1000x1200 with 2 Axes>"
      ]
     },
     "metadata": {},
     "output_type": "display_data"
    }
   ],
   "source": [
    "# Obtener importancias del primer clasificador\n",
    "importancias_1 = clf_1.feature_importances_\n",
    "nombres_columnas_1 = Xc1_train.columns\n",
    "importancia_caracteristicas_1 = pd.DataFrame({'Columna': nombres_columnas_1, 'Importancia': importancias_1})\n",
    "importancia_caracteristicas_1 = importancia_caracteristicas_1.sort_values('Importancia', ascending=False)\n",
    "\n",
    "print(\"\\nImportancia de las Características sin Año y Mes:\\n\", importancia_caracteristicas_1)\n",
    "\n",
    "# Obtener importancias del segundo clasificador\n",
    "importancias_2 = clf_2.feature_importances_\n",
    "nombres_columnas_2 = Xc2_train.columns\n",
    "importancia_caracteristicas_2 = pd.DataFrame({'Columna': nombres_columnas_2, 'Importancia': importancias_2})\n",
    "importancia_caracteristicas_2 = importancia_caracteristicas_2.sort_values('Importancia', ascending=False)\n",
    "\n",
    "print(\"\\nImportancia de las Características con Año y Mes:\\n\", importancia_caracteristicas_2)\n",
    "\n",
    "# Crear figura y ejes con 2 filas y 1 columna\n",
    "fig, axes = plt.subplots(2, 1, figsize=(10, 12))\n",
    "\n",
    "# Primera gráfica\n",
    "sns.barplot(ax=axes[0], x='Importancia', y='Columna', data=importancia_caracteristicas_1, \n",
    "            hue='Columna', palette=\"viridis\", legend=False)\n",
    "axes[0].set_title('Importancia de Características (sin Año y Mes)')\n",
    "axes[0].set_xlabel('Importancia')\n",
    "axes[0].set_ylabel('Columna')\n",
    "\n",
    "# Segunda gráfica\n",
    "sns.barplot(ax=axes[1], x='Importancia', y='Columna', data=importancia_caracteristicas_2, \n",
    "            hue='Columna', palette=\"viridis\", legend=False)\n",
    "axes[1].set_title('Importancia de Características (con Año y Mes)')\n",
    "axes[1].set_xlabel('Importancia')\n",
    "axes[1].set_ylabel('Columna')\n",
    "\n",
    "# Ajustar diseño para evitar superposición\n",
    "plt.tight_layout()\n",
    "plt.show()"
   ]
  },
  {
   "cell_type": "code",
   "execution_count": 29,
   "metadata": {},
   "outputs": [
    {
     "data": {
      "image/png": "[encoded data removed]",
      "text/plain": [
       "<Figure size 400x400 with 2 Axes>"
      ]
     },
     "metadata": {},
     "output_type": "display_data"
    },
    {
     "name": "stdout",
     "output_type": "stream",
     "text": [
      "              precision    recall  f1-score   support\n",
      "\n",
      "           0       0.56      0.34      0.42        44\n",
      "           1       0.60      0.78      0.68        55\n",
      "\n",
      "    accuracy                           0.59        99\n",
      "   macro avg       0.58      0.56      0.55        99\n",
      "weighted avg       0.58      0.59      0.56        99\n",
      "\n"
     ]
    }
   ],
   "source": [
    "from sklearn.metrics import confusion_matrix\n",
    "LABELS = ['Baja', 'Alta']\n",
    "\n",
    "conf_matrix = confusion_matrix(yc_test, yc1_test_pred)\n",
    "plt.figure(figsize=(4, 4))\n",
    "sns.heatmap(conf_matrix, xticklabels=LABELS, yticklabels=LABELS, annot=True, fmt=\"d\");\n",
    "plt.title(\"Confusion matrix\")\n",
    "plt.ylabel('True class')\n",
    "plt.xlabel('Predicted class')\n",
    "plt.show()\n",
    "\n",
    "print (classification_report(yc_test, yc1_test_pred))"
   ]
  },
  {
   "cell_type": "code",
   "execution_count": 30,
   "metadata": {},
   "outputs": [
    {
     "data": {
      "image/png": "[encoded data removed]",
      "text/plain": [
       "<Figure size 400x400 with 2 Axes>"
      ]
     },
     "metadata": {},
     "output_type": "display_data"
    },
    {
     "name": "stdout",
     "output_type": "stream",
     "text": [
      "              precision    recall  f1-score   support\n",
      "\n",
      "           0       0.37      0.30      0.33        44\n",
      "           1       0.52      0.60      0.55        55\n",
      "\n",
      "    accuracy                           0.46        99\n",
      "   macro avg       0.44      0.45      0.44        99\n",
      "weighted avg       0.45      0.46      0.45        99\n",
      "\n"
     ]
    }
   ],
   "source": [
    "conf_matrix = confusion_matrix(yc_test, yc2_test_pred)\n",
    "plt.figure(figsize=(4, 4))\n",
    "sns.heatmap(conf_matrix, xticklabels=LABELS, yticklabels=LABELS, annot=True, fmt=\"d\");\n",
    "plt.title(\"Confusion matrix\")\n",
    "plt.ylabel('True class')\n",
    "plt.xlabel('Predicted class')\n",
    "plt.show()\n",
    "\n",
    "print (classification_report(yc_test, yc2_test_pred))"
   ]
  },
  {
   "cell_type": "markdown",
   "metadata": {},
   "source": [
    "## Celdas de Resultados"
   ]
  },
  {
   "cell_type": "markdown",
   "metadata": {},
   "source": [
    "### Tablas comparativas"
   ]
  },
  {
   "cell_type": "markdown",
   "metadata": {},
   "source": [
    "#### Tabla comparación - Regresión"
   ]
  },
  {
   "cell_type": "code",
   "execution_count": null,
   "metadata": {},
   "outputs": [],
   "source": [
    "# print(f'Error sin Año y Mes MAE: {mae:.2f}')\n",
    "# print(f'Error con Año y Mes MAE: {mae_con:.2f}')\n",
    "# print(f'\\nError sin Año y Mes RMSE: {rmse:.2f}')\n",
    "# print(f'Error con Año y Mes RMSE: {rmse_con:.2f}')"
   ]
  },
  {
   "cell_type": "markdown",
   "metadata": {},
   "source": [
    "| **Métrica** | **Sin Año/Mes** | **Con Año/Mes** | **Mejoró?** |\n",
    "|-------|-----------|--------|----------|\n",
    "| **MAE** | 37270.58 | 37286.34 | No |\n",
    "| **RMSE** | 42076.54 | 42102.45 | No |\n",
    "| **% Error MAE** | 48.09% | 48.11% | No |\n",
    "| **% Error RMSE** | 54.29% | 54.33% | No |"
   ]
  },
  {
   "cell_type": "markdown",
   "metadata": {},
   "source": [
    "#### Tabla de comparación - Clasificación"
   ]
  },
  {
   "cell_type": "code",
   "execution_count": null,
   "metadata": {},
   "outputs": [],
   "source": [
    "# print(f'Accuracy sin Año y Mes: {accuracy_score(yc_test, yc_test_pred):.2f}')\n",
    "# print(f'Accuracy con Año y Mes: {accuracy_score(yc_test1, yc_test1_pred):.2f}')\n",
    "\n",
    "# print(\"\\nReporte de Clasificación sin Año y Mes:\")\n",
    "# print(classification_report(yc_test, yc_test_pred))\n",
    "# print(\"Reporte de Clasificación con Año y Mes:\")\n",
    "# print(classification_report(yc_test1, yc_test1_pred))"
   ]
  },
  {
   "cell_type": "markdown",
   "metadata": {},
   "source": [
    "| **Métrica** | **Sin Año/Mes** | **Con Año/Mes** | **Mejoró?** |\n",
    "|-------|-----------|--------|----------|\n",
    "| **Accuracy** | 0.51 | 0.55 | Si |\n",
    "| **F1-score(Alta)** | 0.61 | 0.63 | Si |\n",
    "| **F1-score(Baja)** | 0.31 | 0.42 | Si |\n",
    "| **Precision promedio** | 0.47 | 0.53 | Si |\n",
    "| **Recall promedio** | 0.48 | 0.53 | Si |"
   ]
  },
  {
   "cell_type": "markdown",
   "metadata": {},
   "source": [
    "### Refexión final"
   ]
  },
  {
   "cell_type": "markdown",
   "metadata": {},
   "source": [
    "1. Qué efecto tuvo la inclusión de Año y Mes en el modelo de regresión?\n",
    "\n",
    "- En el modelo de Regresión Lineal, incluir el Año y el Mes, no representó una mejora significativa en el rendimiento.\n",
    "\n",
    "2. Qué efecto tuvo en el modelo de clasificación?\n",
    "\n",
    "- En el modelo de clasificación con RandomForestClassifier, incluir el Año y el Mes tuvo una ligera mejora en el accuracy de 0.51 a 0.55 y también en el F1-score en las predicciones de temporada 'Alta' y 'Baja'.\n",
    "\n",
    "3. Por qué crees que ocurrió esa diferencia?\n",
    "\n",
    "- En el modelo de regresión lineal no hubo diferencia debido a su limitación para encontrar algunos patrones en el Año y el Mes. Es probable también que con las otras características ya se tuviera una buena predicciåón del número de visitantes.\n",
    "El modelo de clasificación RandomForesClassifier, al ser más robusto y no lineal pudo aprovechar un poco mejor los datos de Año y Mes. Adicionalmente la clasificación puede ser más sensible a valores de tiempo que la predicción nuérica en la regresión.\n",
    "\n",
    "4. En qué tipo de problemas reales crees que Año y Mes serían especialmente útiles?\n",
    "\n",
    "- Pueden ser útiles en problemas donde el objetivo se relaciona con la época o temporada. Algunos ejemplos podrían ser:\n",
    "    - Predicción de ventas: Ver que productos se venden más en época de vacaciones.\n",
    "    - Predicción de generación de energía solar: Ver en que meses del año se genera mayor cantidad de energía.\n",
    "    - Predicción del clima: Predecir temporada de vientos, lluvias o sequías.\n",
    "\n",
    "5. Qué aprendizaje te deja este ejercicio sobre el uso de variables temporales en Machine Learning?\n",
    "- Las variables temporales pueden ser útiles pero su utilidad depende del contexto de uso y el modelo utilizado.\n",
    "- Añadir información del tiempo, no siempre mejora el rendimiento del modelo.\n",
    "- El modelo Random Forest al ser mas robusto aprovecha de mejor manera los datos temporales.\n"
   ]
  }
 ],
 "metadata": {
  "kernelspec": {
   "display_name": "Python 3",
   "language": "python",
   "name": "python3"
  },
  "language_info": {
   "codemirror_mode": {
    "name": "ipython",
    "version": 3
   },
   "file_extension": ".py",
   "mimetype": "text/x-python",
   "name": "python",
   "nbconvert_exporter": "python",
   "pygments_lexer": "ipython3",
   "version": "3.13.1"
  }
 },
 "nbformat": 4,
 "nbformat_minor": 4
}

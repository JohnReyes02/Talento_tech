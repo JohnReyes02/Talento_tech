{
 "cells": [
  {
   "cell_type": "markdown",
   "metadata": {},
   "source": [
    "## Fases del análisis exploratorio de datos"
   ]
  },
  {
   "cell_type": "markdown",
   "metadata": {},
   "source": [
    "1. Pregunta a responder\n",
    "\n",
    "2. Generalidades del dataset\n",
    "    - Tamaño\n",
    "    - Características\n",
    "    - Registros\n",
    "\n",
    "3. Tipos de datos\n",
    "    - Variables Numéricas\n",
    "        - Discretos: Solo valores enteros\n",
    "        - Continuos: Cualquier valor en un intervalo\n",
    "    - Variables Categóricas\n",
    "        - Nominales: Etiquetar los datos, no ordenados, ni medidos\n",
    "        - Binarios: Una de dos posibles categorías\n",
    "        - Ordinales: Orden de la representación de los datos\n",
    "\n",
    "4. Estadística descriptiva\n",
    "    - Medidas de tendencia central\n",
    "        - Media\n",
    "        - Mediana\n",
    "    - Medidas de variabilidad\n",
    "        - Desviación estandar\n",
    "        - Rangos intercuartiles\n",
    "\n",
    "5. Visualización\n",
    "    - Histogramas: Para datos continuos y discretos\n",
    "        - Distribución Normal\n",
    "        - Distribución Sesgada\n",
    "\n",
    "    - Boxplot: Para datos continuos o discretos\n",
    "        - Identificar outliers\n",
    "\n",
    "    - Gráfico de barras\n",
    "        - Sirve para variables categóricas\n",
    "\n",
    "6. Interacciones\n",
    "    - Análisis Bivariado\n",
    "        - Compara pares de variables\n",
    "            - Dispercisión: Dos variables numericas\n",
    "            - Correlación\n",
    "            - Barras: Variable numerica con categorica\n",
    "            - Barras apiladas: Dos variables categoricas\n",
    "\n",
    "    - Análisis Multivariado\n",
    "        - Comparación de todas las variables de forma simultánea\n",
    "            - Heatmap: Matriz de correlación\n",
    "            - Pairplot\n",
    "\n",
    "7. Sumarización\n",
    "    - Conclusiones mas importantes\n",
    "        - Escribirlas como fases cortas"
   ]
  },
  {
   "cell_type": "code",
   "execution_count": null,
   "metadata": {},
   "outputs": [],
   "source": []
  }
 ],
 "metadata": {
  "kernelspec": {
   "display_name": "Python 3",
   "language": "python",
   "name": "python3"
  },
  "language_info": {
   "codemirror_mode": {
    "name": "ipython",
    "version": 3
   },
   "file_extension": ".py",
   "mimetype": "text/x-python",
   "name": "python",
   "nbconvert_exporter": "python",
   "pygments_lexer": "ipython3",
   "version": "3.13.1"
  }
 },
 "nbformat": 4,
 "nbformat_minor": 2
}
